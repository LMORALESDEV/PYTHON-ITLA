{
  "cells": [
    {
      "cell_type": "markdown",
      "metadata": {
        "id": "view-in-github",
        "colab_type": "text"
      },
      "source": [
        "<a href=\"https://colab.research.google.com/github/LMORALESDEV/PYTHON-ITLA/blob/main/0702_Errores_y_Manejo_de_Excepciones.ipynb\" target=\"_parent\"><img src=\"https://colab.research.google.com/assets/colab-badge.svg\" alt=\"Open In Colab\"/></a>"
      ]
    },
    {
      "cell_type": "markdown",
      "metadata": {
        "id": "qo6KcbdRNZ8o"
      },
      "source": [
        "#Indice\n",
        "\n",
        "1.   Errores en Python(Generando errores)\n",
        "2.   Gestión de Errores(Try, Except y Finally)\n",
        "\n"
      ]
    },
    {
      "cell_type": "markdown",
      "metadata": {
        "id": "oixGq48wNlCG"
      },
      "source": [
        "#Generando errores\n",
        "### Errores de sintaxis (SyntaxError)\n",
        "Son los que podemos apreciar repasando el código, por ejemplo al dejarnos de cerrar un paréntesis:"
      ]
    },
    {
      "cell_type": "code",
      "execution_count": null,
      "metadata": {
        "colab": {
          "base_uri": "https://localhost:8080/",
          "height": 106
        },
        "id": "p5MagvF0NlCK",
        "outputId": "51f8c298-4adb-46f6-d6c4-a5929b8b2f3e"
      },
      "outputs": [
        {
          "ename": "SyntaxError",
          "evalue": "incomplete input (<ipython-input-33-b05437ee445f>, line 1)",
          "output_type": "error",
          "traceback": [
            "\u001b[0;36m  File \u001b[0;32m\"<ipython-input-33-b05437ee445f>\"\u001b[0;36m, line \u001b[0;32m1\u001b[0m\n\u001b[0;31m    print(\"Hola\"\u001b[0m\n\u001b[0m                ^\u001b[0m\n\u001b[0;31mSyntaxError\u001b[0m\u001b[0;31m:\u001b[0m incomplete input\n"
          ]
        }
      ],
      "source": [
        "print(\"Hola\""
      ]
    },
    {
      "cell_type": "markdown",
      "metadata": {
        "id": "Xa3H3ZVUNlCM"
      },
      "source": [
        "### Errores de nombre (NameError)\n",
        "Se producen cuando el sistema interpreta que debe ejecutar alguna función, método... pero no lo encuentra definido:"
      ]
    },
    {
      "cell_type": "code",
      "execution_count": null,
      "metadata": {
        "colab": {
          "base_uri": "https://localhost:8080/",
          "height": 141
        },
        "id": "dCnCouTyNlCM",
        "outputId": "bfe72472-226c-4030-ff31-d9f9a8877de8"
      },
      "outputs": [
        {
          "ename": "NameError",
          "evalue": "name 'pint' is not defined",
          "output_type": "error",
          "traceback": [
            "\u001b[0;31m---------------------------------------------------------------------------\u001b[0m",
            "\u001b[0;31mNameError\u001b[0m                                 Traceback (most recent call last)",
            "\u001b[0;32m<ipython-input-34-2306e95e3727>\u001b[0m in \u001b[0;36m<cell line: 1>\u001b[0;34m()\u001b[0m\n\u001b[0;32m----> 1\u001b[0;31m \u001b[0mpint\u001b[0m\u001b[0;34m(\u001b[0m\u001b[0;34m\"Hola\"\u001b[0m\u001b[0;34m)\u001b[0m\u001b[0;34m\u001b[0m\u001b[0;34m\u001b[0m\u001b[0m\n\u001b[0m",
            "\u001b[0;31mNameError\u001b[0m: name 'pint' is not defined"
          ]
        }
      ],
      "source": [
        "pint(\"Hola\")"
      ]
    },
    {
      "cell_type": "markdown",
      "metadata": {
        "id": "NuuQFZBWNlCM"
      },
      "source": [
        "#### La mayoría de errores de sintácticos los identifica Python antes de ejecutar el código y nos avisa de que debemos arreglarlos.\n",
        "\n",
        "Sin embargo existen otro tipo de errores que pasan desapercibidos...\n",
        "\n",
        "## Los errores semánticos\n",
        "Son muy difíciles de identificar, ya que van ligados al sentido del funcionamiento y dependen de la situación. Algunas veces pueden ocurrir y otras no.\n",
        "\n",
        "Cuanta más experiencia como programador tengas, y más te hayas equivocado, más aprenderás a avanzarte a los errores semánticos.\n",
        "\n",
        "### Ejemplo pop() con lista vacía:"
      ]
    },
    {
      "cell_type": "code",
      "execution_count": null,
      "metadata": {
        "collapsed": true,
        "id": "0soqIT-CNlCN"
      },
      "outputs": [],
      "source": [
        "lista = [1,2,3]"
      ]
    },
    {
      "cell_type": "code",
      "execution_count": null,
      "metadata": {
        "colab": {
          "base_uri": "https://localhost:8080/"
        },
        "id": "EiUoTPGvNlCN",
        "outputId": "85d310b9-0a3a-4b52-fb56-4b55a281ad07"
      },
      "outputs": [
        {
          "output_type": "execute_result",
          "data": {
            "text/plain": [
              "1"
            ]
          },
          "metadata": {},
          "execution_count": 2
        }
      ],
      "source": [
        "lista.pop()\n",
        "lista.pop()\n",
        "lista.pop()"
      ]
    },
    {
      "cell_type": "code",
      "execution_count": null,
      "metadata": {
        "colab": {
          "base_uri": "https://localhost:8080/"
        },
        "id": "IjpFQROPNlCO",
        "outputId": "fd3e79ec-6cea-40a5-8c89-a8761fe8823a"
      },
      "outputs": [
        {
          "output_type": "execute_result",
          "data": {
            "text/plain": [
              "[]"
            ]
          },
          "metadata": {},
          "execution_count": 3
        }
      ],
      "source": [
        "lista"
      ]
    },
    {
      "cell_type": "code",
      "execution_count": null,
      "metadata": {
        "colab": {
          "base_uri": "https://localhost:8080/",
          "height": 141
        },
        "id": "vjYO2suINlCO",
        "outputId": "2058eb65-128f-4444-fbc1-b2c29d36f1f3"
      },
      "outputs": [
        {
          "output_type": "error",
          "ename": "IndexError",
          "evalue": "pop from empty list",
          "traceback": [
            "\u001b[0;31m---------------------------------------------------------------------------\u001b[0m",
            "\u001b[0;31mIndexError\u001b[0m                                Traceback (most recent call last)",
            "\u001b[0;32m<ipython-input-4-79950710>\u001b[0m in \u001b[0;36m<cell line: 0>\u001b[0;34m()\u001b[0m\n\u001b[0;32m----> 1\u001b[0;31m \u001b[0mlista\u001b[0m\u001b[0;34m.\u001b[0m\u001b[0mpop\u001b[0m\u001b[0;34m(\u001b[0m\u001b[0;34m)\u001b[0m\u001b[0;34m\u001b[0m\u001b[0;34m\u001b[0m\u001b[0m\n\u001b[0m",
            "\u001b[0;31mIndexError\u001b[0m: pop from empty list"
          ]
        }
      ],
      "source": [
        "lista.pop()"
      ]
    },
    {
      "cell_type": "markdown",
      "metadata": {
        "id": "H59xOc25NlCO"
      },
      "source": [
        "#### Prevención utilizando comprobación con len() > 0"
      ]
    },
    {
      "cell_type": "code",
      "execution_count": null,
      "metadata": {
        "collapsed": true,
        "id": "HQJ9VyKxNlCP"
      },
      "outputs": [],
      "source": [
        "lista = [1,2,3]"
      ]
    },
    {
      "cell_type": "code",
      "execution_count": null,
      "metadata": {
        "collapsed": true,
        "id": "zfcO5tZ2NlCP"
      },
      "outputs": [],
      "source": [
        "if len(lista) > 0:\n",
        "    lista.pop()"
      ]
    },
    {
      "cell_type": "code",
      "execution_count": null,
      "metadata": {
        "colab": {
          "base_uri": "https://localhost:8080/"
        },
        "id": "bqAHotK6NlCP",
        "outputId": "6115d822-0438-43c3-faa7-8a2d8e046f6b"
      },
      "outputs": [
        {
          "output_type": "execute_result",
          "data": {
            "text/plain": [
              "[]"
            ]
          },
          "metadata": {},
          "execution_count": 17
        }
      ],
      "source": [
        "lista"
      ]
    },
    {
      "cell_type": "markdown",
      "metadata": {
        "id": "8ZaBbCUpNlCP"
      },
      "source": [
        "### Ejemplo lectura de cadena por teclado y operación de resultado sin conversión a número"
      ]
    },
    {
      "cell_type": "code",
      "execution_count": null,
      "metadata": {
        "colab": {
          "base_uri": "https://localhost:8080/"
        },
        "id": "9x0yR-WrNlCQ",
        "outputId": "a44bcaec-f6cb-4ea6-9305-572340d11f84"
      },
      "outputs": [
        {
          "name": "stdout",
          "output_type": "stream",
          "text": [
            "Introduce un número: 4\n"
          ]
        }
      ],
      "source": [
        "n = input(\"Introduce un número: \")\n",
        "m = 10"
      ]
    },
    {
      "cell_type": "code",
      "execution_count": null,
      "metadata": {
        "colab": {
          "base_uri": "https://localhost:8080/",
          "height": 141
        },
        "id": "m7Luqjz-NlCQ",
        "outputId": "0d787769-9a7d-4d83-9d7b-023740a3f04c"
      },
      "outputs": [
        {
          "output_type": "error",
          "ename": "TypeError",
          "evalue": "unsupported operand type(s) for /: 'str' and 'int'",
          "traceback": [
            "\u001b[0;31m---------------------------------------------------------------------------\u001b[0m",
            "\u001b[0;31mTypeError\u001b[0m                                 Traceback (most recent call last)",
            "\u001b[0;32m<ipython-input-19-2779514658>\u001b[0m in \u001b[0;36m<cell line: 0>\u001b[0;34m()\u001b[0m\n\u001b[0;32m----> 1\u001b[0;31m \u001b[0mprint\u001b[0m\u001b[0;34m(\u001b[0m\u001b[0mn\u001b[0m\u001b[0;34m/\u001b[0m\u001b[0mm\u001b[0m\u001b[0;34m)\u001b[0m\u001b[0;34m\u001b[0m\u001b[0;34m\u001b[0m\u001b[0m\n\u001b[0m",
            "\u001b[0;31mTypeError\u001b[0m: unsupported operand type(s) for /: 'str' and 'int'"
          ]
        }
      ],
      "source": [
        "print(n/m)"
      ]
    },
    {
      "cell_type": "markdown",
      "metadata": {
        "id": "5_DgCYWoNlCQ"
      },
      "source": [
        "#### Prevención haciendo una conversión a flotante"
      ]
    },
    {
      "cell_type": "code",
      "execution_count": null,
      "metadata": {
        "colab": {
          "base_uri": "https://localhost:8080/"
        },
        "id": "prY7KkElNlCQ",
        "outputId": "33f045d7-5943-4668-842b-ca2104851406"
      },
      "outputs": [
        {
          "output_type": "stream",
          "name": "stdout",
          "text": [
            "Introduce un número: 5\n",
            "1.25\n"
          ]
        }
      ],
      "source": [
        "n = float(input(\"Introduce un número: \"))\n",
        "m = 4\n",
        "print(n/m)"
      ]
    },
    {
      "cell_type": "markdown",
      "metadata": {
        "id": "f6OgXWzvNlCR"
      },
      "source": [
        "#### Sin embargo en algunas ocasiones no podemos prevenir el error, como cuando se introduce una cadena:"
      ]
    },
    {
      "cell_type": "code",
      "execution_count": null,
      "metadata": {
        "colab": {
          "base_uri": "https://localhost:8080/",
          "height": 193
        },
        "id": "VDHoaWBaNlCR",
        "outputId": "a0e52a1f-8a79-405f-8972-9170a6ef79a7"
      },
      "outputs": [
        {
          "name": "stdout",
          "output_type": "stream",
          "text": [
            "Introduce un número: ws\n"
          ]
        },
        {
          "output_type": "error",
          "ename": "ValueError",
          "evalue": "could not convert string to float: 'ws'",
          "traceback": [
            "\u001b[0;31m---------------------------------------------------------------------------\u001b[0m",
            "\u001b[0;31mValueError\u001b[0m                                Traceback (most recent call last)",
            "\u001b[0;32m<ipython-input-21-3479535864>\u001b[0m in \u001b[0;36m<cell line: 0>\u001b[0;34m()\u001b[0m\n\u001b[0;32m----> 1\u001b[0;31m \u001b[0mn\u001b[0m \u001b[0;34m=\u001b[0m \u001b[0mfloat\u001b[0m\u001b[0;34m(\u001b[0m\u001b[0minput\u001b[0m\u001b[0;34m(\u001b[0m\u001b[0;34m\"Introduce un número: \"\u001b[0m\u001b[0;34m)\u001b[0m\u001b[0;34m)\u001b[0m\u001b[0;34m\u001b[0m\u001b[0;34m\u001b[0m\u001b[0m\n\u001b[0m\u001b[1;32m      2\u001b[0m \u001b[0mm\u001b[0m \u001b[0;34m=\u001b[0m \u001b[0;36m4\u001b[0m\u001b[0;34m\u001b[0m\u001b[0;34m\u001b[0m\u001b[0m\n\u001b[1;32m      3\u001b[0m \u001b[0mprint\u001b[0m\u001b[0;34m(\u001b[0m\u001b[0mn\u001b[0m\u001b[0;34m/\u001b[0m\u001b[0mm\u001b[0m\u001b[0;34m)\u001b[0m\u001b[0;34m\u001b[0m\u001b[0;34m\u001b[0m\u001b[0m\n",
            "\u001b[0;31mValueError\u001b[0m: could not convert string to float: 'ws'"
          ]
        }
      ],
      "source": [
        "n = float(input(\"Introduce un número: \"))\n",
        "m = 4\n",
        "print(n/m)"
      ]
    },
    {
      "cell_type": "markdown",
      "metadata": {
        "collapsed": true,
        "id": "OiIB-go1NlCR"
      },
      "source": [
        "## En situaciones asi, donde no es un error semántico o sintáctico, para prevenir estos casos existen las **EXCEPCIONES**"
      ]
    },
    {
      "cell_type": "markdown",
      "metadata": {
        "id": "dnGOsSHeip7l"
      },
      "source": [
        "#SINTAXIS PARA MANEJAR EXCEPCIONES\n",
        "TRY, EXCEPT, ELSE y FINALLY"
      ]
    },
    {
      "cell_type": "markdown",
      "metadata": {
        "id": "XCWrEmcEetge"
      },
      "source": [
        "# **Las excepciones**\n",
        "Son bloques de código excepcionales que nos permiten continuar con la ejecución de un programa pese a que ocurra un error.\n"
      ]
    },
    {
      "cell_type": "code",
      "execution_count": null,
      "metadata": {
        "id": "J1hBJ_w9i37K"
      },
      "outputs": [],
      "source": [
        "try:\n",
        "    #Codigo proprenso a errores o equivocaciones\n",
        "    a = 2\n",
        "    b = 2\n",
        "    suma = a + b\n",
        "except:\n",
        "    #Codigo o error o notificación que se generar si ocurre un error en el try\n",
        "    print(\"Ha ocurrido un error, introduce bien el número\")\n",
        "else:\n",
        "    #Codigo o error o notificación que se generar si el codigo(try) funciona correctamente\n",
        "    print(\"Todo ha funcionado correctamente\")\n",
        "finally:\n",
        "    #Codigo o error o notificación que se generara sin importar el resultado, siempre se ejecuta\n",
        "    print(\"Fin revisión del error\")\n",
        "\n",
        "\n"
      ]
    },
    {
      "cell_type": "markdown",
      "metadata": {
        "id": "z0PJUEzZ-jAY"
      },
      "source": [
        "### Siguiendo con el ejemplo anterior\n",
        "Teníamos el caso en que leíamos un número por teclado, pero el usuario no introducía un número:"
      ]
    },
    {
      "cell_type": "code",
      "execution_count": null,
      "metadata": {
        "colab": {
          "base_uri": "https://localhost:8080/",
          "height": 193
        },
        "id": "EKokQlHxemf6",
        "outputId": "25e9d48e-31fb-44cf-cdb8-e915cf9707e9"
      },
      "outputs": [
        {
          "name": "stdout",
          "output_type": "stream",
          "text": [
            "Introduce un número: A\n"
          ]
        },
        {
          "output_type": "error",
          "ename": "ValueError",
          "evalue": "could not convert string to float: 'A'",
          "traceback": [
            "\u001b[0;31m---------------------------------------------------------------------------\u001b[0m",
            "\u001b[0;31mValueError\u001b[0m                                Traceback (most recent call last)",
            "\u001b[0;32m<ipython-input-22-3479535864>\u001b[0m in \u001b[0;36m<cell line: 0>\u001b[0;34m()\u001b[0m\n\u001b[0;32m----> 1\u001b[0;31m \u001b[0mn\u001b[0m \u001b[0;34m=\u001b[0m \u001b[0mfloat\u001b[0m\u001b[0;34m(\u001b[0m\u001b[0minput\u001b[0m\u001b[0;34m(\u001b[0m\u001b[0;34m\"Introduce un número: \"\u001b[0m\u001b[0;34m)\u001b[0m\u001b[0;34m)\u001b[0m\u001b[0;34m\u001b[0m\u001b[0;34m\u001b[0m\u001b[0m\n\u001b[0m\u001b[1;32m      2\u001b[0m \u001b[0mm\u001b[0m \u001b[0;34m=\u001b[0m \u001b[0;36m4\u001b[0m\u001b[0;34m\u001b[0m\u001b[0;34m\u001b[0m\u001b[0m\n\u001b[1;32m      3\u001b[0m \u001b[0mprint\u001b[0m\u001b[0;34m(\u001b[0m\u001b[0mn\u001b[0m\u001b[0;34m/\u001b[0m\u001b[0mm\u001b[0m\u001b[0;34m)\u001b[0m\u001b[0;34m\u001b[0m\u001b[0;34m\u001b[0m\u001b[0m\n",
            "\u001b[0;31mValueError\u001b[0m: could not convert string to float: 'A'"
          ]
        }
      ],
      "source": [
        "n = float(input(\"Introduce un número: \"))\n",
        "m = 4\n",
        "print(n/m)"
      ]
    },
    {
      "cell_type": "markdown",
      "metadata": {
        "id": "aR8uZdudemf8"
      },
      "source": [
        "### Creando la excepción con los bloques TRY y EXCEPT\n",
        "Para prevenir el error, debemos poner el código propenso a error en un bloque **try** y luego encadenaremos un bloque **except** para tratar la excepción:"
      ]
    },
    {
      "cell_type": "code",
      "execution_count": null,
      "metadata": {
        "id": "NSPaT8VWemf8",
        "colab": {
          "base_uri": "https://localhost:8080/"
        },
        "outputId": "f33bb595-9a47-4b2a-bb45-a929b9b26fd8"
      },
      "outputs": [
        {
          "output_type": "stream",
          "name": "stdout",
          "text": [
            "Introduce un número: a\n",
            "Ha ocurrido un error, introduce bien el número\n"
          ]
        }
      ],
      "source": [
        "try:\n",
        "    n = float(input(\"Introduce un número: \"))\n",
        "    m = 4\n",
        "    print(n/m)\n",
        "except:\n",
        "    print(\"Ha ocurrido un error, introduce bien el número\")"
      ]
    },
    {
      "cell_type": "markdown",
      "metadata": {
        "id": "W29kY3Bsemf9"
      },
      "source": [
        "#### Utilizando un while(true), podemos asegurárnos de que el usuario introduce bien el valor\n",
        "Repitiendo la lectura por teclado hasta que lo haga bien, y entonces rompemos el bucle con un break:"
      ]
    },
    {
      "cell_type": "code",
      "execution_count": null,
      "metadata": {
        "id": "Ujnvlzi2emf9",
        "colab": {
          "base_uri": "https://localhost:8080/"
        },
        "outputId": "7f19461b-9476-4774-f3d7-c1116ec4a2b0"
      },
      "outputs": [
        {
          "output_type": "stream",
          "name": "stdout",
          "text": [
            "Introduce un número: A\n",
            "Ha ocurrido un error, introduce bien el número\n",
            "Introduce un número: N\n",
            "Ha ocurrido un error, introduce bien el número\n",
            "Introduce un número: SD\n",
            "Ha ocurrido un error, introduce bien el número\n",
            "Introduce un número: 8\n",
            "2.0\n"
          ]
        }
      ],
      "source": [
        "while(True):\n",
        "    try:\n",
        "        n = float(input(\"Introduce un número: \"))\n",
        "        m = 4\n",
        "        print(n/m)\n",
        "        break  # Importante romper la iteración si todo ha salido bien\n",
        "    except:\n",
        "        print(\"Ha ocurrido un error, introduce bien el número\")"
      ]
    },
    {
      "cell_type": "markdown",
      "metadata": {
        "id": "M1ufVSIWemf9"
      },
      "source": [
        "### Bloque else en excepciones\n",
        "Es posible encadenar un bloque else después del *except* para comprobar el caso en que **todo funcione correctamente** (no se ejecuta la excepción).\n",
        "\n",
        "El bloque *else* es un buen momento para romper la iteración con *break* si todo funciona correctamente:"
      ]
    },
    {
      "cell_type": "code",
      "execution_count": null,
      "metadata": {
        "id": "QC2azoA5emf-",
        "colab": {
          "base_uri": "https://localhost:8080/"
        },
        "outputId": "6799671f-618e-4750-80c5-43ce29fbc032"
      },
      "outputs": [
        {
          "output_type": "stream",
          "name": "stdout",
          "text": [
            "Introduce un número: A\n",
            "Ha ocurrido un error, introduce bien el número\n",
            "Introduce un número: S\n",
            "Ha ocurrido un error, introduce bien el número\n",
            "Introduce un número: E\n",
            "Ha ocurrido un error, introduce bien el número\n",
            "Introduce un número: 3\n",
            "0.75\n",
            "Todo ha funcionado correctamente\n"
          ]
        }
      ],
      "source": [
        "while(True):\n",
        "    try:\n",
        "        n = float(input(\"Introduce un número: \"))\n",
        "        m = 4\n",
        "        print(n/m)\n",
        "    except:\n",
        "        print(\"Ha ocurrido un error, introduce bien el número\")\n",
        "    else:\n",
        "        print(\"Todo ha funcionado correctamente\")\n",
        "        break  #Importante romper la iteración si todo ha salido bien"
      ]
    },
    {
      "cell_type": "markdown",
      "metadata": {
        "id": "sf9dl77Zemf-"
      },
      "source": [
        "### Bloque finally en excepciones\n",
        "Por último es posible utilizar un bloque *finally* que se ejecute al final del código, **ocurra o no ocurra un error**:"
      ]
    },
    {
      "cell_type": "code",
      "execution_count": null,
      "metadata": {
        "id": "FTaxR86zemf_",
        "colab": {
          "base_uri": "https://localhost:8080/"
        },
        "outputId": "e69e1e27-7b5d-473e-803f-d5ffecc44442"
      },
      "outputs": [
        {
          "output_type": "stream",
          "name": "stdout",
          "text": [
            "Introduce un número: A\n",
            "Ha ocurrido un error, introduce bien el número\n",
            "Fin de la iteración\n",
            "Introduce un número: B\n",
            "Ha ocurrido un error, introduce bien el número\n",
            "Fin de la iteración\n",
            "Introduce un número: 8\n",
            "2.0\n",
            "Todo ha funcionado correctamente\n",
            "Fin de la iteración\n"
          ]
        }
      ],
      "source": [
        "while(True):\n",
        "    try:\n",
        "        n = float(input(\"Introduce un número: \"))\n",
        "        m = 4\n",
        "        print(n/m)\n",
        "    except:\n",
        "        print(\"Ha ocurrido un error, introduce bien el número\")\n",
        "    else:\n",
        "        print(\"Todo ha funcionado correctamente\")\n",
        "        break  #Importante romper la iteración si todo ha salido bien\n",
        "    finally:\n",
        "        print(\"Fin de la iteración\") #Siempre se ejecuta"
      ]
    },
    {
      "cell_type": "markdown",
      "metadata": {
        "id": "lKEeSAL1x963"
      },
      "source": [
        "# Capturando múltiples excepciones\n",
        "### Guardando la excepción\n",
        "Podemos asignar una excepción a una variable (por ejemplo e). De esta forma haciendo un pequeño truco podemos analizar el tipo de error que sucede gracias a su identificador:"
      ]
    },
    {
      "cell_type": "code",
      "execution_count": null,
      "metadata": {
        "id": "7QfwJl6ax967",
        "colab": {
          "base_uri": "https://localhost:8080/"
        },
        "outputId": "12e4f14a-2ccc-40dc-c4a6-614856bf9cf6"
      },
      "outputs": [
        {
          "output_type": "stream",
          "name": "stdout",
          "text": [
            "Introduce un número: 0\n",
            "ZeroDivisionError\n"
          ]
        }
      ],
      "source": [
        "try:\n",
        "    #n = input(\"Introduce un número: \")\n",
        "    n = int(input(\"Introduce un número: \"))\n",
        "    print(5/n)\n",
        "except Exception as e:\n",
        "    print( type(e).__name__ ) #Captura el tipo de error"
      ]
    },
    {
      "cell_type": "markdown",
      "metadata": {
        "id": "2iTLz-JA32eW"
      },
      "source": [
        "En el bloque **except**, se captura la excepción y se almacena en la variable **e**. Luego, se utiliza la función **type()** para obtener el tipo de la excepción y se utiliza .**__name__** para obtener el nombre del tipo de excepción como una cadena. Por último, se imprime el nombre de la excepción utilizando la función **print()**."
      ]
    },
    {
      "cell_type": "markdown",
      "metadata": {
        "id": "vK4h3A4-x968"
      },
      "source": [
        "### Encadenando excepciones\n",
        "Gracias a los identificadores de errores podemos crear múltiples comprobaciones, siempre que dejemos en último lugar la excepción por defecto *Excepcion* que engloba cualquier tipo de error (si la pusiéramos al principio, las demas excepciones nunca se ejecutarían):"
      ]
    },
    {
      "cell_type": "code",
      "execution_count": null,
      "metadata": {
        "id": "kK8r4Pbfx969",
        "colab": {
          "base_uri": "https://localhost:8080/"
        },
        "outputId": "71b92383-056f-4270-e247-0a4ab89375ea"
      },
      "outputs": [
        {
          "output_type": "stream",
          "name": "stdout",
          "text": [
            "Introduce un número: A\n",
            "Notifique al IT sobre este tipo de error:  ValueError\n"
          ]
        }
      ],
      "source": [
        "try:\n",
        "    n = float(input(\"Introduce un número: \"))\n",
        "    5/n\n",
        "except ZeroDivisionError:\n",
        "    print(\"No se puede dividir por cero, prueba otro número\")\n",
        "except Exception as e:\n",
        "    print(\"Notifique al IT sobre este tipo de error: \", type(e).__name__ )"
      ]
    },
    {
      "cell_type": "markdown",
      "metadata": {
        "id": "zmzYB0TmyxzD"
      },
      "source": [
        "# Invocación de excepciones\n",
        "En algunas ocasiones quizá nos interesa llamar un error manualmente, ya que un *print* común no es muy elegante:"
      ]
    },
    {
      "cell_type": "code",
      "execution_count": null,
      "metadata": {
        "collapsed": true,
        "id": "qwVER_knyxzG",
        "colab": {
          "base_uri": "https://localhost:8080/"
        },
        "outputId": "259c53b2-d7ea-4f5c-bd7a-9ff09786db82"
      },
      "outputs": [
        {
          "output_type": "stream",
          "name": "stdout",
          "text": [
            "Error! No se permite un valor nulo (con un print)\n"
          ]
        }
      ],
      "source": [
        "def mi_funcion(algo=None):\n",
        "    if algo is None:\n",
        "        print(\"Error! No se permite un valor nulo (con un print)\")\n",
        "\n",
        "mi_funcion(None)"
      ]
    },
    {
      "cell_type": "code",
      "execution_count": null,
      "metadata": {
        "id": "tVyGbsNAyxzI",
        "colab": {
          "base_uri": "https://localhost:8080/"
        },
        "outputId": "ca8603cd-8a9a-4243-8a84-f2b97a0a4831"
      },
      "outputs": [
        {
          "output_type": "stream",
          "name": "stdout",
          "text": [
            "Error! No se permite un valor nulo (con un print)\n"
          ]
        }
      ],
      "source": [
        "mi_funcion()"
      ]
    },
    {
      "cell_type": "markdown",
      "metadata": {
        "id": "To49nt0tyxzJ"
      },
      "source": [
        "### La instrucción RAISE\n",
        "Gracias a raise podemos lanzar un error manual pasándole el identificador. Luego simplemente podemos añadir un except para tratar esta excepción que hemos lanzado:\n",
        "\n",
        "Basicamente RAISE se utiliza para generar excepciones manualmente."
      ]
    },
    {
      "cell_type": "markdown",
      "metadata": {
        "id": "c_FL4-tNnXYJ"
      },
      "source": [
        "###Ejemplo #1"
      ]
    },
    {
      "cell_type": "code",
      "execution_count": null,
      "metadata": {
        "id": "eGdqWZHbyxzJ",
        "colab": {
          "base_uri": "https://localhost:8080/",
          "height": 297
        },
        "outputId": "861ac6a0-a85c-4e9a-f761-93a5279dcbbf"
      },
      "outputs": [
        {
          "output_type": "error",
          "ename": "ZeroDivisionError",
          "evalue": "El segundo número no puede ser cero.",
          "traceback": [
            "\u001b[0;31m---------------------------------------------------------------------------\u001b[0m",
            "\u001b[0;31mZeroDivisionError\u001b[0m                         Traceback (most recent call last)",
            "\u001b[0;32m<ipython-input-32-3519369487>\u001b[0m in \u001b[0;36m<cell line: 0>\u001b[0;34m()\u001b[0m\n\u001b[1;32m      5\u001b[0m     \u001b[0;32mreturn\u001b[0m \u001b[0ma\u001b[0m \u001b[0;34m/\u001b[0m \u001b[0mb\u001b[0m\u001b[0;34m\u001b[0m\u001b[0;34m\u001b[0m\u001b[0m\n\u001b[1;32m      6\u001b[0m \u001b[0;34m\u001b[0m\u001b[0m\n\u001b[0;32m----> 7\u001b[0;31m \u001b[0mdividir\u001b[0m\u001b[0;34m(\u001b[0m\u001b[0;36m10\u001b[0m\u001b[0;34m,\u001b[0m \u001b[0;36m0\u001b[0m\u001b[0;34m)\u001b[0m\u001b[0;34m\u001b[0m\u001b[0;34m\u001b[0m\u001b[0m\n\u001b[0m",
            "\u001b[0;32m<ipython-input-32-3519369487>\u001b[0m in \u001b[0;36mdividir\u001b[0;34m(a, b)\u001b[0m\n\u001b[1;32m      2\u001b[0m \u001b[0;32mdef\u001b[0m \u001b[0mdividir\u001b[0m\u001b[0;34m(\u001b[0m\u001b[0ma\u001b[0m\u001b[0;34m,\u001b[0m \u001b[0mb\u001b[0m\u001b[0;34m)\u001b[0m\u001b[0;34m:\u001b[0m\u001b[0;34m\u001b[0m\u001b[0;34m\u001b[0m\u001b[0m\n\u001b[1;32m      3\u001b[0m     \u001b[0;32mif\u001b[0m \u001b[0mb\u001b[0m \u001b[0;34m==\u001b[0m \u001b[0;36m0\u001b[0m\u001b[0;34m:\u001b[0m\u001b[0;34m\u001b[0m\u001b[0;34m\u001b[0m\u001b[0m\n\u001b[0;32m----> 4\u001b[0;31m         \u001b[0;32mraise\u001b[0m \u001b[0mZeroDivisionError\u001b[0m\u001b[0;34m(\u001b[0m\u001b[0;34m\"El segundo número no puede ser cero.\"\u001b[0m\u001b[0;34m)\u001b[0m\u001b[0;34m\u001b[0m\u001b[0;34m\u001b[0m\u001b[0m\n\u001b[0m\u001b[1;32m      5\u001b[0m     \u001b[0;32mreturn\u001b[0m \u001b[0ma\u001b[0m \u001b[0;34m/\u001b[0m \u001b[0mb\u001b[0m\u001b[0;34m\u001b[0m\u001b[0;34m\u001b[0m\u001b[0m\n\u001b[1;32m      6\u001b[0m \u001b[0;34m\u001b[0m\u001b[0m\n",
            "\u001b[0;31mZeroDivisionError\u001b[0m: El segundo número no puede ser cero."
          ]
        }
      ],
      "source": [
        "#Generar una excepción personalizada con un mensaje:\n",
        "def dividir(a, b):\n",
        "    if b == 0:\n",
        "        raise ZeroDivisionError(\"El segundo número no puede ser cero.\")\n",
        "    return a / b\n",
        "\n",
        "dividir(10, 0)\n"
      ]
    },
    {
      "cell_type": "markdown",
      "metadata": {
        "id": "o_CsQZlJnmSK"
      },
      "source": [
        "###Ejemplo #2"
      ]
    },
    {
      "cell_type": "code",
      "execution_count": null,
      "metadata": {
        "id": "4FUFZt7UnzoJ",
        "colab": {
          "base_uri": "https://localhost:8080/",
          "height": 297
        },
        "outputId": "19abd37c-08ad-4e09-c80d-8c0191eeac0e"
      },
      "outputs": [
        {
          "output_type": "error",
          "ename": "ValueError",
          "evalue": "",
          "traceback": [
            "\u001b[0;31m---------------------------------------------------------------------------\u001b[0m",
            "\u001b[0;31mValueError\u001b[0m                                Traceback (most recent call last)",
            "\u001b[0;32m<ipython-input-33-3185996021>\u001b[0m in \u001b[0;36m<cell line: 0>\u001b[0;34m()\u001b[0m\n\u001b[1;32m      4\u001b[0m       \u001b[0;31m#print(\"La edad es válida.\")\u001b[0m\u001b[0;34m\u001b[0m\u001b[0;34m\u001b[0m\u001b[0m\n\u001b[1;32m      5\u001b[0m \u001b[0;34m\u001b[0m\u001b[0m\n\u001b[0;32m----> 6\u001b[0;31m \u001b[0mvalidar_edad\u001b[0m\u001b[0;34m(\u001b[0m\u001b[0;36m15\u001b[0m\u001b[0;34m)\u001b[0m \u001b[0;31m#Llamada a la función para generar la excepción\u001b[0m\u001b[0;34m\u001b[0m\u001b[0;34m\u001b[0m\u001b[0m\n\u001b[0m",
            "\u001b[0;32m<ipython-input-33-3185996021>\u001b[0m in \u001b[0;36mvalidar_edad\u001b[0;34m(edad)\u001b[0m\n\u001b[1;32m      1\u001b[0m \u001b[0;32mdef\u001b[0m \u001b[0mvalidar_edad\u001b[0m\u001b[0;34m(\u001b[0m\u001b[0medad\u001b[0m\u001b[0;34m)\u001b[0m\u001b[0;34m:\u001b[0m\u001b[0;34m\u001b[0m\u001b[0;34m\u001b[0m\u001b[0m\n\u001b[1;32m      2\u001b[0m     \u001b[0;32mif\u001b[0m \u001b[0medad\u001b[0m \u001b[0;34m<\u001b[0m \u001b[0;36m18\u001b[0m\u001b[0;34m:\u001b[0m\u001b[0;34m\u001b[0m\u001b[0;34m\u001b[0m\u001b[0m\n\u001b[0;32m----> 3\u001b[0;31m       \u001b[0;32mraise\u001b[0m \u001b[0mValueError\u001b[0m \u001b[0;31m#Generar una excepción personalizada sin mensaje\u001b[0m\u001b[0;34m\u001b[0m\u001b[0;34m\u001b[0m\u001b[0m\n\u001b[0m\u001b[1;32m      4\u001b[0m       \u001b[0;31m#print(\"La edad es válida.\")\u001b[0m\u001b[0;34m\u001b[0m\u001b[0;34m\u001b[0m\u001b[0m\n\u001b[1;32m      5\u001b[0m \u001b[0;34m\u001b[0m\u001b[0m\n",
            "\u001b[0;31mValueError\u001b[0m: "
          ]
        }
      ],
      "source": [
        "def validar_edad(edad):\n",
        "    if edad < 18:\n",
        "      raise ValueError #Generar una excepción personalizada sin mensaje\n",
        "      #print(\"La edad es válida.\")\n",
        "\n",
        "validar_edad(15) #Llamada a la función para generar la excepción\n"
      ]
    },
    {
      "cell_type": "markdown",
      "metadata": {
        "id": "JgFiovXmoJ3P"
      },
      "source": [
        "###Ejemplo #3 (con clases)"
      ]
    },
    {
      "cell_type": "code",
      "execution_count": null,
      "metadata": {
        "id": "GeWnjuPHoTDf"
      },
      "outputs": [],
      "source": [
        "class MiError(Exception):\n",
        "    print(\"Error generado a partir de una clase\")\n",
        "    pass\n",
        "\n",
        "def mi_funcion():\n",
        "    raise MiError(\"Ocurrió un error.\") # Generar una excepción de un tipo personalizado con un mensaje personalizado\n",
        "\n",
        "try:\n",
        "    mi_funcion() # Llamada a la función para generar la excepción\n",
        "except MiError as e:\n",
        "    print(\"Se generó una excepción de tipo MiError:\", e) # Capturar la excepción y mostrar un mensaje personalizado\n"
      ]
    }
  ],
  "metadata": {
    "colab": {
      "collapsed_sections": [
        "JgFiovXmoJ3P"
      ],
      "provenance": [],
      "include_colab_link": true
    },
    "kernelspec": {
      "display_name": "Python 3",
      "name": "python3"
    },
    "language_info": {
      "name": "python"
    }
  },
  "nbformat": 4,
  "nbformat_minor": 0
}