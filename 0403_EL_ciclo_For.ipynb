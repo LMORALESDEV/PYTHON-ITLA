{
  "nbformat": 4,
  "nbformat_minor": 0,
  "metadata": {
    "colab": {
      "provenance": [],
      "collapsed_sections": [
        "bmk6SOoL3_MA",
        "jyS9Inm6iFmm",
        "-WP5qD8I0vF6",
        "jU3FTFkvje6S",
        "yWlxrBi169uw",
        "WyM0zv1nnxME"
      ],
      "include_colab_link": true
    },
    "kernelspec": {
      "name": "python3",
      "display_name": "Python 3"
    },
    "language_info": {
      "name": "python"
    }
  },
  "cells": [
    {
      "cell_type": "markdown",
      "metadata": {
        "id": "view-in-github",
        "colab_type": "text"
      },
      "source": [
        "<a href=\"https://colab.research.google.com/github/LMORALESDEV/PYTHON-ITLA/blob/main/0403_EL_ciclo_For.ipynb\" target=\"_parent\"><img src=\"https://colab.research.google.com/assets/colab-badge.svg\" alt=\"Open In Colab\"/></a>"
      ]
    },
    {
      "cell_type": "markdown",
      "source": [
        "#Antes de iniciar...\n",
        "La **iteración** es el acto de repetir un proceso, para generar una secuencia de resultados (posiblemente ilimitada), con el objetivo de acercarse a un propósito o resultado deseado.\n",
        "\n",
        "En la programación de computadoras, la iteración, también llamada con el término inglés **loop**, es una estructura de control, dentro de un algoritmo que resuelve un problema dado, que ordena a la computadora ejecutar repetidamente una secuencia de instrucciones, generalmente hasta la ocurrencia de condiciones lógicas específicas."
      ],
      "metadata": {
        "id": "bmk6SOoL3_MA"
      }
    },
    {
      "cell_type": "markdown",
      "metadata": {
        "id": "RKUGUbL6iUVa"
      },
      "source": [
        "#Los Ciclos en Python\n"
      ]
    },
    {
      "cell_type": "markdown",
      "metadata": {
        "id": "f7vSZetRicLW"
      },
      "source": [
        "* **for**\n",
        "* **while**\n"
      ]
    },
    {
      "cell_type": "markdown",
      "metadata": {
        "id": "VTNjZSGUPZUt"
      },
      "source": [
        "# Ciclo ***for***"
      ]
    },
    {
      "cell_type": "markdown",
      "metadata": {
        "id": "Vxt-Z6rNHloy"
      },
      "source": [
        "El ciclo ***for*** le dice a la computadora que haga algo siempre que se cumpla la condición.\n",
        "\n",
        "Su construcción consiste en un bloque de código y una condición.\n",
        "\n",
        "La condición se evalúa y si la condición es verdadera, se ejecuta el código dentro del bloque. Esto se repite hasta que la condición se vuelve falsa.\n",
        "\n",
        "Del mismo modo que el 'WHILE' loop, el **FOR** se usa para repetir bloques de código, pero a diferencia del 'WHILE' loop donde se dependía de una condición (TRUE, FALSE), el bucle FOR finaliza cuando **ya no tiene más elementos que iterar.**\n",
        "\n",
        "Dos componentes que se necesita para construir el bucle *for*:\n",
        "\n",
        "*  La palabra clave *for*.\n",
        "*  Un bloque de código que desea ejecutar repetidamente."
      ]
    },
    {
      "cell_type": "markdown",
      "source": [
        "#La sintaxis de un bucle **for** es la siguiente:\n",
        "\n"
      ],
      "metadata": {
        "id": "w2oH3FSY-QnD"
      }
    },
    {
      "cell_type": "code",
      "source": [
        "for i in elemento iterable/rango (lista, cadena, range, etc.):\n",
        "    cuerpo del bucle"
      ],
      "metadata": {
        "id": "R9OQAPlp-UsO"
      },
      "execution_count": null,
      "outputs": []
    },
    {
      "cell_type": "markdown",
      "metadata": {
        "id": "QCSF6CBpjpTw"
      },
      "source": [
        "#Ejemplo 1"
      ]
    },
    {
      "cell_type": "markdown",
      "metadata": {
        "id": "Jrr_tOKpkH0B"
      },
      "source": [
        "Imprimir cada número de la lista de números. En este ejemplo se tiene una lista con con 5 números enteros. En el ciclo *for* la variable *x* indexa los números de la lista. En cada iteración se impreme el número de la lista iniciando en la posición 0 de la lista con el número 1 hasta completar los 5 números de la lista.\n",
        "* La función str se utiliza para convertir el número entero a una cadena de texto.\n",
        "* El simbolo + es para concatenar dos cadenas de texto."
      ]
    },
    {
      "cell_type": "code",
      "metadata": {
        "id": "IHozmsHYkMEQ",
        "colab": {
          "base_uri": "https://localhost:8080/"
        },
        "outputId": "20fd6b3c-2e76-4ad2-b406-0a72c53c2b8e"
      },
      "source": [
        "print(\"Ejemplo 1\")\n",
        "numeros = [1, 2, 3, 4, 5]\n",
        "for x in numeros :    # Para cada número en la lista de números\n",
        "    print(\"Número : \"+ str(x))\n"
      ],
      "execution_count": null,
      "outputs": [
        {
          "output_type": "stream",
          "name": "stdout",
          "text": [
            "Ejemplo 1\n",
            "Número : 1\n",
            "Número : 2\n",
            "Número : 3\n",
            "Número : 4\n",
            "Número : 5\n"
          ]
        }
      ]
    },
    {
      "cell_type": "markdown",
      "metadata": {
        "id": "M7wTPeDrkOxO"
      },
      "source": [
        "#Ejemplo 2"
      ]
    },
    {
      "cell_type": "markdown",
      "metadata": {
        "id": "11GyQYl3kTdw"
      },
      "source": [
        "Iterar en una cadena. En Python las cadenas son objetos iterables. Las cadenas contienen una secuencia de caracteres."
      ]
    },
    {
      "cell_type": "code",
      "metadata": {
        "id": "3Ae1c75HkYFI",
        "colab": {
          "base_uri": "https://localhost:8080/"
        },
        "outputId": "dfca2949-4d11-43c1-99ee-fcd1b05692aa"
      },
      "source": [
        "print(\"Ejemplo 2\")\n",
        "for i in \"HolaMundo\":\n",
        "    print(\"Letra :\" + str(i))"
      ],
      "execution_count": null,
      "outputs": [
        {
          "output_type": "stream",
          "name": "stdout",
          "text": [
            "Ejemplo 2\n",
            "Letra :H\n",
            "Letra :o\n",
            "Letra :l\n",
            "Letra :a\n",
            "Letra :M\n",
            "Letra :u\n",
            "Letra :n\n",
            "Letra :d\n",
            "Letra :o\n"
          ]
        }
      ]
    },
    {
      "cell_type": "markdown",
      "metadata": {
        "id": "-E2OMTPnqOiA"
      },
      "source": [
        "# El ciclo **for** se agrupa en dos objetos en python:\n",
        "\n",
        "* 1.- El objeto **range(min,max,step)**\n",
        "* 2.- sobre tuplas, listas y diccionarios\n",
        "\n",
        "Tuplas = (1,2,3)\n",
        "\n",
        "Listas = [1,2,3]\n",
        "\n",
        "\n"
      ]
    },
    {
      "cell_type": "markdown",
      "metadata": {
        "id": "vQDkpAjKigO-"
      },
      "source": [
        "**Python for y la clase range**\n",
        "\n",
        "* Sirve para implementar el bucle for basado en una secuencia numérica.\n",
        "* La clase range(), posee el constructor range(max), devuelve un iterable cuyos valores van desde 0 hasta max - 1.\n"
      ]
    },
    {
      "cell_type": "code",
      "metadata": {
        "id": "jPB2Z4YDm454",
        "colab": {
          "base_uri": "https://localhost:8080/"
        },
        "outputId": "6739b6fa-5a47-4349-ac92-ba335a67852a"
      },
      "source": [
        "for i in range(10): #range(0,10,1)  paramentro por defecto\n",
        "    print(i)\n",
        "\n",
        "#print(type(i))"
      ],
      "execution_count": null,
      "outputs": [
        {
          "output_type": "stream",
          "name": "stdout",
          "text": [
            "0\n",
            "1\n",
            "2\n",
            "3\n",
            "4\n",
            "5\n",
            "6\n",
            "7\n",
            "8\n",
            "9\n"
          ]
        }
      ]
    },
    {
      "cell_type": "markdown",
      "metadata": {
        "id": "TS2ymzbaoAJe"
      },
      "source": [
        "La variable i no hay que declararla, pues pertenece al bucle for y solo existe dentro de este y es de tipo entero, inicializada con cero.\n",
        "se autoincrementa a sí misma en 1.\n",
        "\n",
        "* **range(max): Un iterable de números enteros consecutivos que empieza en 0 y acaba en max - 1**\n"
      ]
    },
    {
      "cell_type": "code",
      "metadata": {
        "id": "eXTaocXUu7JK",
        "colab": {
          "base_uri": "https://localhost:8080/"
        },
        "outputId": "bb845b17-3e6b-4cd4-a593-340e02d1bf3e"
      },
      "source": [
        "#range(max)\n",
        "for i in range(1):\n",
        "    print(i)"
      ],
      "execution_count": null,
      "outputs": [
        {
          "output_type": "stream",
          "name": "stdout",
          "text": [
            "0\n"
          ]
        }
      ]
    },
    {
      "cell_type": "markdown",
      "metadata": {
        "id": "0TF-0cFBwc95"
      },
      "source": [
        "**range(min, max):** Un iterable de números enteros consecutivos que empieza en min y acaba en max - 1\n"
      ]
    },
    {
      "cell_type": "code",
      "metadata": {
        "id": "w9Up04Drwfif",
        "colab": {
          "base_uri": "https://localhost:8080/"
        },
        "outputId": "e43acd43-23f0-46be-b8c9-bd698bad6490"
      },
      "source": [
        "#range(min,max)\n",
        "for i in range(1,5):\n",
        "    print(i)"
      ],
      "execution_count": null,
      "outputs": [
        {
          "output_type": "stream",
          "name": "stdout",
          "text": [
            "1\n",
            "2\n",
            "3\n",
            "4\n"
          ]
        }
      ]
    },
    {
      "cell_type": "markdown",
      "metadata": {
        "id": "IZw_0Z-zz-Q5"
      },
      "source": [
        "**range(min, max, step):** Un iterable de números enteros consecutivos que empieza en min acaba en max - 1 y los valores se van incrementando de step en step."
      ]
    },
    {
      "cell_type": "code",
      "metadata": {
        "id": "rVMm0XRT0G9H",
        "colab": {
          "base_uri": "https://localhost:8080/"
        },
        "outputId": "5f0349be-b203-4c38-a31c-c33df6d0759d"
      },
      "source": [
        "for i in range(0,5,1) :\n",
        "    print(i)"
      ],
      "execution_count": null,
      "outputs": [
        {
          "output_type": "stream",
          "name": "stdout",
          "text": [
            "0\n",
            "1\n",
            "2\n",
            "3\n",
            "4\n"
          ]
        }
      ]
    },
    {
      "cell_type": "code",
      "metadata": {
        "id": "XCzxPy_P1aRj",
        "colab": {
          "base_uri": "https://localhost:8080/"
        },
        "outputId": "663cf392-415a-4fa1-9af2-14134192895e"
      },
      "source": [
        "# haremos el incremento en dos\n",
        "#        range(min,max,step)\n",
        "for i in range(0,5,2) :\n",
        "    print(i)"
      ],
      "execution_count": null,
      "outputs": [
        {
          "output_type": "stream",
          "name": "stdout",
          "text": [
            "0\n",
            "2\n",
            "4\n"
          ]
        }
      ]
    },
    {
      "cell_type": "code",
      "metadata": {
        "id": "v8qyQIat2rzK",
        "colab": {
          "base_uri": "https://localhost:8080/"
        },
        "outputId": "f40f1fda-ce46-4e40-bca7-83ce1d2c972a"
      },
      "source": [
        "# ahora el incremento es negativo\n",
        "x = int(input(\"Valor min\"))\n",
        "y = int(input(\"Valor max\"))\n",
        "z = int(input(\"Valor step\"))\n",
        "for i in range(x,y,z):\n",
        "    print(i)\n"
      ],
      "execution_count": null,
      "outputs": [
        {
          "output_type": "stream",
          "name": "stdout",
          "text": [
            "Valor min5\n",
            "Valor max50\n",
            "Valor step5\n",
            "5\n",
            "10\n",
            "15\n",
            "20\n",
            "25\n",
            "30\n",
            "35\n",
            "40\n",
            "45\n"
          ]
        }
      ]
    },
    {
      "cell_type": "markdown",
      "metadata": {
        "id": "pEOtkP7Q3nd4"
      },
      "source": [
        " # Bucle for para iterar sobre los elementos de listas y tuplas.\n"
      ]
    },
    {
      "cell_type": "markdown",
      "metadata": {
        "id": "XiAfXN7E3s05"
      },
      "source": [
        "## Bucle sobre listas"
      ]
    },
    {
      "cell_type": "code",
      "metadata": {
        "id": "dzXEOYUQ3w_B",
        "colab": {
          "base_uri": "https://localhost:8080/"
        },
        "outputId": "842f4645-de6b-4f0d-d42e-5e8b17769c81"
      },
      "source": [
        "#iteración sobre lista numérica\n",
        "numeros = [2,4,6,8,10]\n",
        "for n in numeros:\n",
        "    print(n)"
      ],
      "execution_count": null,
      "outputs": [
        {
          "output_type": "stream",
          "name": "stdout",
          "text": [
            "2\n",
            "4\n",
            "6\n",
            "8\n",
            "10\n"
          ]
        }
      ]
    },
    {
      "cell_type": "code",
      "metadata": {
        "id": "cvOt6-kN4y-5",
        "colab": {
          "base_uri": "https://localhost:8080/"
        },
        "outputId": "0195ec08-3404-401c-f382-1b28f0f7dcd0"
      },
      "source": [
        "#iteración sobre lista tipo string\n",
        "vocales = ['a','e','i','o','u']\n",
        "for x in vocales:\n",
        "    print(x)"
      ],
      "execution_count": null,
      "outputs": [
        {
          "output_type": "stream",
          "name": "stdout",
          "text": [
            "a\n",
            "e\n",
            "i\n",
            "o\n",
            "u\n"
          ]
        }
      ]
    },
    {
      "cell_type": "markdown",
      "metadata": {
        "id": "FgmA6EpWkbJG"
      },
      "source": [
        "#Ejemplo 3"
      ]
    },
    {
      "cell_type": "markdown",
      "metadata": {
        "id": "YWeUCmy9kg-v"
      },
      "source": [
        "Con la instrucción ***break*** se puede detener el ciclo de la instrucción *for*."
      ]
    },
    {
      "cell_type": "code",
      "metadata": {
        "id": "XMzyJXB9kmnf",
        "colab": {
          "base_uri": "https://localhost:8080/"
        },
        "outputId": "5f9eb871-2c1f-4453-d32c-93d73e707183"
      },
      "source": [
        "#print(\"Ejemplo 3\")\n",
        "numeros = [13, 500, 35, 46, 57, 33, 20]\n",
        "for x in numeros:\n",
        "    print(\"Número: \" + str(x))\n",
        "    if x == 46:\n",
        "        print(\"Detener el ciclo en \" + str(x))\n",
        "        break #Detener el ciclo\n",
        "\n"
      ],
      "execution_count": null,
      "outputs": [
        {
          "output_type": "stream",
          "name": "stdout",
          "text": [
            "Número: 13\n",
            "Número: 500\n",
            "Número: 35\n",
            "Número: 46\n",
            "Detener el ciclo en 46\n"
          ]
        }
      ]
    },
    {
      "cell_type": "markdown",
      "metadata": {
        "id": "vjs1gSMkkrMw"
      },
      "source": [
        "#Ejemplo 4"
      ]
    },
    {
      "cell_type": "markdown",
      "metadata": {
        "id": "_7RZUWchkueo"
      },
      "source": [
        "Con la instrucción ***continue*** se puede detener la iteración actual y continuar con la siguiente."
      ]
    },
    {
      "cell_type": "code",
      "metadata": {
        "id": "jddylW3Sk1TP",
        "colab": {
          "base_uri": "https://localhost:8080/"
        },
        "outputId": "b558b13e-b33d-4c1d-bafc-479642f387f3"
      },
      "source": [
        "#print(\"Ejemplo 4\")\n",
        "numeros = [10, 28, 38, 46,11, 56, 50, 70]\n",
        "for x in numeros:\n",
        "    if x == 38 or x == 11:\n",
        "        print(\"Detener la iteración actual y continuar con la siguiente en \" + str(x))\n",
        "        continue\n",
        "    print(\"Número \" + str(x))#<---"
      ],
      "execution_count": null,
      "outputs": [
        {
          "output_type": "stream",
          "name": "stdout",
          "text": [
            "Número 10\n",
            "Número 28\n",
            "Detener la iteración actual y continuar con la siguiente en 38\n",
            "Número 46\n",
            "Detener la iteración actual y continuar con la siguiente en 11\n",
            "Número 56\n",
            "Número 50\n",
            "Número 70\n"
          ]
        }
      ]
    },
    {
      "cell_type": "markdown",
      "metadata": {
        "id": "RYAo8i7lk4hn"
      },
      "source": [
        "#Ejemplo 5"
      ]
    },
    {
      "cell_type": "markdown",
      "metadata": {
        "id": "QS-py9GJk8SP"
      },
      "source": [
        "Con la instrucción ***else*** se puede ejecutar un bloque de código una vez que finalice el ciclo *for*."
      ]
    },
    {
      "cell_type": "code",
      "metadata": {
        "id": "dTjsXe6jlDTI",
        "colab": {
          "base_uri": "https://localhost:8080/"
        },
        "outputId": "9f5fc2bc-66cf-4583-c6bd-333535664e27"
      },
      "source": [
        "print(\"Ejemplo 5\")\n",
        "numeros = [1, 2, 3, 4, 5]\n",
        "for x in numeros:\n",
        "    print(\"Número \" +str(x))\n",
        "else:\n",
        "    print(\"Ya finalizó el ciclo for\")"
      ],
      "execution_count": null,
      "outputs": [
        {
          "output_type": "stream",
          "name": "stdout",
          "text": [
            "Ejemplo 5\n",
            "Número 1\n",
            "Número 2\n",
            "Número 3\n",
            "Número 4\n",
            "Número 5\n",
            "Ya finalizó el ciclo for\n"
          ]
        }
      ]
    },
    {
      "cell_type": "markdown",
      "metadata": {
        "id": "jyS9Inm6iFmm"
      },
      "source": [
        "#Diccionarios en Python***\n",
        "\n",
        "\n",
        "**¿Qué es un Diccionario de datos?**\n",
        "\n",
        "Un Diccionario es una estructura de datos y un tipo de dato en Python con características especiales que nos permite almacenar cualquier tipo de valor como enteros, cadenas, listas e incluso otras funciones. Estos diccionarios nos permiten además identificar cada elemento por una clave (Key).\n",
        "\n",
        "\n",
        "\n",
        "Un diccionario en Python es una colección de elementos, donde cada uno tiene una llave **key** y un valor **value**. Los diccionarios se pueden crear con paréntesis {} separando con una coma cada par **key: value.**"
      ]
    },
    {
      "cell_type": "markdown",
      "source": [
        "1. Para definir un diccionario, se encierra el listado de valores entre llaves. Las parejas de clave y valor se separan con comas, y la clave y el valor se separan con dos puntos."
      ],
      "metadata": {
        "id": "FXzbEou31Azs"
      }
    },
    {
      "cell_type": "code",
      "source": [
        "diccionario = {'nombre' : 'Carlos', 'edad' : 22, 'cursos': ['Python','SQL','JavaScript'] }"
      ],
      "metadata": {
        "id": "_dw-XztU1GFp"
      },
      "execution_count": null,
      "outputs": []
    },
    {
      "cell_type": "markdown",
      "source": [
        "2. Podemos acceder al elemento de un Diccionario mediante la clave de este elemento, como veremos a continuación:"
      ],
      "metadata": {
        "id": "qVDEk50G1OFY"
      }
    },
    {
      "cell_type": "code",
      "source": [
        "print(diccionario['nombre'])     #Carlos\n",
        "print(diccionario['edad'])       #22\n",
        "print(diccionario['cursos'])     #['Python','SQL','JavaScript']"
      ],
      "metadata": {
        "id": "kQK1YgP41NvN",
        "colab": {
          "base_uri": "https://localhost:8080/"
        },
        "outputId": "7182bd4f-acbe-49a3-829e-e4aeb186ddba"
      },
      "execution_count": null,
      "outputs": [
        {
          "output_type": "stream",
          "name": "stdout",
          "text": [
            "Carlos\n",
            "22\n",
            "['Python', 'SQL', 'JavaScript']\n"
          ]
        }
      ]
    },
    {
      "cell_type": "markdown",
      "source": [
        "3. También es posible insertar una lista dentro de un diccionario. Para acceder a cada uno de los cursos usamos los índices:"
      ],
      "metadata": {
        "id": "nwhE21z61XXP"
      }
    },
    {
      "cell_type": "code",
      "source": [
        "print(diccionario['cursos'][0])    #Python\n",
        "print(diccionario['cursos'][1])    #Django\n",
        "print(diccionario['cursos'][2])    #JavaScript"
      ],
      "metadata": {
        "id": "sCdiCQl-1fZX",
        "colab": {
          "base_uri": "https://localhost:8080/"
        },
        "outputId": "b6e28dc4-42d4-4644-b962-52eec502fc3b"
      },
      "execution_count": null,
      "outputs": [
        {
          "output_type": "stream",
          "name": "stdout",
          "text": [
            "Python\n",
            "SQL\n",
            "JavaScript\n"
          ]
        }
      ]
    },
    {
      "cell_type": "markdown",
      "source": [
        "4. Para recorrer todo el Diccionario, podemos hacer uso de la estructura **for**:\n",
        "\n"
      ],
      "metadata": {
        "id": "VPnwFFBk1nPr"
      }
    },
    {
      "cell_type": "code",
      "source": [
        "for key in diccionario:\n",
        "  print(key, \":\", diccionario[key])"
      ],
      "metadata": {
        "id": "EUbCDtIC1tDZ",
        "colab": {
          "base_uri": "https://localhost:8080/"
        },
        "outputId": "aae49a45-a5b1-4e82-a7d2-1e9526b70353"
      },
      "execution_count": null,
      "outputs": [
        {
          "output_type": "stream",
          "name": "stdout",
          "text": [
            "nombre : Carlos\n",
            "edad : 22\n",
            "cursos : ['Python', 'SQL', 'JavaScript']\n"
          ]
        }
      ]
    },
    {
      "cell_type": "markdown",
      "metadata": {
        "id": "-WP5qD8I0vF6"
      },
      "source": [
        "# Bucle for en diccionarios\n",
        "\n",
        "Un caso es especial de bucle for se da al recorrer los elementos de un diccionario. Dado que un diccionario está compuesto por pares clave/valor, hay distintas formas de iterar sobre ellas."
      ]
    },
    {
      "cell_type": "markdown",
      "metadata": {
        "id": "jU3FTFkvje6S"
      },
      "source": [
        "## Los diccionarios se pueden recorrer de 3 maneras\n",
        "\n",
        "* 1. Recorrer las claves del diccionario.\n",
        "* 2. Iterar sobre los valores del diccionario\n",
        "* 3. Iterar a la vez sobre la clave y el valor de cada uno de los elementos del diccionario."
      ]
    },
    {
      "cell_type": "code",
      "metadata": {
        "id": "jYdLspPBl6qG",
        "colab": {
          "base_uri": "https://localhost:8080/"
        },
        "outputId": "89485439-bb55-4e4b-de6d-b69ec728e673"
      },
      "source": [
        "# 1- Recorrer las claves del diccionario\n",
        "valores = {'A': 4, 'E': 3, 'I': 1, 'O': 0}\n",
        "for i in valores:\n",
        "    print(i)"
      ],
      "execution_count": null,
      "outputs": [
        {
          "output_type": "stream",
          "name": "stdout",
          "text": [
            "A\n",
            "E\n",
            "I\n",
            "O\n"
          ]
        }
      ]
    },
    {
      "cell_type": "code",
      "metadata": {
        "id": "PTBPPjQOnFUm",
        "colab": {
          "base_uri": "https://localhost:8080/"
        },
        "outputId": "34d5c627-5295-40cd-9a45-4dbdf17dd05a"
      },
      "source": [
        "# 2- Iterar sobre los valores del diccionario\n",
        "valores = {'A': 4, 'E': 3, 'I': 1, 'O': 0}\n",
        "for v in valores.values():\n",
        "    print(v)"
      ],
      "execution_count": null,
      "outputs": [
        {
          "output_type": "stream",
          "name": "stdout",
          "text": [
            "4\n",
            "3\n",
            "1\n",
            "0\n"
          ]
        }
      ]
    },
    {
      "cell_type": "code",
      "metadata": {
        "id": "nq0MrkBXnek0",
        "colab": {
          "base_uri": "https://localhost:8080/"
        },
        "outputId": "0d632d67-9407-4744-87cd-2264b496c4d0"
      },
      "source": [
        "# 3 – Iterar a la vez sobre la clave y el valor de cada uno de los elementos del diccionario.\n",
        "valores = {'A': 4, 'E': 3, 'I': 1, 'O': 0}\n",
        "for k, v in valores.items():\n",
        "    print('Clave:', k, ', Valor:', v)"
      ],
      "execution_count": null,
      "outputs": [
        {
          "output_type": "stream",
          "name": "stdout",
          "text": [
            "Clave: A , Valor: 4\n",
            "Clave: E , Valor: 3\n",
            "Clave: I , Valor: 1\n",
            "Clave: O , Valor: 0\n"
          ]
        }
      ]
    },
    {
      "cell_type": "markdown",
      "metadata": {
        "id": "yWlxrBi169uw"
      },
      "source": [
        "# Iteración"
      ]
    },
    {
      "cell_type": "markdown",
      "metadata": {
        "id": "MulUskjT7lTp"
      },
      "source": [
        "* Un iterable es un objeto que permite recorrer sus elementos uno a uno.\n",
        "\n",
        "* Para ser más técnico, un objeto iterable es aquél que puede pasarse como parámetro de la función iter()."
      ]
    },
    {
      "cell_type": "code",
      "metadata": {
        "id": "Cw2U571n7AqD"
      },
      "source": [
        "nums = [4, 78, 9, 84]\n",
        "it = iter(nums)\n",
        "print(next(it))\n",
        "print(next(it))\n",
        "print(next(it))\n",
        "print(next(it))\n"
      ],
      "execution_count": null,
      "outputs": []
    },
    {
      "cell_type": "code",
      "metadata": {
        "id": "CU13LaWQ74Vu"
      },
      "source": [
        "nums = [4, 78, 9, 84,100,487]\n",
        "for i in nums:\n",
        "  it = iter(nums)\n",
        "  print(i)"
      ],
      "execution_count": null,
      "outputs": []
    },
    {
      "cell_type": "markdown",
      "metadata": {
        "id": "WyM0zv1nnxME"
      },
      "source": [
        "# Conclusiones\n",
        "El ciclo for se agrupa en dos objetos en python:\n",
        "El objeto range, que puede tener de uno a tres elementos\n",
        "range(min,max,step)\n",
        "\n",
        "Por otro lado, puede iterrar sobre tuplas, listas y\n",
        "diccionarios, pudiendo en los últimos recorrer\n",
        "claves, valores y claves y valores.\n",
        "\n",
        "\n",
        "## Referencia\n",
        "### https://j2logo.com/bucle-for-en-python/"
      ]
    }
  ]
}