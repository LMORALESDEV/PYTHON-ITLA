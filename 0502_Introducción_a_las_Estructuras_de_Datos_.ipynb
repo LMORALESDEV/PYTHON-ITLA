{
  "nbformat": 4,
  "nbformat_minor": 0,
  "metadata": {
    "colab": {
      "provenance": [],
      "include_colab_link": true
    },
    "kernelspec": {
      "name": "python3",
      "display_name": "Python 3"
    },
    "language_info": {
      "name": "python"
    }
  },
  "cells": [
    {
      "cell_type": "markdown",
      "metadata": {
        "id": "view-in-github",
        "colab_type": "text"
      },
      "source": [
        "<a href=\"https://colab.research.google.com/github/LMORALESDEV/PYTHON-ITLA/blob/main/0502_Introducci%C3%B3n_a_las_Estructuras_de_Datos_.ipynb\" target=\"_parent\"><img src=\"https://colab.research.google.com/assets/colab-badge.svg\" alt=\"Open In Colab\"/></a>"
      ]
    },
    {
      "cell_type": "markdown",
      "source": [
        "#Estructuras de Datos: Listas"
      ],
      "metadata": {
        "id": "GamnHyCfp5qx"
      }
    },
    {
      "cell_type": "markdown",
      "source": [
        "En Python, hay varias funciones que se pueden usar para manipular listas. Algunas de las funciones más comunes incluyen:"
      ],
      "metadata": {
        "id": "BohFQ_BoqB4r"
      }
    },
    {
      "cell_type": "markdown",
      "source": [
        "**append():** Agrega un elemento al final de la lista.\n"
      ],
      "metadata": {
        "id": "YkamX0XIqI6f"
      }
    },
    {
      "cell_type": "code",
      "source": [
        "mi_lista = [1, 2, 3,4]\n",
        "mi_lista.append(6)\n",
        "print(mi_lista)\n"
      ],
      "metadata": {
        "id": "iriC34WVqMkE",
        "colab": {
          "base_uri": "https://localhost:8080/"
        },
        "outputId": "8dd1d3ae-efff-4ac8-92de-7a305b4c3f36"
      },
      "execution_count": null,
      "outputs": [
        {
          "output_type": "stream",
          "name": "stdout",
          "text": [
            "[1, 2, 3, 4, 6]\n"
          ]
        }
      ]
    },
    {
      "cell_type": "markdown",
      "source": [
        "**extend():** Agrega los elementos de otra lista al final de la lista."
      ],
      "metadata": {
        "id": "ATyhUze0qTVC"
      }
    },
    {
      "cell_type": "code",
      "source": [
        "mi_lista = [1, 2, 3]\n",
        "otra_lista = [4, 5, 6]\n",
        "mi_lista.extend(otra_lista)\n",
        "print(mi_lista)\n"
      ],
      "metadata": {
        "id": "z6O88aYdqVls",
        "colab": {
          "base_uri": "https://localhost:8080/"
        },
        "outputId": "4c32d437-c841-43dd-b920-769a21db464e"
      },
      "execution_count": null,
      "outputs": [
        {
          "output_type": "stream",
          "name": "stdout",
          "text": [
            "[1, 2, 3, 4, 5, 6]\n"
          ]
        }
      ]
    },
    {
      "cell_type": "markdown",
      "source": [
        "**insert():** Inserta un elemento en una posición específica de la lista.\n"
      ],
      "metadata": {
        "id": "Bq9TIklgqhXf"
      }
    },
    {
      "cell_type": "code",
      "source": [
        "mi_lista = [1, 2, 3]\n",
        "mi_lista.insert(1, 4) #Posicion, Valor\n",
        "print(mi_lista)\n"
      ],
      "metadata": {
        "id": "_ZuDYHOSqlkm",
        "colab": {
          "base_uri": "https://localhost:8080/"
        },
        "outputId": "aced560a-d6af-46f5-e68d-41b48f48b778"
      },
      "execution_count": null,
      "outputs": [
        {
          "output_type": "stream",
          "name": "stdout",
          "text": [
            "[1, 4, 2, 3]\n"
          ]
        }
      ]
    },
    {
      "cell_type": "markdown",
      "source": [
        "**remove():** Elimina el primer elemento de la lista que coincide con el valor especificado."
      ],
      "metadata": {
        "id": "4NU-5iopqwZt"
      }
    },
    {
      "cell_type": "code",
      "source": [
        "mi_lista = [1, 2, 3, 2]\n",
        "mi_lista.remove(2)\n",
        "print(mi_lista)\n"
      ],
      "metadata": {
        "id": "rbrUouJEqvyv",
        "colab": {
          "base_uri": "https://localhost:8080/"
        },
        "outputId": "8f5f8773-9fa9-4580-ca91-46082737e229"
      },
      "execution_count": null,
      "outputs": [
        {
          "output_type": "stream",
          "name": "stdout",
          "text": [
            "[1, 3, 2]\n"
          ]
        }
      ]
    },
    {
      "cell_type": "markdown",
      "source": [
        "**pop():** Elimina y devuelve el elemento en la posición especificada. Si no se especifica ninguna posición, elimina y devuelve el último elemento de la lista."
      ],
      "metadata": {
        "id": "VAh7teNXq6dv"
      }
    },
    {
      "cell_type": "code",
      "source": [
        "mi_lista = [1, 2, 3]\n",
        "eliminado = mi_lista.pop(1) #Posicion\n",
        "print(mi_lista)\n",
        "print(eliminado)"
      ],
      "metadata": {
        "id": "IOmZEkAhq_73",
        "colab": {
          "base_uri": "https://localhost:8080/"
        },
        "outputId": "443199f8-f3f6-4f57-d9a3-aac8148a8719"
      },
      "execution_count": null,
      "outputs": [
        {
          "output_type": "stream",
          "name": "stdout",
          "text": [
            "[1, 3]\n",
            "2\n"
          ]
        }
      ]
    },
    {
      "cell_type": "markdown",
      "source": [
        "**index():** Devuelve la posición de la primera aparición del valor especificado en la lista."
      ],
      "metadata": {
        "id": "YXhcszfUrWft"
      }
    },
    {
      "cell_type": "code",
      "source": [
        "mi_lista = [1, 2, 3, 2]\n",
        "posicion = mi_lista.index(2)\n",
        "print(posicion)\n"
      ],
      "metadata": {
        "id": "dKPhpPgyrZJN",
        "colab": {
          "base_uri": "https://localhost:8080/"
        },
        "outputId": "662c1290-021d-4739-bace-46f85b24911b"
      },
      "execution_count": null,
      "outputs": [
        {
          "output_type": "stream",
          "name": "stdout",
          "text": [
            "1\n"
          ]
        }
      ]
    },
    {
      "cell_type": "markdown",
      "source": [
        "**count():** Devuelve el número de veces que aparece un valor en la lista."
      ],
      "metadata": {
        "id": "IdRGbSyYr1cs"
      }
    },
    {
      "cell_type": "code",
      "source": [
        "mi_lista = [1, 2, 3, 2]\n",
        "conteo = mi_lista.count(2)\n",
        "print(conteo)\n"
      ],
      "metadata": {
        "id": "wrSrMzXqr7Dx",
        "colab": {
          "base_uri": "https://localhost:8080/"
        },
        "outputId": "1623a923-ddc5-4cc5-c178-1d102b6b5f88"
      },
      "execution_count": null,
      "outputs": [
        {
          "output_type": "stream",
          "name": "stdout",
          "text": [
            "2\n"
          ]
        }
      ]
    },
    {
      "cell_type": "markdown",
      "source": [
        "**sort():** Ordena los elementos de la lista en orden ascendente."
      ],
      "metadata": {
        "id": "oSDorHafsF91"
      }
    },
    {
      "cell_type": "code",
      "source": [
        "#Ascendente\n",
        "mi_lista = [3, 1, 2,5,7,0]\n",
        "mi_lista.sort()\n",
        "print(mi_lista)\n",
        "\n",
        "#Descendente\n",
        "mi_lista = [3, 1, 2, 5, 7, 0]\n",
        "mi_lista.sort(reverse=False)\n",
        "print(mi_lista)\n"
      ],
      "metadata": {
        "id": "aQpUvLq9sKUb",
        "colab": {
          "base_uri": "https://localhost:8080/"
        },
        "outputId": "5d416d91-2b44-4571-db01-354c093bc0f3"
      },
      "execution_count": null,
      "outputs": [
        {
          "output_type": "stream",
          "name": "stdout",
          "text": [
            "[0, 1, 2, 3, 5, 7]\n",
            "[0, 1, 2, 3, 5, 7]\n"
          ]
        }
      ]
    },
    {
      "cell_type": "markdown",
      "source": [
        "**reverse():** Invierte la posicion de los elementos en la lista."
      ],
      "metadata": {
        "id": "GB2uG7jysQwi"
      }
    },
    {
      "cell_type": "code",
      "source": [
        "mi_lista = [3,1,2,5,7,0]\n",
        "mi_lista.reverse()\n",
        "print(mi_lista) #Espejo\n"
      ],
      "metadata": {
        "id": "T_GB0rjxsSog",
        "colab": {
          "base_uri": "https://localhost:8080/"
        },
        "outputId": "7dafd27c-d8c0-4919-9aa6-8a6c52cb9a72"
      },
      "execution_count": null,
      "outputs": [
        {
          "output_type": "stream",
          "name": "stdout",
          "text": [
            "[0, 7, 5, 2, 1, 3]\n"
          ]
        }
      ]
    },
    {
      "cell_type": "markdown",
      "source": [
        "**clear():** Elimina todos los elementos de la lista."
      ],
      "metadata": {
        "id": "ZCQE-x4esc9g"
      }
    },
    {
      "cell_type": "code",
      "source": [
        "mi_lista = [1, 2, 3]\n",
        "mi_lista.clear()\n",
        "print(mi_lista)"
      ],
      "metadata": {
        "id": "r7W8SaslsfDQ",
        "colab": {
          "base_uri": "https://localhost:8080/"
        },
        "outputId": "655091c3-2f67-4fc5-cc19-a372231dc1da"
      },
      "execution_count": null,
      "outputs": [
        {
          "output_type": "stream",
          "name": "stdout",
          "text": [
            "[]\n"
          ]
        }
      ]
    },
    {
      "cell_type": "markdown",
      "source": [
        "**copy():** Devuelve una copia superficial de la lista"
      ],
      "metadata": {
        "id": "V5Jv9kiJshoL"
      }
    },
    {
      "cell_type": "code",
      "source": [
        "mi_lista = [1, 2, 3]\n",
        "otra_lista = mi_lista.copy()\n",
        "print(otra_lista)\n"
      ],
      "metadata": {
        "id": "Y4SKSHRFskrc",
        "colab": {
          "base_uri": "https://localhost:8080/"
        },
        "outputId": "e4c7dd90-5e8d-42ac-c32d-c1dfc39925e8"
      },
      "execution_count": null,
      "outputs": [
        {
          "output_type": "stream",
          "name": "stdout",
          "text": [
            "[1, 2, 3]\n"
          ]
        }
      ]
    },
    {
      "cell_type": "markdown",
      "source": [
        "**len():** Devuelve el número de elementos en la lista."
      ],
      "metadata": {
        "id": "ZziyNEbasxrA"
      }
    },
    {
      "cell_type": "code",
      "source": [
        "mi_lista = [1, 2, 3]\n",
        "longitud = len(mi_lista)\n",
        "print(longitud)\n"
      ],
      "metadata": {
        "id": "jeb_T-hvs2le",
        "colab": {
          "base_uri": "https://localhost:8080/"
        },
        "outputId": "4017563c-ed65-4ee9-ae0c-6e672895d338"
      },
      "execution_count": null,
      "outputs": [
        {
          "output_type": "stream",
          "name": "stdout",
          "text": [
            "3\n"
          ]
        }
      ]
    },
    {
      "cell_type": "markdown",
      "source": [
        "**max():** Devuelve el elemento máximo en la lista."
      ],
      "metadata": {
        "id": "Ul2d943Bs7wb"
      }
    },
    {
      "cell_type": "code",
      "source": [
        "mi_lista = ['mama', 'b', 'c']\n",
        "#mi_lista2 = [5,10,15,8,0,78]\n",
        "maximo = max(mi_lista)\n",
        "print(maximo)\n"
      ],
      "metadata": {
        "id": "cpqhNIyzs9gT",
        "colab": {
          "base_uri": "https://localhost:8080/"
        },
        "outputId": "714bbd2e-5682-4165-cef9-98267304fbdf"
      },
      "execution_count": null,
      "outputs": [
        {
          "output_type": "stream",
          "name": "stdout",
          "text": [
            "mama\n"
          ]
        }
      ]
    },
    {
      "cell_type": "markdown",
      "source": [
        "**min():** Devuelve el elemento mínimo en la lista."
      ],
      "metadata": {
        "id": "-YiNi0RWtDM-"
      }
    },
    {
      "cell_type": "code",
      "source": [
        "mi_lista = [1, 2, 3]\n",
        "minimo = min(mi_lista)\n",
        "print(minimo)\n"
      ],
      "metadata": {
        "id": "meMu9C5NtGzC",
        "colab": {
          "base_uri": "https://localhost:8080/"
        },
        "outputId": "cb37115d-5dfb-4815-99a9-d5b0b723a4b7"
      },
      "execution_count": null,
      "outputs": [
        {
          "output_type": "stream",
          "name": "stdout",
          "text": [
            "1\n"
          ]
        }
      ]
    },
    {
      "cell_type": "markdown",
      "source": [
        "**sum():** Devuelve la suma de todos los elementos en la lista."
      ],
      "metadata": {
        "id": "KH6Z71PhtWjQ"
      }
    },
    {
      "cell_type": "code",
      "source": [
        "mi_lista = [1, 2, 3]\n",
        "suma = sum(mi_lista)\n",
        "\n",
        "suma = mi_lista[0] + mi_lista[2]\n",
        "\n",
        "print(suma)"
      ],
      "metadata": {
        "id": "8A-44RHktf3g",
        "colab": {
          "base_uri": "https://localhost:8080/"
        },
        "outputId": "22f869a9-80b4-49d5-89b5-fef5967ea141"
      },
      "execution_count": null,
      "outputs": [
        {
          "output_type": "stream",
          "name": "stdout",
          "text": [
            "6\n"
          ]
        }
      ]
    },
    {
      "cell_type": "markdown",
      "source": [
        "**any():** Devuelve **True** si al menos uno de los elementos en la lista es verdadero. De lo contrario, devuelve **False**."
      ],
      "metadata": {
        "id": "YjuWn1YGtjWU"
      }
    },
    {
      "cell_type": "code",
      "source": [
        "mi_lista = [0, False, \"\", None]\n",
        "resultado = any(mi_lista)\n",
        "print(resultado) #False\n",
        "\n",
        "mi_lista = [0, False, \"\", None, 1]\n",
        "resultado = any(mi_lista)\n",
        "print(resultado) #True"
      ],
      "metadata": {
        "id": "LfEVRr8ztoe3",
        "colab": {
          "base_uri": "https://localhost:8080/"
        },
        "outputId": "d404704c-f653-4569-e9b4-fa05c168f189"
      },
      "execution_count": null,
      "outputs": [
        {
          "output_type": "stream",
          "name": "stdout",
          "text": [
            "False\n",
            "True\n"
          ]
        }
      ]
    },
    {
      "cell_type": "markdown",
      "source": [
        "**all():** Devuelve **True** si todos los elementos en la lista son verdaderos. De lo contrario, devuelve **False**."
      ],
      "metadata": {
        "id": "7EftNnTcuK3I"
      }
    },
    {
      "cell_type": "code",
      "source": [
        "\n",
        "mi_lista = [2, True, \"Hola\"]\n",
        "resultado = all(mi_lista)\n",
        "print(resultado) #True\n",
        "\n",
        "mi_lista = [1, True, \"Hola\", False]\n",
        "resultado = all(mi_lista)\n",
        "print(resultado) #False"
      ],
      "metadata": {
        "id": "6TIvNeh7uNns",
        "colab": {
          "base_uri": "https://localhost:8080/"
        },
        "outputId": "e5ccc0ce-140e-4596-8f5b-5a375f3be56b"
      },
      "execution_count": null,
      "outputs": [
        {
          "output_type": "stream",
          "name": "stdout",
          "text": [
            "True\n",
            "False\n"
          ]
        }
      ]
    },
    {
      "cell_type": "markdown",
      "source": [
        "**filter():** Crea una nueva lista con los elementos de la lista original que cumplen una condición especificada."
      ],
      "metadata": {
        "id": "vOjV8uvdugnE"
      }
    },
    {
      "cell_type": "markdown",
      "source": [
        "**NOTA**: La palabra clave \"**lambda**\" se usa para definir una función anónima, es decir, una función sin nombre"
      ],
      "metadata": {
        "id": "867M24K_5EwZ"
      }
    },
    {
      "cell_type": "code",
      "source": [
        "mi_lista = [1, 2, 3, 4, 5]\n",
        "#Paridad utilizando el modulo %\n",
        "nueva_lista = list(filter(lambda x: x % 2 == 0, mi_lista))\n",
        "print(nueva_lista)\n",
        "\n"
      ],
      "metadata": {
        "id": "WMzIoLF5ujPu",
        "colab": {
          "base_uri": "https://localhost:8080/"
        },
        "outputId": "4ca9e369-42cf-407a-d9d4-3f6b22ecdf05"
      },
      "execution_count": null,
      "outputs": [
        {
          "output_type": "stream",
          "name": "stdout",
          "text": [
            "[2, 4]\n"
          ]
        }
      ]
    },
    {
      "cell_type": "markdown",
      "source": [
        "**map():** Crea una nueva lista aplicando una función a cada elemento de la lista original."
      ],
      "metadata": {
        "id": "4pBFL6jouqeB"
      }
    },
    {
      "cell_type": "code",
      "source": [
        "mi_lista = [1, 2, 3, 4, 5]\n",
        "nueva_lista = list(map(lambda x: x ** 2 , mi_lista))\n",
        "print(nueva_lista)\n"
      ],
      "metadata": {
        "id": "DJQRFS1BurzA",
        "colab": {
          "base_uri": "https://localhost:8080/"
        },
        "outputId": "d775fa41-b614-45c3-ca6f-4100e8e467de"
      },
      "execution_count": null,
      "outputs": [
        {
          "output_type": "stream",
          "name": "stdout",
          "text": [
            "[1, 4, 9, 16, 25]\n"
          ]
        }
      ]
    },
    {
      "cell_type": "markdown",
      "source": [
        "**reduce():** Aplica una función a los primeros dos elementos de la lista, luego aplica la misma función al resultado y al siguiente elemento, y así sucesivamente hasta que se procesen todos los elementos de la lista. Devuelve el resultado final.\n",
        "\n",
        "**Nota**: reduce() se encuentra en el módulo functools en Python 3, por lo que se debe importar antes de usarlo."
      ],
      "metadata": {
        "id": "A9Plxy_SvHMZ"
      }
    },
    {
      "cell_type": "code",
      "source": [
        "from functools import reduce\n",
        "\n",
        "\n",
        "mi_lista = [1, 2, 3, 4, 5]\n",
        "resultado = reduce(lambda x, y, z: x * y, mi_lista)\n",
        "print(resultado) #Resultado: 15\n"
      ],
      "metadata": {
        "id": "NzEbc7QZvMo7",
        "colab": {
          "base_uri": "https://localhost:8080/"
        },
        "outputId": "f8913ff5-8b13-4eaf-a87b-30c7e01b1baf"
      },
      "execution_count": null,
      "outputs": [
        {
          "output_type": "stream",
          "name": "stdout",
          "text": [
            "120\n"
          ]
        }
      ]
    },
    {
      "cell_type": "markdown",
      "source": [
        "#Diccionarios en Python\n",
        "\n",
        "* Un diccionario es una estructura de datos que permite almacenar cualquier tipo de información, desde cadenas de texto o caracteres hasta números enteros, con decimales, listas e incluso otros diccionarios. Los datos se encuentran ordenados utilizando una clave única para cada uno de ellos, lo que permite localizar cada uno de los datos de una forma muy rápida.\n",
        "\n",
        "* Los diccionarios Python son mutables, esto quiere decir que no tienen un tamaño predefinido y que su contenido aumenta o disminuye según las necesidades de la aplicación. Todos los datos son también modificables, es decir, se puede añadir, modificar, eliminar y consultar todos los datos de una manera sencilla y rápida.\n"
      ],
      "metadata": {
        "id": "N1FpcIQrI6a8"
      }
    },
    {
      "cell_type": "markdown",
      "source": [
        "###Ejemplos de manipulación de diccionarios"
      ],
      "metadata": {
        "id": "4PDmfH85MNaW"
      }
    },
    {
      "cell_type": "markdown",
      "source": [
        "Agregar un elemento al diccionario:"
      ],
      "metadata": {
        "id": "KO5ydtRtMXhz"
      }
    },
    {
      "cell_type": "code",
      "source": [
        "mi_diccionario = {\"nombre\": \"Juan\", \"edad\": 25}\n",
        "mi_diccionario[\"ciudad\"] = \"Madrid\"\n",
        "print(mi_diccionario)\n"
      ],
      "metadata": {
        "id": "HG_RhFcpMZil",
        "colab": {
          "base_uri": "https://localhost:8080/"
        },
        "outputId": "255d23d5-370c-432b-8b27-5eac090b91e6"
      },
      "execution_count": null,
      "outputs": [
        {
          "output_type": "stream",
          "name": "stdout",
          "text": [
            "{'nombre': 'Juan', 'edad': 25, 'ciudad': 'Madrid'}\n"
          ]
        }
      ]
    },
    {
      "cell_type": "markdown",
      "source": [
        "Eliminar un elemento del diccionario:"
      ],
      "metadata": {
        "id": "nyDsm4CEMhK6"
      }
    },
    {
      "cell_type": "code",
      "source": [
        "mi_diccionario = {\"nombre\": \"Juan\", \"edad\": 25}\n",
        "del mi_diccionario[\"edad\"]\n",
        "print(mi_diccionario) lista."
      ],
      "metadata": {
        "id": "jioP1UDAMlOU",
        "colab": {
          "base_uri": "https://localhost:8080/"
        },
        "outputId": "b61ce6ad-04b9-403f-ad3a-2acad4afe77f"
      },
      "execution_count": null,
      "outputs": [
        {
          "output_type": "stream",
          "name": "stdout",
          "text": [
            "{'nombre': 'Juan'}\n"
          ]
        }
      ]
    },
    {
      "cell_type": "markdown",
      "source": [
        "Obtener el valor de una clave del diccionario:"
      ],
      "metadata": {
        "id": "4ADRL-F6Ms6R"
      }
    },
    {
      "cell_type": "code",
      "source": [
        "mi_diccionario = {\"nombre\": \"Juan\", \"edad\": 25}\n",
        "print(mi_diccionario[\"edad\"])"
      ],
      "metadata": {
        "id": "gULbNpR1Mufz",
        "colab": {
          "base_uri": "https://localhost:8080/"
        },
        "outputId": "3eda7701-a275-4016-897b-5785b1e8387a"
      },
      "execution_count": null,
      "outputs": [
        {
          "output_type": "stream",
          "name": "stdout",
          "text": [
            "25\n"
          ]
        }
      ]
    },
    {
      "cell_type": "markdown",
      "source": [
        "Actualizar un valor de una clave del diccionario:"
      ],
      "metadata": {
        "id": "DeFYYclzMxdi"
      }
    },
    {
      "cell_type": "code",
      "source": [
        "mi_diccionario = {\"nombre\": \"Juan\", \"edad\": 25}\n",
        "mi_diccionario[\"edad\"] = 30\n",
        "print(mi_diccionario)"
      ],
      "metadata": {
        "id": "fS9cR8Z-M0Ub",
        "colab": {
          "base_uri": "https://localhost:8080/"
        },
        "outputId": "c4b9fd92-67ee-4451-e3ef-19d02c5b7207"
      },
      "execution_count": null,
      "outputs": [
        {
          "output_type": "stream",
          "name": "stdout",
          "text": [
            "{'nombre': 'Juan', 'edad': 30}\n"
          ]
        }
      ]
    },
    {
      "cell_type": "markdown",
      "source": [
        "Verificar si una clave existe en el diccionario:"
      ],
      "metadata": {
        "id": "uMDvK-nyM5d9"
      }
    },
    {
      "cell_type": "code",
      "source": [
        "mi_diccionario = {\"nombre\": \"Juan\", \"edad\": 25, \"ciudad\": \"Madrid\"}\n",
        "\n",
        "#Utilizando la expresion \"in\"\n",
        "if \"pais\" in mi_diccionario:\n",
        "    print(\"La clave 'ciudad' existe en el diccionario\")\n",
        "else:\n",
        "    print(\"La clave 'ciudad' no existe en el diccionario\")\n"
      ],
      "metadata": {
        "id": "LcjLoqSZM7ib",
        "colab": {
          "base_uri": "https://localhost:8080/"
        },
        "outputId": "8443adfc-deda-4d2e-cf1a-99e86eae62be"
      },
      "execution_count": null,
      "outputs": [
        {
          "output_type": "stream",
          "name": "stdout",
          "text": [
            "La clave 'ciudad' no existe en el diccionario\n"
          ]
        }
      ]
    },
    {
      "cell_type": "markdown",
      "source": [
        "Obtener todas las claves del diccionario, utilizando la propiedad \"keys\":"
      ],
      "metadata": {
        "id": "-dbV-tI0TgoZ"
      }
    },
    {
      "cell_type": "code",
      "source": [
        "mi_diccionario = {\"nombre\": \"Juan\", \"edad\": 25}\n",
        "print(mi_diccionario.keys())"
      ],
      "metadata": {
        "id": "Y0TPYmgiTjBY",
        "colab": {
          "base_uri": "https://localhost:8080/"
        },
        "outputId": "b9848d0b-be85-4d4b-92af-2e52b0e69e85"
      },
      "execution_count": null,
      "outputs": [
        {
          "output_type": "stream",
          "name": "stdout",
          "text": [
            "dict_keys(['nombre', 'edad'])\n"
          ]
        }
      ]
    },
    {
      "cell_type": "markdown",
      "source": [
        "Obtener todos los valores del diccionario, utilizando la propiedad \"values\":"
      ],
      "metadata": {
        "id": "tF1mZjVTTtfa"
      }
    },
    {
      "cell_type": "code",
      "source": [
        "mi_diccionario = {\"nombre\": \"Juan\", \"edad\": 25}\n",
        "print(mi_diccionario.values())"
      ],
      "metadata": {
        "id": "fslDkFXFTzoe",
        "colab": {
          "base_uri": "https://localhost:8080/"
        },
        "outputId": "990be34f-b0c7-4aec-90a4-a141c72237f7"
      },
      "execution_count": null,
      "outputs": [
        {
          "output_type": "stream",
          "name": "stdout",
          "text": [
            "dict_values(['Juan', 25])\n"
          ]
        }
      ]
    },
    {
      "cell_type": "markdown",
      "source": [
        "Obtener todas las parejas clave-valor del diccionario, utilizando la propiedad \"items\":"
      ],
      "metadata": {
        "id": "orANyaP_T5Op"
      }
    },
    {
      "cell_type": "code",
      "source": [
        "mi_diccionario = {\"nombre\": \"Juan\", \"edad\": 25}\n",
        "print(mi_diccionario.items())"
      ],
      "metadata": {
        "id": "xFSv4kE5UC3K",
        "colab": {
          "base_uri": "https://localhost:8080/"
        },
        "outputId": "99b01855-58ed-4357-803e-4d37a45f36ef"
      },
      "execution_count": null,
      "outputs": [
        {
          "output_type": "stream",
          "name": "stdout",
          "text": [
            "dict_items([('nombre', 'Juan'), ('edad', 25)])\n"
          ]
        }
      ]
    },
    {
      "cell_type": "markdown",
      "source": [
        "Copiar un diccionario, utilizando la propiedad \"copy\":"
      ],
      "metadata": {
        "id": "GRpuBbw4UEot"
      }
    },
    {
      "cell_type": "code",
      "source": [
        "mi_diccionario = {\"nombre\": \"Juan\", \"edad\": 25}\n",
        "nuevo_diccionario = mi_diccionario.copy()\n",
        "print(nuevo_diccionario)\n"
      ],
      "metadata": {
        "id": "q0eiswkjUG7Z",
        "colab": {
          "base_uri": "https://localhost:8080/"
        },
        "outputId": "52e65e67-ab3d-4da0-bed3-91052c38e85d"
      },
      "execution_count": null,
      "outputs": [
        {
          "output_type": "stream",
          "name": "stdout",
          "text": [
            "{'nombre': 'Juan', 'edad': 25}\n"
          ]
        }
      ]
    },
    {
      "cell_type": "markdown",
      "source": [
        "Vaciar un diccionario:"
      ],
      "metadata": {
        "id": "if84sEZpUPir"
      }
    },
    {
      "cell_type": "code",
      "source": [
        "mi_diccionario = {\"nombre\": \"Juan\", \"edad\": 25}\n",
        "mi_diccionario.clear()\n",
        "print(mi_diccionario)"
      ],
      "metadata": {
        "id": "962XUf3JUQGg",
        "colab": {
          "base_uri": "https://localhost:8080/"
        },
        "outputId": "e08bc027-a5a9-425c-ce20-fb028d35c73a"
      },
      "execution_count": null,
      "outputs": [
        {
          "output_type": "stream",
          "name": "stdout",
          "text": [
            "{}\n"
          ]
        }
      ]
    },
    {
      "cell_type": "markdown",
      "source": [
        "Obtener un valor predeterminado si la clave no existe:"
      ],
      "metadata": {
        "id": "61GJ09xrUSB1"
      }
    },
    {
      "cell_type": "code",
      "source": [
        "mi_diccionario = {\"nombre\": \"Juan\", \"edad\": 25}\n",
        "valor_predeterminado = mi_diccionario.get(\"ciudad\", \"Barcelona\")\n",
        "print(valor_predeterminado)\n"
      ],
      "metadata": {
        "id": "p3X5Mm6BUUZ1",
        "colab": {
          "base_uri": "https://localhost:8080/"
        },
        "outputId": "f59627f2-d361-433c-d563-3c32aacc161a"
      },
      "execution_count": null,
      "outputs": [
        {
          "output_type": "stream",
          "name": "stdout",
          "text": [
            "Barcelona\n"
          ]
        }
      ]
    },
    {
      "cell_type": "markdown",
      "source": [
        "##Introduccion a NumPy, para manipular listas"
      ],
      "metadata": {
        "id": "hzJ3171OYlK2"
      }
    },
    {
      "cell_type": "markdown",
      "source": [
        "**NumPy (Numerical Python)** es una biblioteca de Python que se utiliza para realizar cálculos numéricos en matrices y matrices multidimensionales. Proporciona una amplia gama de funciones matemáticas y operaciones que son útiles en aplicaciones científicas y de ingeniería."
      ],
      "metadata": {
        "id": "_H6f_53CYqBQ"
      }
    },
    {
      "cell_type": "code",
      "source": [
        "#Importamos la libreria numpy\n",
        "import numpy as np"
      ],
      "metadata": {
        "id": "gBskLGNjYwiR"
      },
      "execution_count": null,
      "outputs": []
    },
    {
      "cell_type": "markdown",
      "source": [
        "Crear una matriz a partir de una lista de Python:"
      ],
      "metadata": {
        "id": "IPe-GS_IY6Gr"
      }
    },
    {
      "cell_type": "code",
      "source": [
        "import numpy as np\n",
        "\n",
        "lista = [1, 2, 3, 4, 5]\n",
        "matriz = np.array(lista)\n",
        "print(matriz)\n"
      ],
      "metadata": {
        "id": "vPWOpzlGY75U",
        "colab": {
          "base_uri": "https://localhost:8080/"
        },
        "outputId": "ba9544e1-3a79-42d5-d0a4-0a250e82ec04"
      },
      "execution_count": null,
      "outputs": [
        {
          "output_type": "stream",
          "name": "stdout",
          "text": [
            "[1 2 3 4 5]\n"
          ]
        }
      ]
    },
    {
      "cell_type": "markdown",
      "source": [
        "Crear una matriz multidimensional a partir de una lista de listas:"
      ],
      "metadata": {
        "id": "GLxkNUHSZEpf"
      }
    },
    {
      "cell_type": "code",
      "source": [
        "import numpy as np\n",
        "\n",
        "tabla = [[1, 2, 3], [4, 5, 6], [7, 8, 9]]\n",
        "matriz = np.array(tabla)\n",
        "print(matriz)\n"
      ],
      "metadata": {
        "id": "7hVq51H0ZFyT",
        "colab": {
          "base_uri": "https://localhost:8080/"
        },
        "outputId": "e11fc8fb-9fdb-4d47-b687-e75976cbfce6",
        "collapsed": true
      },
      "execution_count": null,
      "outputs": [
        {
          "output_type": "stream",
          "name": "stdout",
          "text": [
            "[[1 2 3]\n",
            " [4 5 6]\n",
            " [7 8 9]]\n"
          ]
        }
      ]
    },
    {
      "cell_type": "markdown",
      "source": [
        "Realizar una operación matemática en una matriz de NumPy creada a partir de una lista:"
      ],
      "metadata": {
        "id": "-4eDqYwxZOSa"
      }
    },
    {
      "cell_type": "code",
      "source": [
        "import numpy as np\n",
        "\n",
        "lista = [1, 2, 3, 4, 5]\n",
        "matriz = np.array(lista)\n",
        "\n",
        "#Multiplicar cada elemento de la matriz por 2\n",
        "resultado = matriz * 2\n",
        "print(resultado)\n"
      ],
      "metadata": {
        "id": "xZdiUp7lZPF9",
        "colab": {
          "base_uri": "https://localhost:8080/"
        },
        "outputId": "6719442e-6dbb-4368-b4ec-5eb56f8b8329"
      },
      "execution_count": null,
      "outputs": [
        {
          "output_type": "stream",
          "name": "stdout",
          "text": [
            "[ 2  4  6  8 10]\n"
          ]
        }
      ]
    },
    {
      "cell_type": "markdown",
      "source": [
        "Obtener el valor **máximo** y **mínimo** de una matriz de NumPy creada a partir de una lista:"
      ],
      "metadata": {
        "id": "zoL6OPwUZWMu"
      }
    },
    {
      "cell_type": "code",
      "source": [
        "import numpy as np\n",
        "\n",
        "lista = [1, 2, 3, 4, 5]\n",
        "matriz = np.array(lista)\n",
        "\n",
        "#Obtener el valor máximo y mínimo de la matriz\n",
        "maximo = np.max(matriz)\n",
        "minimo = np.min(matriz)\n",
        "\n",
        "print(\"Valor máximo:\", maximo)\n",
        "print(\"Valor mínimo:\", minimo)\n"
      ],
      "metadata": {
        "id": "5wW7fN9LZZTx",
        "colab": {
          "base_uri": "https://localhost:8080/"
        },
        "outputId": "b06242ec-e097-4a00-e7f4-3891b14155f2"
      },
      "execution_count": null,
      "outputs": [
        {
          "output_type": "stream",
          "name": "stdout",
          "text": [
            "Valor máximo: 5\n",
            "Valor mínimo: 1\n"
          ]
        }
      ]
    },
    {
      "cell_type": "markdown",
      "source": [
        "Crear una matriz con valores aleatorios de una lista de tamaño especificado:"
      ],
      "metadata": {
        "id": "pvzQB7SfZqtU"
      }
    },
    {
      "cell_type": "code",
      "source": [
        "import numpy as np\n",
        "\n",
        "lista = [1, 2, 3, 4, 5, 6, 7, 8, 9, 10, 11, 12, 13]\n",
        "tamano = int(input(\"De que tamaño desea la lista? \"))\n",
        "matriz = np.array(lista)\n",
        "\n",
        "#Crear una matriz de tamaño 3 con valores aleatorios de la lista\n",
        "matriz_aleatoria = np.random.choice(matriz, size=(tamano))\n",
        "print(matriz_aleatoria)"
      ],
      "metadata": {
        "id": "Du9dk_H1Zr5a",
        "colab": {
          "base_uri": "https://localhost:8080/"
        },
        "outputId": "8a5bb475-146f-4f5e-cc66-6a9f9d63a481"
      },
      "execution_count": null,
      "outputs": [
        {
          "output_type": "stream",
          "name": "stdout",
          "text": [
            "De que tamaño desea la lista? 15\n",
            "[ 3  9  8  1  4  8  1 12  6  6 10 13 10  8  9]\n"
          ]
        }
      ]
    },
    {
      "cell_type": "markdown",
      "source": [
        "##Filtrando valores de una lista usando NumPy\n",
        "\n",
        "Es posible filtrar los valores de una lista utilizando **NumPy** de varias maneras. Una forma común es utilizar la **indexación booleana**, que te permite seleccionar solo los elementos de una matriz que cumplan con una determinada condición."
      ],
      "metadata": {
        "id": "wyNpIECvaLqo"
      }
    },
    {
      "cell_type": "markdown",
      "source": [
        "Filtrar valores **mayores** a un numero x:"
      ],
      "metadata": {
        "id": "CvgpiyADaya3"
      }
    },
    {
      "cell_type": "code",
      "source": [
        "import numpy as np\n",
        "\n",
        "#Crear una lista de números aleatorios\n",
        "lista = [1, 2, 3, 4, 5, 6, 7, 8, 9, 10]\n",
        "\n",
        "#Convertir la lista en una matriz de NumPy\n",
        "matriz = np.array(lista)\n",
        "\n",
        "#Crear una variable para filtrar los valores mayores que 5\n",
        "filtro =  matriz < 6\n",
        "filtro2 =  matriz > 6\n",
        "\n",
        "#Filtrar los valores mayores que 5\n",
        "resultado = matriz[filtro2]\n",
        "\n",
        "#Imprimir el resultado\n",
        "print(resultado)\n"
      ],
      "metadata": {
        "id": "0QRkmVVXalbP",
        "colab": {
          "base_uri": "https://localhost:8080/"
        },
        "outputId": "db0bf9a3-e843-4819-d638-8ff313d07c69"
      },
      "execution_count": null,
      "outputs": [
        {
          "output_type": "stream",
          "name": "stdout",
          "text": [
            "[ 7  8  9 10]\n"
          ]
        }
      ]
    },
    {
      "cell_type": "markdown",
      "source": [
        "Filtrar valores menores que un número específico:"
      ],
      "metadata": {
        "id": "q3EGE15ta5n1"
      }
    },
    {
      "cell_type": "code",
      "source": [
        "import numpy as np\n",
        "\n",
        "#Crear una lista de números aleatorios\n",
        "lista = [1, 2, 3, 4, 5, 6, 7, 8, 9, 10]\n",
        "\n",
        "#Convertir la lista en una matriz de NumPy\n",
        "matriz = np.array(lista)\n",
        "\n",
        "#Filtrar los valores menores que 5\n",
        "resultado = matriz[matriz < 5]\n",
        "\n",
        "#Imprimir el resultado\n",
        "print(resultado)"
      ],
      "metadata": {
        "id": "nFg7Zddxa8YO"
      },
      "execution_count": null,
      "outputs": []
    },
    {
      "cell_type": "markdown",
      "source": [
        "Generando la media o el valor promedio de una lista:"
      ],
      "metadata": {
        "id": "iMUFjNWFjIEM"
      }
    },
    {
      "cell_type": "code",
      "source": [
        "import numpy as np\n",
        "\n",
        "#Crear una lista de números aleatorios\n",
        "#lista = [1, 2, 3, 4, 5, 6, 7, 8, 9, 10]\n",
        "lista = [80,50,10,5.5,100, 9, 10]\n",
        "\n",
        "#Convertir la lista en una matriz de NumPy\n",
        "matriz = np.array(lista)\n",
        "\n",
        "#Filtrar los valores menores que 5\n",
        "resultado = np.mean(matriz)\n",
        "\n",
        "#Imprimir el resultado\n",
        "print(resultado)\n"
      ],
      "metadata": {
        "id": "hZcDOUOGi21r",
        "colab": {
          "base_uri": "https://localhost:8080/"
        },
        "outputId": "f98ac606-27d7-4b66-972d-42065b36f71a"
      },
      "execution_count": null,
      "outputs": [
        {
          "output_type": "stream",
          "name": "stdout",
          "text": [
            "37.785714285714285\n"
          ]
        }
      ]
    },
    {
      "cell_type": "markdown",
      "source": [
        "Filtrar valores entre dos números específicos:"
      ],
      "metadata": {
        "id": "TWliYw1hbCiL"
      }
    },
    {
      "cell_type": "code",
      "source": [
        "import numpy as np\n",
        "\n",
        "#Crear una lista de números aleatorios\n",
        "lista = [1, 2, 3, 4, 5, 6, 7, 8, 9, 10]\n",
        "\n",
        "#Convertir la lista en una matriz de NumPy\n",
        "matriz = np.array(lista)\n",
        "\n",
        "#Filtrar los valores entre 3 y 7\n",
        "resultado = matriz[(matriz > 3) & (matriz < 7)]\n",
        "\n",
        "#Imprimir el resultado\n",
        "print(resultado)\n"
      ],
      "metadata": {
        "id": "oMjMbJwtbIso",
        "colab": {
          "base_uri": "https://localhost:8080/"
        },
        "outputId": "aefc1ccb-feab-49b2-ecae-bd090eb7d097"
      },
      "execution_count": null,
      "outputs": [
        {
          "output_type": "stream",
          "name": "stdout",
          "text": [
            "[4 5 6]\n"
          ]
        }
      ]
    },
    {
      "cell_type": "markdown",
      "source": [
        "Filtrar valores que cumplen una condición específica utilizando una función de NumPy:"
      ],
      "metadata": {
        "id": "yc7DbazWbSEj"
      }
    },
    {
      "cell_type": "code",
      "source": [
        "import numpy as np\n",
        "\n",
        "#Crear una lista de números aleatorios\n",
        "lista = [1, 2, 3, 4, 5, 6, 7, 8, 9, 10]\n",
        "\n",
        "#Convertir la lista en una matriz de NumPy\n",
        "matriz = np.array(lista)\n",
        "\n",
        "#Filtrar los valores pares utilizando mod\n",
        "resultado = matriz[np.mod(matriz, 5) == 0]\n",
        "\n",
        "#Imprimir el resultado\n",
        "print(resultado)\n"
      ],
      "metadata": {
        "id": "EEhr2LYAbUfS",
        "colab": {
          "base_uri": "https://localhost:8080/"
        },
        "outputId": "a26f6849-2535-4c6b-b31e-6fe740492084"
      },
      "execution_count": null,
      "outputs": [
        {
          "output_type": "stream",
          "name": "stdout",
          "text": [
            "[ 5 10]\n"
          ]
        }
      ]
    },
    {
      "cell_type": "markdown",
      "source": [
        "En este ejemplo, utilizamos la función **np.mod()** de NumPy para obtener el resto de la división de cada elemento de la matriz por 2. Luego, utilizamos la indexación booleana para filtrar los valores de la matriz que tienen un resto de división igual a 0, lo que significa que son pares."
      ],
      "metadata": {
        "id": "WNYZsnHDbdOI"
      }
    },
    {
      "cell_type": "markdown",
      "source": [
        "##Otras funciones\n",
        "\n",
        "NumPy es una librería muy grande con muchas funciones y herramientas útiles para trabajar con matrices y arreglos en Python. Algunas de las funciones útiles de NumPy:\n",
        "\n",
        "* numpy.array(): Crea una matriz de NumPy a partir de una lista o tupla de valores.\n",
        "* numpy.zeros(): Crea una matriz de NumPy llena de ceros.\n",
        "* numpy.ones(): Crea una matriz de NumPy llena de unos.\n",
        "* numpy.full(): Crea una matriz de NumPy llena de un valor específico.\n",
        "* etc..etc..\n"
      ],
      "metadata": {
        "id": "S3VJpOiNb0HB"
      }
    }
  ]
}