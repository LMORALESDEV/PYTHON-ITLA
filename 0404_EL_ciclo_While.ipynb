{
  "nbformat": 4,
  "nbformat_minor": 0,
  "metadata": {
    "colab": {
      "provenance": [],
      "collapsed_sections": [
        "zc8fYjq8qBvJ",
        "JShmUhrlJNTC"
      ],
      "include_colab_link": true
    },
    "kernelspec": {
      "name": "python3",
      "display_name": "Python 3"
    },
    "language_info": {
      "name": "python"
    }
  },
  "cells": [
    {
      "cell_type": "markdown",
      "metadata": {
        "id": "view-in-github",
        "colab_type": "text"
      },
      "source": [
        "<a href=\"https://colab.research.google.com/github/LMORALESDEV/PYTHON-ITLA/blob/main/0404_EL_ciclo_While.ipynb\" target=\"_parent\"><img src=\"https://colab.research.google.com/assets/colab-badge.svg\" alt=\"Open In Colab\"/></a>"
      ]
    },
    {
      "cell_type": "markdown",
      "source": [
        "#Antes de iniciar...\n",
        "La **iteración** es el acto de repetir un proceso, para generar una secuencia de resultados (posiblemente ilimitada), con el objetivo de acercarse a un propósito o resultado deseado.\n",
        "\n",
        "En la programación de computadoras, la iteración, también llamada con el término inglés **loop**, es una estructura de control, dentro de un algoritmo que resuelve un problema dado, que ordena a la computadora ejecutar repetidamente una secuencia de instrucciones, generalmente hasta la ocurrencia de condiciones lógicas específicas."
      ],
      "metadata": {
        "id": "bmk6SOoL3_MA"
      }
    },
    {
      "cell_type": "markdown",
      "metadata": {
        "id": "RKUGUbL6iUVa"
      },
      "source": [
        "#Los Ciclos en Python\n"
      ]
    },
    {
      "cell_type": "markdown",
      "metadata": {
        "id": "f7vSZetRicLW"
      },
      "source": [
        "* **while**\n",
        "* **for**\n"
      ]
    },
    {
      "cell_type": "markdown",
      "metadata": {
        "id": "v443tiS8Hb1Q"
      },
      "source": [
        "# Ciclo ***while***"
      ]
    },
    {
      "cell_type": "markdown",
      "metadata": {
        "id": "Vxt-Z6rNHloy"
      },
      "source": [
        "El ciclo while le dice a la computadora que haga algo siempre que se cumpla la condición.\n",
        "\n",
        "Su construcción consiste en un bloque de código y una condición.\n",
        "\n",
        "La condición se evalúa y si la condición es verdadera, se ejecuta el código dentro del bloque. Esto se repite hasta que la condición se vuelve falsa.\n",
        "\n",
        "En Resumen, ejecuta una sección de código en base a una condición, al igual que el control “**IF ELSE**”. Sin embargo, ejecutará el código mientras la condición se mantenga. El código dentro del dominio del **WHILE** se ejecutará siempre y cuando la condición se mantenga.\n",
        "\n",
        "Tres componentes que se necesita para construir el bucle ***while***:\n",
        "\n",
        "*   La palabra clave *while*.\n",
        "*   Una condición que cambia a Verdadero o Falso.\n",
        "*   Un bloque de código que desea ejecutar repetidamente."
      ]
    },
    {
      "cell_type": "markdown",
      "source": [
        "**La sintaxis básica es:**\n",
        "\n"
      ],
      "metadata": {
        "id": "qfm3idGF6f8h"
      }
    },
    {
      "cell_type": "code",
      "source": [
        "contador = 0\n",
        "while contador < 10:\n",
        "   # Ejecuta el bloque de código aquí\n",
        "   # Siempre que el contador sea inferior a 10\n",
        "   contador = contador + 1  #Aumenta el valor de la variable, cada vez que el\n",
        "   print(contador)                         #bucle es recorrido, tambien conocido como \"Incrementador\"\n"
      ],
      "metadata": {
        "id": "OxLFB5d_6i3Q"
      },
      "execution_count": null,
      "outputs": []
    },
    {
      "cell_type": "markdown",
      "metadata": {
        "id": "Tvsy7inDZEif"
      },
      "source": [
        "#Ejemplo 1\n"
      ]
    },
    {
      "cell_type": "markdown",
      "metadata": {
        "id": "BDvu4X2vfURO"
      },
      "source": [
        "Hacer un ciclo desde 1 hasta que sea menor a 5.\n",
        "Se inicializa la variable *i* en uno.\n",
        "\n",
        "La condición del ciclo *while* es mientras que el valor de la variable i sea menor a 5.\n",
        "\n",
        "Si la condición se cumple se usa la función *print* para imprimir el valor de *i* en una cadena de texto. Se hace una concatenación (se usa el simbolo + para unir dos cadenas de texto) de la cadena de texto \"El valor de la variable i es \" con el valor de la variable *i*. Pero como la variable *i* es un valor de tipo entero se utiliza la función *str* para convertir el valor de la variable *i* en una cadena de texto.\n",
        "\n",
        "Por último, se incrementa el valor de la variable *i*. Esta última instrucción es muy importante porque permite incrementar el valor de la variable *i* hasta que se logre super la condición del ciclo *while* y así finalice la ejecuión.\n",
        "\n",
        "Es importante recordar que el simbolo # se utiliza para incluir comentarios en el código Python. Los comentarios se usan para explicar el código y no se ejecuta.\n",
        "\n",
        "\n",
        "\n"
      ]
    },
    {
      "cell_type": "code",
      "metadata": {
        "id": "dJiRXSIGZbV0"
      },
      "source": [
        "i = 1  # Asignar un valor a la variable i\n",
        "while i < 5 :     # Condición del ciclo while\n",
        "    i = i + 1\n",
        "    print(\"El valor de i es: \"+ str(i))\n",
        "         # Se incrementa el valor de la variable i\n"
      ],
      "execution_count": null,
      "outputs": []
    },
    {
      "cell_type": "markdown",
      "metadata": {
        "id": "ieV10MCxZdgU"
      },
      "source": [
        "#Ejemplo 2\n"
      ]
    },
    {
      "cell_type": "markdown",
      "metadata": {
        "id": "oG0RLEwPfnLE"
      },
      "source": [
        "Hacer un ciclo desde 1 hasta que sea menor a 15. Además, incluir condicionales dentro del ciclo.\n",
        "\n",
        "Recordando que el % es para determinar el RESIDUO o MODULO o RESTO\n",
        "\n",
        "/\n",
        "%"
      ]
    },
    {
      "cell_type": "code",
      "metadata": {
        "id": "SHTUiOuzZfNU"
      },
      "source": [
        "i = 1     # Asignar un valor a la variable i\n",
        "while i <= 25 :     # Condición del ciclo while\n",
        "    if i % 2 == 0:\n",
        "        print(\"El número \"+str(i)+\" es par\")\n",
        "        print(f\"El número {str(i)} es par\")\n",
        "    else:\n",
        "        print(\"El número \"+str(i)+\" es impar\")\n",
        "    i = i + 1     # Se incrementa el valor de la variable i\n"
      ],
      "execution_count": null,
      "outputs": []
    },
    {
      "cell_type": "markdown",
      "metadata": {
        "id": "pheZkj-9ZjKl"
      },
      "source": [
        "#Ejemplo 3"
      ]
    },
    {
      "cell_type": "markdown",
      "metadata": {
        "id": "cBW0GHLjpbu6"
      },
      "source": [
        "Con la instrucción ***break*** se puede detener el ciclo incluso si la condición while es verdadera. En este ejemplo se detiene la ejecución del ciclo *while* cuando la variable ***i*** tiene alcanza el valor de 3.\n"
      ]
    },
    {
      "cell_type": "code",
      "metadata": {
        "id": "sy2IRdV1ph6t",
        "colab": {
          "base_uri": "https://localhost:8080/"
        },
        "outputId": "9e97bb6b-7c7c-4666-a273-7ca329ad6a00"
      },
      "source": [
        "i = 1\n",
        "while i <= 20:\n",
        "    print(\"El valor de i es \" +str(i))\n",
        "    if i == 14:\n",
        "        print(\"Detener el ciclo en \"+str(i))\n",
        "        break   #Detener el ciclo\n",
        "    i = i + 1\n"
      ],
      "execution_count": null,
      "outputs": [
        {
          "output_type": "stream",
          "name": "stdout",
          "text": [
            "El valor de i es 1\n",
            "El valor de i es 2\n",
            "El valor de i es 3\n",
            "El valor de i es 4\n",
            "El valor de i es 5\n",
            "El valor de i es 6\n",
            "El valor de i es 7\n",
            "El valor de i es 8\n",
            "El valor de i es 9\n",
            "El valor de i es 10\n",
            "El valor de i es 11\n",
            "El valor de i es 12\n",
            "El valor de i es 13\n",
            "El valor de i es 14\n",
            "Detener el ciclo en 14\n"
          ]
        }
      ]
    },
    {
      "cell_type": "markdown",
      "metadata": {
        "id": "MMxfbdu9pkJh"
      },
      "source": [
        "#Ejemplo 4"
      ]
    },
    {
      "cell_type": "markdown",
      "metadata": {
        "id": "ngJDa9b4pnLZ"
      },
      "source": [
        "Con la instrucción ***continue*** se puede detener la iteración actual y continuar con la siguiente iteración.  \n"
      ]
    },
    {
      "cell_type": "code",
      "metadata": {
        "id": "hE8RHma6pw_Z",
        "colab": {
          "base_uri": "https://localhost:8080/"
        },
        "outputId": "b5c88ba1-4271-409a-a4cd-ca35bc4d9d27"
      },
      "source": [
        "i = 0\n",
        "while i < 10:\n",
        "    print(\"El valor de i es \" +str(i))\n",
        "    i = i + 1\n",
        "    if i == 2 or i == 4:\n",
        "        print(\"Pausar la iteración actual en \" + str(i))\n",
        "        continue    #Detener la iteración actual y continuar con la siguiente\n"
      ],
      "execution_count": null,
      "outputs": [
        {
          "output_type": "stream",
          "name": "stdout",
          "text": [
            "El valor de i es 0\n",
            "El valor de i es 1\n",
            "Pausar la iteración actual en 2\n",
            "El valor de i es 2\n",
            "El valor de i es 3\n",
            "Pausar la iteración actual en 4\n",
            "El valor de i es 4\n",
            "El valor de i es 5\n",
            "El valor de i es 6\n",
            "El valor de i es 7\n",
            "El valor de i es 8\n",
            "El valor de i es 9\n"
          ]
        }
      ]
    },
    {
      "cell_type": "markdown",
      "metadata": {
        "id": "2ku-aIcyp9xK"
      },
      "source": [
        "#Ejemplo 5"
      ]
    },
    {
      "cell_type": "markdown",
      "metadata": {
        "id": "-pgi-R0IqGre"
      },
      "source": [
        "Con la instrucción ***else*** se puede ejecutar un bloque de código una vez que la condición del *while* ya no es verdadera.\n"
      ]
    },
    {
      "cell_type": "code",
      "metadata": {
        "id": "k9bjeKoOqR_P",
        "colab": {
          "base_uri": "https://localhost:8080/"
        },
        "outputId": "95d9a868-20b2-49f9-9bd3-cfce9d6618f2",
        "collapsed": true
      },
      "source": [
        "i = 1\n",
        "while i < 10:\n",
        "    print(\"El valor de i es \" +str(i))\n",
        "    i = i + 1\n",
        "    if i == 4:\n",
        "        print(\"Detener el ciclo en \"+str(i))\n",
        "        continue   #Detener el ciclo\n",
        "else:\n",
        "    print(\"i ya no es menor que 10\")"
      ],
      "execution_count": null,
      "outputs": [
        {
          "output_type": "stream",
          "name": "stdout",
          "text": [
            "El valor de i es 1\n",
            "El valor de i es 2\n",
            "El valor de i es 3\n",
            "Detener el ciclo en 4\n",
            "El valor de i es 4\n",
            "El valor de i es 5\n",
            "El valor de i es 6\n",
            "El valor de i es 7\n",
            "El valor de i es 8\n",
            "El valor de i es 9\n",
            "i ya no es menor que 10\n"
          ]
        }
      ]
    },
    {
      "cell_type": "markdown",
      "metadata": {
        "id": "BR49lv6zSSr0"
      },
      "source": [
        "# Fin"
      ]
    },
    {
      "cell_type": "markdown",
      "metadata": {
        "id": "zc8fYjq8qBvJ"
      },
      "source": [
        "#Ejemplo 6 (Para la Clase)"
      ]
    },
    {
      "cell_type": "markdown",
      "metadata": {
        "id": "Dq0CLP-FoDUC"
      },
      "source": [
        "Ciclos while anidados.  Por cada iteración del ciclo externo se **ejecuta** todas las iteraciones del ciclo anidado o interno.\n"
      ]
    },
    {
      "cell_type": "code",
      "metadata": {
        "id": "xylsGqCooOu5",
        "colab": {
          "base_uri": "https://localhost:8080/"
        },
        "outputId": "f24c9e3b-584e-43c7-9ef5-bae955fb03d9"
      },
      "source": [
        "i = 1   #Asignar a la variable i el valor de 1\n",
        "while i < 5:        #Ciclo externo\n",
        "    j = 1     #Declaramos una segunda variable j y le asignamos el valor de 1\n",
        "    while j < 5:    #Ciclo anidado\n",
        "        print(f\"{i} por {j} es\", str(i*j))    #Multiplica el iterable i por el iterable j\n",
        "        j = j +1\n",
        "    i = i * x + 1     #Incrementador"
      ],
      "execution_count": null,
      "outputs": [
        {
          "output_type": "stream",
          "name": "stdout",
          "text": [
            "1 por 1 es 1\n",
            "1 por 2 es 2\n",
            "1 por 3 es 3\n",
            "1 por 4 es 4\n",
            "2 por 1 es 2\n",
            "2 por 2 es 4\n",
            "2 por 3 es 6\n",
            "2 por 4 es 8\n",
            "3 por 1 es 3\n",
            "3 por 2 es 6\n",
            "3 por 3 es 9\n",
            "3 por 4 es 12\n",
            "4 por 1 es 4\n",
            "4 por 2 es 8\n",
            "4 por 3 es 12\n",
            "4 por 4 es 16\n"
          ]
        }
      ]
    },
    {
      "cell_type": "markdown",
      "metadata": {
        "id": "JShmUhrlJNTC"
      },
      "source": [
        "# Encuentra y corrije el error en este problema"
      ]
    },
    {
      "cell_type": "code",
      "metadata": {
        "id": "Ej8XYSlNJSpu",
        "colab": {
          "base_uri": "https://localhost:8080/"
        },
        "outputId": "8e3852e9-6be7-48ed-a0c7-179d69a6126c"
      },
      "source": [
        "i = 1\n",
        "while i <= 3:   #Ciclo externo\n",
        "  j = 1\n",
        "  while j <= 3:   #Ciclo anidado\n",
        "    print(str(i)+\" por \" + str(j) + \" es \" + str(i*j))\n",
        "    #print(str(i) + \" por \" + j + \" es \" + i*j)\n",
        "    j = j + 1\n",
        "  i = i + 1"
      ],
      "execution_count": null,
      "outputs": [
        {
          "output_type": "stream",
          "name": "stdout",
          "text": [
            "1 por 1 es 1\n",
            "1 por 2 es 2\n",
            "1 por 3 es 3\n",
            "2 por 1 es 2\n",
            "2 por 2 es 4\n",
            "2 por 3 es 6\n",
            "3 por 1 es 3\n",
            "3 por 2 es 6\n",
            "3 por 3 es 9\n"
          ]
        }
      ]
    },
    {
      "cell_type": "markdown",
      "metadata": {
        "id": "i2XsS5LgJm_b"
      },
      "source": [
        "El error es que ***no*** se incrementar el valor de j.\n",
        "\n",
        "Se produce un ciclo infinito."
      ]
    }
  ]
}