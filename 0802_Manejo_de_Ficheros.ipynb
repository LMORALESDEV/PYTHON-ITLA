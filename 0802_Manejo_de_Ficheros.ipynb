{
  "nbformat": 4,
  "nbformat_minor": 0,
  "metadata": {
    "colab": {
      "provenance": [],
      "include_colab_link": true
    },
    "kernelspec": {
      "name": "python3",
      "display_name": "Python 3"
    },
    "language_info": {
      "name": "python"
    }
  },
  "cells": [
    {
      "cell_type": "markdown",
      "metadata": {
        "id": "view-in-github",
        "colab_type": "text"
      },
      "source": [
        "<a href=\"https://colab.research.google.com/github/LMORALESDEV/PYTHON-ITLA/blob/main/0802_Manejo_de_Ficheros.ipynb\" target=\"_parent\"><img src=\"https://colab.research.google.com/assets/colab-badge.svg\" alt=\"Open In Colab\"/></a>"
      ]
    },
    {
      "cell_type": "markdown",
      "source": [
        "#Temas a tratar\n",
        "\n",
        "1. Creando Ficheros\n",
        "2. Modificando Ficheros\n",
        "3. Módulo Pickle\n",
        "4. Ficheros CSV\n",
        "5. Codificación(encoding)"
      ],
      "metadata": {
        "id": "8lB1dYlklz4b"
      }
    },
    {
      "cell_type": "markdown",
      "metadata": {
        "id": "PDABzKXkuzrO"
      },
      "source": [
        "#1. Ficheros de texto\n",
        "## Crear fichero y escribir texto - modo **WHITE** (w).\n",
        "###Lo primero será importar el modulo **\"io\"**(Colab ya viene con el incorporado)"
      ]
    },
    {
      "cell_type": "code",
      "source": [
        "from io import open"
      ],
      "metadata": {
        "id": "38sYjkd2vXGq"
      },
      "execution_count": null,
      "outputs": []
    },
    {
      "cell_type": "code",
      "execution_count": null,
      "metadata": {
        "collapsed": true,
        "id": "LX4n-TjZuzrR"
      },
      "outputs": [],
      "source": [
        "#Variable con 2 lineas\n",
        "texto = \"Una línea con texto\\nOtra línea con texto\""
      ]
    },
    {
      "cell_type": "code",
      "execution_count": null,
      "metadata": {
        "collapsed": true,
        "id": "LudRObjCuzrS"
      },
      "outputs": [],
      "source": [
        "#Creamos fichero.txt ruta donde lo crearemos\n",
        "#Le pasamos el parametro 'w' indica modo de escritura, write (puntero principio)\n",
        "fichero = open('fichero.txt','w')"
      ]
    },
    {
      "cell_type": "code",
      "execution_count": null,
      "metadata": {
        "id": "DuH0V4BauzrT"
      },
      "outputs": [],
      "source": [
        "#Escribimos el texto o le pasamos una variable\n",
        "fichero.write(texto)"
      ]
    },
    {
      "cell_type": "code",
      "execution_count": null,
      "metadata": {
        "collapsed": true,
        "id": "IU3bIAV8uzrT"
      },
      "outputs": [],
      "source": [
        "#Cerramos el fichero\n",
        "fichero.close()"
      ]
    },
    {
      "cell_type": "code",
      "source": [
        "fichero = open('fichero.txt','w')  #Sobreescribir el fichero"
      ],
      "metadata": {
        "id": "ma9hpJErw5xy"
      },
      "execution_count": null,
      "outputs": []
    },
    {
      "cell_type": "markdown",
      "source": [
        "####NOTA: No debemos abrir un fichero con el modo WRITE (w), porque este sobreescribir el fichero, tenerlo presente."
      ],
      "metadata": {
        "id": "--JlX9vWxAJX"
      }
    },
    {
      "cell_type": "markdown",
      "metadata": {
        "id": "8VjoSN8VuzrU"
      },
      "source": [
        "## Lectura de un fichero de texto - Modo READ(r)"
      ]
    },
    {
      "cell_type": "code",
      "execution_count": null,
      "metadata": {
        "collapsed": true,
        "id": "gCWSHuc9uzrU"
      },
      "outputs": [],
      "source": [
        "#Abrimos el fichero modo lectura read, por defecto ya es 'r', es opcional.\n",
        "fichero = open('fichero.txt','r')"
      ]
    },
    {
      "cell_type": "code",
      "execution_count": null,
      "metadata": {
        "collapsed": true,
        "id": "wK59VpWYuzrU"
      },
      "outputs": [],
      "source": [
        "#Leemos el contenido del fichero y lo guardamos en la variable 'texto'\n",
        "texto = fichero.read()"
      ]
    },
    {
      "cell_type": "code",
      "execution_count": null,
      "metadata": {
        "collapsed": true,
        "id": "j7wPoSV3uzrV"
      },
      "outputs": [],
      "source": [
        "#Una vez terminamos de trabajar, procedemos a cerrar el fichero.\n",
        "fichero.close()"
      ]
    },
    {
      "cell_type": "code",
      "execution_count": null,
      "metadata": {
        "id": "oWrNQxxluzrV"
      },
      "outputs": [],
      "source": [
        "#Si se ha ejecutado correctamente, nos debe imprimir el contenido del fichero.\n",
        "print(texto)"
      ]
    },
    {
      "cell_type": "markdown",
      "source": [
        "##Almacenando el contenido de cada linea del fichero en una lista, usando el método **READLINES**"
      ],
      "metadata": {
        "id": "nx5Vxwl5zM_Q"
      }
    },
    {
      "cell_type": "code",
      "execution_count": null,
      "metadata": {
        "id": "G-tp6FMSuzrW"
      },
      "outputs": [],
      "source": [
        "#Abrimos el fichero en modo lectura\n",
        "fichero = open('fichero.txt','r')\n",
        "\n",
        "#Leemos el fichero, creando una lista de líneas\n",
        "texto = fichero.readlines()\n",
        "\n",
        "#Cerramos e imprimimos su contenido\n",
        "fichero.close()\n",
        "print(texto)"
      ]
    },
    {
      "cell_type": "code",
      "execution_count": null,
      "metadata": {
        "id": "EF33gIYMuzrW",
        "outputId": "2a5069f9-ea1a-4fe1-a32d-d281c2561bab",
        "colab": {
          "base_uri": "https://localhost:8080/"
        }
      },
      "outputs": [
        {
          "output_type": "stream",
          "name": "stdout",
          "text": [
            "Otra línea con texto\n"
          ]
        }
      ],
      "source": [
        "#Mostramos última línea, igual que una lista normal\n",
        "print(texto[-1])"
      ]
    },
    {
      "cell_type": "markdown",
      "metadata": {
        "id": "WThzgNI2uzrW"
      },
      "source": [
        "## Extensión de un fichero de texto - Modo APPEND(a)"
      ]
    },
    {
      "cell_type": "code",
      "execution_count": null,
      "metadata": {
        "collapsed": true,
        "id": "S-wt8MDRuzrW"
      },
      "outputs": [],
      "source": [
        "# Abrimos el fichero y con modo 'a', APPEND, apra añadir - extender (puntero al final)\n",
        "fichero = open('fichero.txt','a')"
      ]
    },
    {
      "cell_type": "code",
      "execution_count": null,
      "metadata": {
        "id": "5h3tRg-RuzrX",
        "colab": {
          "base_uri": "https://localhost:8080/"
        },
        "outputId": "79632fac-b43c-4f00-db8e-d02d975845fa"
      },
      "outputs": [
        {
          "output_type": "execute_result",
          "data": {
            "text/plain": [
              "30"
            ]
          },
          "metadata": {},
          "execution_count": 29
        }
      ],
      "source": [
        "#Agregamos una linea al final del fichero\n",
        "fichero.write('\\nOtra línea más abajo del todo')"
      ]
    },
    {
      "cell_type": "markdown",
      "source": [
        "####NOTA: Devolverá la cantidad de caracteres que se han agregado."
      ],
      "metadata": {
        "id": "q4PJfroa0wn8"
      }
    },
    {
      "cell_type": "code",
      "execution_count": null,
      "metadata": {
        "id": "EFVvKbJPuzrX"
      },
      "outputs": [],
      "source": [
        "#Cerramos el fichero\n",
        "fichero.close()"
      ]
    },
    {
      "cell_type": "code",
      "source": [
        "#Validamos la nueva linea\n",
        "fichero = open('fichero.txt','r')\n",
        "texto = fichero.readlines()\n",
        "fichero.close()\n",
        "print(texto)"
      ],
      "metadata": {
        "colab": {
          "base_uri": "https://localhost:8080/"
        },
        "id": "Uey2BAJg1F20",
        "outputId": "20e8efdd-2f20-4319-8431-65385211cd5d"
      },
      "execution_count": null,
      "outputs": [
        {
          "output_type": "stream",
          "name": "stdout",
          "text": [
            "['Una línea con texto\\n', 'Otra línea con texto\\n', 'Otra línea más abajo del todo']\n"
          ]
        }
      ]
    },
    {
      "cell_type": "markdown",
      "metadata": {
        "id": "VA1RDzCBuzrX"
      },
      "source": [
        "## Lectura de un fichero no existente - FileNotFoundError"
      ]
    },
    {
      "cell_type": "code",
      "execution_count": null,
      "metadata": {
        "id": "QtWMBmTPuzrX",
        "outputId": "aaa789ed-7a2a-454e-9fd3-31f2cadcb1a6",
        "colab": {
          "base_uri": "https://localhost:8080/",
          "height": 184
        }
      },
      "outputs": [
        {
          "output_type": "error",
          "ename": "FileNotFoundError",
          "evalue": "ignored",
          "traceback": [
            "\u001b[0;31m---------------------------------------------------------------------------\u001b[0m",
            "\u001b[0;31mFileNotFoundError\u001b[0m                         Traceback (most recent call last)",
            "\u001b[0;32m<ipython-input-32-53565a746e6f>\u001b[0m in \u001b[0;36m<cell line: 2>\u001b[0;34m()\u001b[0m\n\u001b[1;32m      1\u001b[0m \u001b[0;31m#Consultamos un fichero no existente en modo LECTURA(r)\u001b[0m\u001b[0;34m\u001b[0m\u001b[0;34m\u001b[0m\u001b[0m\n\u001b[0;32m----> 2\u001b[0;31m \u001b[0mfichero\u001b[0m \u001b[0;34m=\u001b[0m \u001b[0mopen\u001b[0m\u001b[0;34m(\u001b[0m\u001b[0;34m'fichero_inventado.txt'\u001b[0m\u001b[0;34m,\u001b[0m\u001b[0;34m'r'\u001b[0m\u001b[0;34m)\u001b[0m\u001b[0;34m\u001b[0m\u001b[0;34m\u001b[0m\u001b[0m\n\u001b[0m",
            "\u001b[0;31mFileNotFoundError\u001b[0m: [Errno 2] No such file or directory: 'fichero_inventado.txt'"
          ]
        }
      ],
      "source": [
        "#Consultamos un fichero no existente en modo LECTURA(r)\n",
        "fichero = open('fichero_inventado.txt','r')"
      ]
    },
    {
      "cell_type": "code",
      "execution_count": null,
      "metadata": {
        "id": "u2j1QAeOuzrX"
      },
      "outputs": [],
      "source": [
        "#Ahora lo abrimos en modo AGREGAR(a).\n",
        "#Extensión con escritura simultánea, este crearáa fichero si no existe.\n",
        "fichero = open('fichero_inventado.txt','a+')"
      ]
    },
    {
      "cell_type": "markdown",
      "metadata": {
        "id": "EtLkDZ-uuzrY"
      },
      "source": [
        "## Lectura línea a línea - Método READLINE (no confundir con READLINES)\n",
        "###El método Readline me permite leer el contenido de un fichero linea por linea, con cada ejecución el método, leerá una linea."
      ]
    },
    {
      "cell_type": "code",
      "execution_count": null,
      "metadata": {
        "collapsed": true,
        "id": "RU2XWbBXuzrY"
      },
      "outputs": [],
      "source": [
        "fichero = open('fichero.txt','r')"
      ]
    },
    {
      "cell_type": "code",
      "execution_count": null,
      "metadata": {
        "id": "WJK4RJ02uzrY",
        "outputId": "30423683-a596-44eb-bc3a-d5155451a7a6",
        "colab": {
          "base_uri": "https://localhost:8080/",
          "height": 35
        }
      },
      "outputs": [
        {
          "output_type": "execute_result",
          "data": {
            "text/plain": [
              "'Una línea con texto\\n'"
            ],
            "application/vnd.google.colaboratory.intrinsic+json": {
              "type": "string"
            }
          },
          "metadata": {},
          "execution_count": 35
        }
      ],
      "source": [
        "#Línea a línea, mostando la primera linea\n",
        "fichero.readline()"
      ]
    },
    {
      "cell_type": "code",
      "execution_count": null,
      "metadata": {
        "id": "UjxBhlHkuzrY",
        "outputId": "d5620b41-ea62-4a75-b967-505066389e97",
        "colab": {
          "base_uri": "https://localhost:8080/",
          "height": 35
        }
      },
      "outputs": [
        {
          "output_type": "execute_result",
          "data": {
            "text/plain": [
              "'Otra línea con texto\\n'"
            ],
            "application/vnd.google.colaboratory.intrinsic+json": {
              "type": "string"
            }
          },
          "metadata": {},
          "execution_count": 36
        }
      ],
      "source": [
        "#2da Linea\n",
        "fichero.readline()"
      ]
    },
    {
      "cell_type": "code",
      "execution_count": null,
      "metadata": {
        "id": "dFIn6PdFuzrY",
        "outputId": "9c7a0b31-884e-499d-c853-1d5a122054bc",
        "colab": {
          "base_uri": "https://localhost:8080/",
          "height": 35
        }
      },
      "outputs": [
        {
          "output_type": "execute_result",
          "data": {
            "text/plain": [
              "'Otra línea más abajo del todo'"
            ],
            "application/vnd.google.colaboratory.intrinsic+json": {
              "type": "string"
            }
          },
          "metadata": {},
          "execution_count": 37
        }
      ],
      "source": [
        "#3ra Linea\n",
        "fichero.readline()"
      ]
    },
    {
      "cell_type": "code",
      "source": [
        "#4ta Linea, vacia\n",
        "fichero.readline()"
      ],
      "metadata": {
        "colab": {
          "base_uri": "https://localhost:8080/",
          "height": 35
        },
        "id": "lkf1dkN43KVN",
        "outputId": "5238a4b0-613c-4167-cd15-cd8cbc1c9674"
      },
      "execution_count": null,
      "outputs": [
        {
          "output_type": "execute_result",
          "data": {
            "text/plain": [
              "''"
            ],
            "application/vnd.google.colaboratory.intrinsic+json": {
              "type": "string"
            }
          },
          "metadata": {},
          "execution_count": 38
        }
      ]
    },
    {
      "cell_type": "code",
      "execution_count": null,
      "metadata": {
        "collapsed": true,
        "id": "uJu0agEouzrZ"
      },
      "outputs": [],
      "source": [
        "#Cerramos el fichero una vez terminamos de trabajar\n",
        "fichero.close()"
      ]
    },
    {
      "cell_type": "markdown",
      "metadata": {
        "id": "_H7Ej27juzrZ"
      },
      "source": [
        "## Lectura línea a línea secuencial"
      ]
    },
    {
      "cell_type": "code",
      "execution_count": null,
      "metadata": {
        "scrolled": true,
        "id": "To8Uqq00uzrZ",
        "colab": {
          "base_uri": "https://localhost:8080/"
        },
        "outputId": "0ba24c59-bf69-4dcb-dbd5-e0693280247c"
      },
      "outputs": [
        {
          "output_type": "stream",
          "name": "stdout",
          "text": [
            "Una línea con texto\n",
            "\n",
            "Otra línea con texto\n",
            "\n",
            "Otra línea más abajo del todo\n"
          ]
        }
      ],
      "source": [
        "#Interamos la lista con FOR para mostrar el fichero linea por linea\n",
        "#Utilizamos 'WITH OPEN' para leer el fichero y pasarle el contenido a la variable 'fichero'\n",
        "with open(\"fichero.txt\", \"r\") as fichero:\n",
        "    for linea in fichero:\n",
        "        print(linea)"
      ]
    },
    {
      "cell_type": "markdown",
      "source": [
        "####NOTA: No lo mostrara con un salto de linea(doble linea), pero es una forma de lectura alternativa."
      ],
      "metadata": {
        "id": "C8Zl9B3r4-UN"
      }
    },
    {
      "cell_type": "markdown",
      "metadata": {
        "id": "9bOGgeCEuzrZ"
      },
      "source": [
        "## Manejando el puntero - Métodos SEEK y READ"
      ]
    },
    {
      "cell_type": "code",
      "source": [
        "#Leemos el fichero.txt\n",
        "fichero = open('fichero.txt','r')"
      ],
      "metadata": {
        "id": "xyMfkqKKRE4u"
      },
      "execution_count": null,
      "outputs": []
    },
    {
      "cell_type": "markdown",
      "source": [
        "###Como funciona SEEK es que coloca el puntero en esa posición y READ lee la cantidad de caracteres a partir de esa posición."
      ],
      "metadata": {
        "id": "S4r14DY1Rf-e"
      }
    },
    {
      "cell_type": "code",
      "execution_count": null,
      "metadata": {
        "id": "yilp6bdbuzrZ",
        "colab": {
          "base_uri": "https://localhost:8080/",
          "height": 35
        },
        "outputId": "681bfc8f-8251-46cb-a87b-8459523ee5b4"
      },
      "outputs": [
        {
          "output_type": "execute_result",
          "data": {
            "text/plain": [
              "'Una línea '"
            ],
            "application/vnd.google.colaboratory.intrinsic+json": {
              "type": "string"
            }
          },
          "metadata": {},
          "execution_count": 47
        }
      ],
      "source": [
        "# Colocamos el Puntero al principio, usando seek(posicion del caracter)\n",
        "fichero.seek(0)\n",
        "# Leemos 10 carácteres\n",
        "fichero.read(10)"
      ]
    },
    {
      "cell_type": "code",
      "execution_count": null,
      "metadata": {
        "id": "A1EUiIO3uzra",
        "colab": {
          "base_uri": "https://localhost:8080/",
          "height": 35
        },
        "outputId": "95221d4d-aee4-4b4c-bfd6-6acc7bbaa2eb"
      },
      "outputs": [
        {
          "output_type": "execute_result",
          "data": {
            "text/plain": [
              "'\\nOtra líne'"
            ],
            "application/vnd.google.colaboratory.intrinsic+json": {
              "type": "string"
            }
          },
          "metadata": {},
          "execution_count": 51
        }
      ],
      "source": [
        "# Leemos 10 carácteres más, a partir del 10 donde está el puntero, como una secuencia\n",
        "fichero.read(10)"
      ]
    },
    {
      "cell_type": "markdown",
      "source": [
        "###Como saber la cantidad de caracteres o posiciones de linea usando LEN"
      ],
      "metadata": {
        "id": "qUpsJMzDhfLx"
      }
    },
    {
      "cell_type": "code",
      "execution_count": null,
      "metadata": {
        "id": "orKEjlDcuzra",
        "colab": {
          "base_uri": "https://localhost:8080/"
        },
        "outputId": "f8359cc1-30a9-4d65-df1c-2111c234e3ba"
      },
      "outputs": [
        {
          "output_type": "execute_result",
          "data": {
            "text/plain": [
              "21"
            ]
          },
          "metadata": {},
          "execution_count": 54
        }
      ],
      "source": [
        "fichero.seek(21) #Reubicamos el puntero al principio\n",
        "#Leemos la primera línea y situamos el puntero al principio de la segunda\n",
        "fichero.seek( len(fichero.readline()) )"
      ]
    },
    {
      "cell_type": "code",
      "execution_count": null,
      "metadata": {
        "id": "RZhwarHbuzra",
        "colab": {
          "base_uri": "https://localhost:8080/",
          "height": 35
        },
        "outputId": "7400f0ed-30bf-4e5c-d8a3-2d20cf035d87"
      },
      "outputs": [
        {
          "output_type": "execute_result",
          "data": {
            "text/plain": [
              "'Otra línea con texto\\nOtra línea más abajo del todo'"
            ],
            "application/vnd.google.colaboratory.intrinsic+json": {
              "type": "string"
            }
          },
          "metadata": {},
          "execution_count": 55
        }
      ],
      "source": [
        "fichero.read() # Leemos todo lo que queda del puntero hasta el final"
      ]
    },
    {
      "cell_type": "markdown",
      "metadata": {
        "id": "F4zzDT3Cuzra"
      },
      "source": [
        "#2. Lectura y escritura a la vez - Modo Read and Write(r+)"
      ]
    },
    {
      "cell_type": "code",
      "execution_count": null,
      "metadata": {
        "collapsed": true,
        "id": "PHASfjKUuzra"
      },
      "outputs": [],
      "source": [
        "#Creamos un nuevo fichero2.txt\n",
        "fichero2 = open('fichero2.txt','w')"
      ]
    },
    {
      "cell_type": "code",
      "execution_count": null,
      "metadata": {
        "collapsed": true,
        "id": "0MonYxnHuzra"
      },
      "outputs": [],
      "source": [
        "texto = \"Línea 1\\nLínea 2\\nLínea 3\\nLínea 4\""
      ]
    },
    {
      "cell_type": "code",
      "execution_count": null,
      "metadata": {
        "id": "upaRbOCbuzrb",
        "colab": {
          "base_uri": "https://localhost:8080/"
        },
        "outputId": "1263e001-dba0-4253-de36-92340af57538"
      },
      "outputs": [
        {
          "output_type": "execute_result",
          "data": {
            "text/plain": [
              "31"
            ]
          },
          "metadata": {},
          "execution_count": 76
        }
      ],
      "source": [
        "#Insertamos el valor de 'text' en el fichero2 con 'write'\n",
        "fichero2.write(texto)"
      ]
    },
    {
      "cell_type": "code",
      "execution_count": null,
      "metadata": {
        "collapsed": true,
        "id": "uBJUh7DIuzrb"
      },
      "outputs": [],
      "source": [
        "fichero2.close()"
      ]
    },
    {
      "cell_type": "markdown",
      "source": [
        "###Hacemos el mismo proceso pero usando 'r+'"
      ],
      "metadata": {
        "id": "UGv4iYmYix_S"
      }
    },
    {
      "cell_type": "code",
      "execution_count": null,
      "metadata": {
        "collapsed": true,
        "id": "KT2tkJH4uzrb"
      },
      "outputs": [],
      "source": [
        " # + escritura simultánea, puntero al principio por defecto\n",
        "fichero2 = open('fichero2.txt','r+')"
      ]
    },
    {
      "cell_type": "code",
      "execution_count": null,
      "metadata": {
        "id": "vpU3mccluzrb",
        "colab": {
          "base_uri": "https://localhost:8080/"
        },
        "outputId": "68d431ec-1da1-4899-ad96-6086bc5104f2"
      },
      "outputs": [
        {
          "output_type": "execute_result",
          "data": {
            "text/plain": [
              "19"
            ]
          },
          "metadata": {},
          "execution_count": 61
        }
      ],
      "source": [
        "#Sobreecribimos la primera linea\n",
        "fichero2.write('Un texto cualquiera')"
      ]
    },
    {
      "cell_type": "code",
      "execution_count": null,
      "metadata": {
        "collapsed": true,
        "id": "uR5Bgmr_uzri"
      },
      "outputs": [],
      "source": [
        "fichero2.close()"
      ]
    },
    {
      "cell_type": "markdown",
      "metadata": {
        "id": "6TFZ6HKsuzri"
      },
      "source": [
        "## Modificar una línea específica - Usando WRITELINES"
      ]
    },
    {
      "cell_type": "code",
      "execution_count": null,
      "metadata": {
        "collapsed": true,
        "id": "LnLs1Xepuzrj"
      },
      "outputs": [],
      "source": [
        "#Modo lectura con escritura, puntero al principio por defecto\n",
        "fichero2 = open('fichero2.txt','r+')"
      ]
    },
    {
      "cell_type": "code",
      "execution_count": null,
      "metadata": {
        "id": "dsT_4NcRuzrj"
      },
      "outputs": [],
      "source": [
        "#Usamos Readlines para leer todas las líneas y separarlas en una lista\n",
        "texto = fichero2.readlines()"
      ]
    },
    {
      "cell_type": "code",
      "execution_count": null,
      "metadata": {
        "collapsed": true,
        "id": "QikD-C8Quzrj"
      },
      "outputs": [],
      "source": [
        "#Indicamos la posición de la linea (menos 1 por ser una lista)\n",
        "texto[2] = \"Esta es la línea 3 modificada\\n\""
      ]
    },
    {
      "cell_type": "code",
      "execution_count": null,
      "metadata": {
        "id": "mSpgXG-Tuzrj",
        "colab": {
          "base_uri": "https://localhost:8080/"
        },
        "outputId": "09ae2a5b-82cd-4f21-a73d-9532ff3b4734"
      },
      "outputs": [
        {
          "output_type": "execute_result",
          "data": {
            "text/plain": [
              "['Línea 1\\n', 'Línea 2\\n', 'Esta es la línea 3 modificada\\n', 'Línea 4']"
            ]
          },
          "metadata": {},
          "execution_count": 81
        }
      ],
      "source": [
        "texto #Consultamos la lista"
      ]
    },
    {
      "cell_type": "code",
      "execution_count": null,
      "metadata": {
        "id": "OBRyq35kuzrj"
      },
      "outputs": [],
      "source": [
        "# Ponemos el puntero al principio\n",
        "fichero2.seek(0)\n",
        "\n",
        "#Le pasamos la lista 'texto' al fichero2.txt\n",
        "fichero2.writelines(texto)"
      ]
    },
    {
      "cell_type": "code",
      "execution_count": null,
      "metadata": {
        "collapsed": true,
        "id": "UqiRQpPTuzrj"
      },
      "outputs": [],
      "source": [
        "fichero2.close()"
      ]
    },
    {
      "cell_type": "markdown",
      "source": [
        "###Como Leer el contenido a una linea especifica"
      ],
      "metadata": {
        "id": "pTArd_bMS5G8"
      }
    },
    {
      "cell_type": "code",
      "source": [
        "fichero = open(\"fichero.txt\", \"r+\")\n",
        "lineas = fichero.readlines()\n",
        "\n",
        "#Especificamos la posición de la linea\n",
        "linea_especifica = lineas[2]\n",
        "\n",
        "#Le pasamos la variable a mostrar\n",
        "print(linea_especifica)\n",
        "fichero.close()"
      ],
      "metadata": {
        "colab": {
          "base_uri": "https://localhost:8080/"
        },
        "id": "K66_ePs6Shwq",
        "outputId": "fa51757c-fc2c-4f95-b194-2aba33c8f5a5"
      },
      "execution_count": null,
      "outputs": [
        {
          "output_type": "stream",
          "name": "stdout",
          "text": [
            "Otra línea más abajo del todo\n"
          ]
        }
      ]
    },
    {
      "cell_type": "markdown",
      "source": [
        "#3. Módulo Pickle"
      ],
      "metadata": {
        "id": "lwDPBwx3mPkf"
      }
    },
    {
      "cell_type": "markdown",
      "metadata": {
        "id": "6Z_i9d7QkU88"
      },
      "source": [
        "## Guardar estructura en fichero binario"
      ]
    },
    {
      "cell_type": "code",
      "execution_count": null,
      "metadata": {
        "collapsed": true,
        "id": "vxnEL6KlkU88"
      },
      "outputs": [],
      "source": [
        "import pickle #Importamos el módulo"
      ]
    },
    {
      "cell_type": "code",
      "execution_count": null,
      "metadata": {
        "collapsed": true,
        "id": "e-9QFFi_kU8-"
      },
      "outputs": [],
      "source": [
        "lista = [1,2,3,4,5] #Podemos guardar lo que queramos, listas, diccionarios, tuplas..."
      ]
    },
    {
      "cell_type": "code",
      "execution_count": null,
      "metadata": {
        "collapsed": true,
        "id": "kFE6dQCjkU8_"
      },
      "outputs": [],
      "source": [
        "#Creamos el fichero 'lista' con extension .pckl, solo es posible consultarla con Python\n",
        "#Escritura en modo binario(wb), vacía el fichero si existe\n",
        "fichero = open('lista.pckl','wb')"
      ]
    },
    {
      "cell_type": "markdown",
      "source": [
        "####Usando el método DUMP, para 'serializar' el objeto y guardarlo en un archivo"
      ],
      "metadata": {
        "id": "R04edQ5JnIkc"
      }
    },
    {
      "cell_type": "code",
      "execution_count": null,
      "metadata": {
        "collapsed": true,
        "id": "TRGLG9yAkU8_"
      },
      "outputs": [],
      "source": [
        "#Escribe la estructura en el fichero\n",
        "pickle.dump(lista, fichero)"
      ]
    },
    {
      "cell_type": "code",
      "execution_count": null,
      "metadata": {
        "collapsed": true,
        "id": "CgNECuB8kU9A"
      },
      "outputs": [],
      "source": [
        "fichero.close()"
      ]
    },
    {
      "cell_type": "markdown",
      "metadata": {
        "id": "ZKyGskOjkU9A"
      },
      "source": [
        "## Recuperar estructura de fichero binario"
      ]
    },
    {
      "cell_type": "code",
      "execution_count": null,
      "metadata": {
        "collapsed": true,
        "id": "maPcbr5ykU9A"
      },
      "outputs": [],
      "source": [
        "#Abrimos el fichero modo de Lectura binario(rb)\n",
        "fichero = open('lista.pckl','rb')"
      ]
    },
    {
      "cell_type": "code",
      "execution_count": null,
      "metadata": {
        "collapsed": true,
        "id": "YsmFMDl_kU9B"
      },
      "outputs": [],
      "source": [
        "#Creamos un nuevo objeto y le pasamos el fichero\n",
        "lista_fichero = pickle.load(fichero)"
      ]
    },
    {
      "cell_type": "code",
      "execution_count": null,
      "metadata": {
        "id": "4CBPTFsXkU9B",
        "colab": {
          "base_uri": "https://localhost:8080/"
        },
        "outputId": "0237f432-43e9-4344-edbc-3d2219595fc5"
      },
      "outputs": [
        {
          "output_type": "stream",
          "name": "stdout",
          "text": [
            "[1, 2, 3, 4, 5]\n"
          ]
        }
      ],
      "source": [
        "print(lista_fichero)"
      ]
    },
    {
      "cell_type": "markdown",
      "source": [
        "## Lógica para trabajar con objetos PICKLE\n",
        "1. Crear una colección(variable, lista, tupla, diccionario, etc...)\n",
        "2. Introducir los objetos en la colección\n",
        "3. Guardar la colección haciendo un DUMP\n",
        "4. Recuperar la colección haciendo un LOAD\n",
        "5. Seguir trabajando con nuestros objetos\n",
        "\n",
        "**NOTA**: Es importante dejar el tipo de colección guardado en algun lado, puede como un comentario, para saber con que estamos trabajando."
      ],
      "metadata": {
        "id": "R42WfSAForEQ"
      }
    },
    {
      "cell_type": "markdown",
      "metadata": {
        "id": "wpSLR-pwHUPW"
      },
      "source": [
        "#4. Ficheros CSV\n",
        "\n",
        "#### Valores separados por comas (comma-separated values), es un estándar mundial en múltiples sistemas empresariales, bancarios, hospitalarios, entre otros, además de su compatibilidad con Excel.\n",
        "\n",
        "Documentación: https://docs.python.org/3/library/csv.html"
      ]
    },
    {
      "cell_type": "code",
      "execution_count": null,
      "metadata": {
        "id": "WwTruEeMHUPc"
      },
      "outputs": [],
      "source": [
        "import csv #Importamos el módulo CSV"
      ]
    },
    {
      "cell_type": "code",
      "execution_count": null,
      "metadata": {
        "id": "bfg4It0mHUPe"
      },
      "outputs": [],
      "source": [
        "#Creamos una tupla(puede ser tambien una lista), con los valores de Nombre, Empleo y Correo\n",
        "contactos = [\n",
        "    (\"Manuel\", \"Desarrollador Web\", \"manuel@ejemplo.com\"),\n",
        "    (\"Lorena\", \"Gestora de proyectos\", \"lorena@ejemplo.com\"),\n",
        "    (\"Javier\", \"Analista de datos\", \"javier@ejemplo.com\"),\n",
        "    (\"Marta\", \"Experta en Python\", \"marta@ejemplo.com\")\n",
        "]"
      ]
    },
    {
      "cell_type": "markdown",
      "source": [
        "La expresion **WITH OPEN**, se utiliza para abrir un archivo y asegurarse de que se cierre correctamente después de que se haya terminado de trabajar con él. Proporciona una forma más limpia y segura de trabajar con archivos en comparación con el enfoque tradicional de abrir y cerrar explícitamente el archivo utilizando **open()** y **close()**.\n",
        "\n",
        "Utilizamos WRITER para escribir en el fichero"
      ],
      "metadata": {
        "id": "ViLWmnPDsmIy"
      }
    },
    {
      "cell_type": "code",
      "execution_count": null,
      "metadata": {
        "id": "buc2PFN_HUPe"
      },
      "outputs": [],
      "source": [
        "#Se especifica el archivo.csv, luego el modo, en este caso Write(w) y luego el salto de linea\n",
        "with open(\"contactos.csv\", \"w\", newline=\"\\n\") as csvfile: #Creamos la variable csvfile con el resultado del fichero\n",
        "    #Creamos el escritor, usando la csv.write y le especificamos el objeto y el delimitador\n",
        "    writer = csv.writer(csvfile, delimiter=\",\")\n",
        "    #Iteramos cada contacto de la tupla\n",
        "    for contacto in contactos:\n",
        "        #Escribimos cada contacto en cada linea con 'writerow'\n",
        "        writer.writerow(contacto)"
      ]
    },
    {
      "cell_type": "markdown",
      "source": [
        "Para consultar el fichero, en lugar de WRITER, utilizamos READER para leer el fichero"
      ],
      "metadata": {
        "id": "SYsQkmPWu38c"
      }
    },
    {
      "cell_type": "code",
      "execution_count": null,
      "metadata": {
        "id": "xo7liBRLHUPf",
        "colab": {
          "base_uri": "https://localhost:8080/"
        },
        "outputId": "bdc20805-e16c-467a-d0e9-ff8c6ac29d2c"
      },
      "outputs": [
        {
          "output_type": "stream",
          "name": "stdout",
          "text": [
            "['Manuel', 'Desarrollador Web', 'manuel@ejemplo.com']\n",
            "['Lorena', 'Gestora de proyectos', 'lorena@ejemplo.com']\n",
            "['Javier', 'Analista de datos', 'javier@ejemplo.com']\n",
            "['Marta', 'Experta en Python', 'marta@ejemplo.com']\n"
          ]
        }
      ],
      "source": [
        "with open(\"contactos.csv\", newline=\"\\n\") as csvfile:\n",
        "    #Usamos reader para solo leer el fichero, con los mismo parametros\n",
        "    reader = csv.reader(csvfile, delimiter=\",\")\n",
        "    #Mostramos el contacto en el formato original\n",
        "    for contacto in reader:\n",
        "        print(contacto)"
      ]
    },
    {
      "cell_type": "code",
      "source": [
        "#Mostramos la misma informacion en un formato distinto\n",
        "with open(\"contactos.csv\", newline=\"\\n\") as csvfile:\n",
        "    #Usamos reader para solo leer el fichero, con los mismo parametros\n",
        "    reader = csv.reader(csvfile, delimiter=\",\")\n",
        "    #Especificamos los datos en el orden que queremos mostrar\n",
        "    for nombre, empleo, email in reader:\n",
        "        print(nombre, empleo, email)"
      ],
      "metadata": {
        "id": "0MX1pIzGva1_",
        "colab": {
          "base_uri": "https://localhost:8080/"
        },
        "outputId": "e313c4c7-e734-4d30-84d4-c5f072bf9de3"
      },
      "execution_count": null,
      "outputs": [
        {
          "output_type": "stream",
          "name": "stdout",
          "text": [
            "Manuel Desarrollador Web manuel@ejemplo.com\n",
            "Lorena Gestora de proyectos lorena@ejemplo.com\n",
            "Javier Analista de datos javier@ejemplo.com\n",
            "Marta Experta en Python marta@ejemplo.com\n"
          ]
        }
      ]
    },
    {
      "cell_type": "markdown",
      "source": [
        "##Ejemplo #2, usando el método DICTWRITER para escribir un Diccionario"
      ],
      "metadata": {
        "id": "SL8bwTspwbU0"
      }
    },
    {
      "cell_type": "code",
      "execution_count": null,
      "metadata": {
        "id": "lT3dHMD9HUPf"
      },
      "outputs": [],
      "source": [
        "#Creamos una tupla o list\n",
        "contactos = [\n",
        "    (\"Manuel\", \"Desarrollador Web\", \"manuel@ejemplo.com\"),\n",
        "    (\"Lorena\", \"Gestora de proyectos\", \"lorena@ejemplo.com\"),\n",
        "    (\"Javier\", \"Analista de datos\", \"javier@ejemplo.com\"),\n",
        "    (\"Marta\", \"Experta en Python\", \"marta@ejemplo.com\")\n",
        "]"
      ]
    },
    {
      "cell_type": "markdown",
      "source": [
        "###Utilizando un diccionario, nos permitira generar una cabecera o header en el fichero"
      ],
      "metadata": {
        "id": "dh-aRwUy4N9I"
      }
    },
    {
      "cell_type": "code",
      "execution_count": null,
      "metadata": {
        "id": "Se5TZGQVHUPg"
      },
      "outputs": [],
      "source": [
        "#Utilizamos los mismo parametros del ejemplo anterior\n",
        "with open(\"contactos.csv\", \"w\", newline=\"\\n\") as csvfile:\n",
        "    #Definimos una lista de campos, los cuales son las \"CLAVES\" del diccionario\n",
        "    campos = [\"nombre\", \"empleo\", \"email\"]\n",
        "    #Usamos el método DictWriter, le pasamos el objeto y los campos \"cabecera\" del fichero contactos.csv\n",
        "    writer = csv.DictWriter(csvfile, fieldnames=campos)\n",
        "    #Usando el método Writeheader generamos la cabecera del fichero\n",
        "    writer.writeheader()\n",
        "    #Escribimos los contactos como un diccionario\n",
        "    for nombre, empleo, email in contactos:\n",
        "        #Utilizando el método Writerow generamos una linea del diccionario con las claves\n",
        "        writer.writerow({\n",
        "            \"nombre\": nombre, \"empleo\": empleo, \"email\": email\n",
        "        })"
      ]
    },
    {
      "cell_type": "markdown",
      "source": [
        "####Para leer el diccionario, solo cambiamos el método Reader por DictReader y no especificamos el delimitador, DictReader lo deliminatará automaticamente."
      ],
      "metadata": {
        "id": "EslMrFW03aid"
      }
    },
    {
      "cell_type": "code",
      "execution_count": null,
      "metadata": {
        "id": "uAdkfemuHUPg",
        "colab": {
          "base_uri": "https://localhost:8080/"
        },
        "outputId": "249d0087-ac3f-4517-ca33-c193c5d0c1cc"
      },
      "outputs": [
        {
          "output_type": "stream",
          "name": "stdout",
          "text": [
            "Manuel Desarrollador Web manuel@ejemplo.com\n",
            "Lorena Gestora de proyectos lorena@ejemplo.com\n",
            "Javier Analista de datos javier@ejemplo.com\n",
            "Marta Experta en Python marta@ejemplo.com\n"
          ]
        }
      ],
      "source": [
        "with open(\"contactos.csv\", newline=\"\\n\") as csvfile:\n",
        "    #Utilizamos DictReader para leer el diccionario\n",
        "    reader = csv.DictReader(csvfile)\n",
        "    for contacto in reader:\n",
        "        #Especificamos las claves del diccionario contacto\n",
        "        print(contacto[\"nombre\"], contacto[\"empleo\"], contacto[\"email\"])"
      ]
    },
    {
      "cell_type": "markdown",
      "source": [
        "##**Ejemplo**: Ingresando valores continuos en un CSV"
      ],
      "metadata": {
        "id": "FFF4nOaydtg3"
      }
    },
    {
      "cell_type": "code",
      "source": [
        "import csv\n",
        "\n",
        "# Función para escribir los datos en un archivo CSV\n",
        "def escribir_csv(datos):\n",
        "    encabezados = ['Nombre', 'Edad', 'Ciudad']\n",
        "\n",
        "    with open('datos.csv', 'a', newline='') as archivo_csv:\n",
        "        escritor = csv.DictWriter(archivo_csv, fieldnames=encabezados)\n",
        "\n",
        "        # Escribir encabezados si el archivo está vacío\n",
        "        if archivo_csv.tell() == 0:\n",
        "            escritor.writeheader()\n",
        "\n",
        "        # Escribir los datos en el archivo\n",
        "        escritor.writerows(datos)\n",
        "\n",
        "# Función principal del programa\n",
        "def menu():\n",
        "    continuar = True\n",
        "    datos_agregar = []\n",
        "\n",
        "    while continuar:\n",
        "        print(\"1. Ingresar datos\")\n",
        "        print(\"2. Almacenar datos\")\n",
        "        print(\"3. Salir\")\n",
        "        opcion = input(\"Seleccione una opción: \")\n",
        "\n",
        "        if opcion == \"1\":\n",
        "            nombre = input(\"Ingrese el nombre: \")\n",
        "            edad = input(\"Ingrese la edad: \")\n",
        "            ciudad = input(\"Ingrese la ciudad: \")\n",
        "\n",
        "            # Crear un diccionario con los datos ingresados y agregarlo a la lista\n",
        "            datos = {'Nombre': nombre, 'Edad': edad, 'Ciudad': ciudad}\n",
        "            datos_agregar.append(datos)\n",
        "            print(\"Datos agregados exitosamente.\")\n",
        "\n",
        "        elif opcion == \"2\":\n",
        "            # Llamar a la función para escribir los datos en el archivo CSV\n",
        "            escribir_csv(datos_agregar)\n",
        "            print(\"Datos almacenados exitosamente.\")\n",
        "            # Limpiar la lista de datos a agregar\n",
        "            datos_agregar = []\n",
        "\n",
        "        elif opcion == \"3\":\n",
        "            continuar = False\n",
        "            print(\"¡Hasta luego!\")\n",
        "\n",
        "        else:\n",
        "            print(\"Opción inválida. Intente nuevamente.\")\n",
        "\n",
        "\n",
        "menu()#Llamamos la función menu"
      ],
      "metadata": {
        "id": "JqNt_tpqb8c3",
        "colab": {
          "base_uri": "https://localhost:8080/"
        },
        "outputId": "8c31c407-2117-4b80-8e87-7de6681ed3e0"
      },
      "execution_count": null,
      "outputs": [
        {
          "output_type": "stream",
          "name": "stdout",
          "text": [
            "1. Ingresar datos\n",
            "2. Almacenar datos\n",
            "3. Salir\n",
            "Seleccione una opción: JEAN\n",
            "Opción inválida. Intente nuevamente.\n",
            "1. Ingresar datos\n",
            "2. Almacenar datos\n",
            "3. Salir\n",
            "Seleccione una opción: 1\n",
            "Ingrese el nombre: JEAN\n",
            "Ingrese la edad: 31\n",
            "Ingrese la ciudad: SD\n",
            "Datos agregados exitosamente.\n",
            "1. Ingresar datos\n",
            "2. Almacenar datos\n",
            "3. Salir\n",
            "Seleccione una opción: 2\n",
            "Datos almacenados exitosamente.\n",
            "1. Ingresar datos\n",
            "2. Almacenar datos\n",
            "3. Salir\n",
            "Seleccione una opción: 1\n",
            "Ingrese el nombre: JOSE\n",
            "Ingrese la edad: 30\n",
            "Ingrese la ciudad: ST\n",
            "Datos agregados exitosamente.\n",
            "1. Ingresar datos\n",
            "2. Almacenar datos\n",
            "3. Salir\n",
            "Seleccione una opción: 2\n",
            "Datos almacenados exitosamente.\n",
            "1. Ingresar datos\n",
            "2. Almacenar datos\n",
            "3. Salir\n",
            "Seleccione una opción: 3\n",
            "¡Hasta luego!\n"
          ]
        }
      ]
    },
    {
      "cell_type": "markdown",
      "source": [
        "#5. El encoding (codificación)\n"
      ],
      "metadata": {
        "id": "-JEtNsC76vcP"
      }
    },
    {
      "cell_type": "markdown",
      "source": [
        "El encoding en Python se refiere a la forma en que los caracteres se representan y almacenan como secuencias de bytes. Es importante **especificar** el encoding adecuado al leer o escribir archivos, comunicarse a través de la red o trabajar con sistemas que utilizan diferentes encodings.\n",
        "\n",
        "Algunos de los encodings comunes en Python son **UTF-8**, **UTF-16**, **ASCII** y **Latin-1**. La elección correcta del encoding garantiza que los caracteres se interpreten y muestren correctamente."
      ],
      "metadata": {
        "id": "jeMLRJGx66UF"
      }
    },
    {
      "cell_type": "markdown",
      "source": [
        "##Ejemplos"
      ],
      "metadata": {
        "id": "5kHhT0zQ7lKX"
      }
    },
    {
      "cell_type": "code",
      "source": [
        "fichero = open('fichero.txt','r', encoding=\"utf8\") #Codificacion UTF-8"
      ],
      "metadata": {
        "id": "Cn9DscCa7gIm"
      },
      "execution_count": null,
      "outputs": []
    },
    {
      "cell_type": "code",
      "source": [
        "with open('fichero.txt', 'r', encoding='latin-1') as archivo:\n",
        "    contenido = archivo.read()\n",
        "    #el contenido se codifica en latin-1 utilizando el método encode() y se guarda en la variable contenido_codificado.\n",
        "    contenido_codificado = contenido.encode('latin-1')\n",
        "    #A Trabajar con el contenido codificado\n"
      ],
      "metadata": {
        "id": "SKgxSvkL7ntR"
      },
      "execution_count": null,
      "outputs": []
    },
    {
      "cell_type": "code",
      "source": [
        "with open('fichero.txt', 'r', encoding='utf-8') as archivo:\n",
        "    contenido = archivo.read()\n",
        "    contenido_codificado = contenido.encode('utf-8')\n",
        "    #A Trabajar con el contenido codificado\n"
      ],
      "metadata": {
        "id": "ZhU6jNvX7tIX"
      },
      "execution_count": null,
      "outputs": []
    },
    {
      "cell_type": "markdown",
      "source": [
        "Como diferencias, ASCII es un encoding básico que representa caracteres en inglés, Latin-1 es una extensión de ASCII que incluye caracteres adicionales europeos, UTF-8 es un encoding compatible con Unicode que puede representar una amplia gama de caracteres con una codificación variable, y UTF-16 también es compatible con Unicode, pero utiliza una codificación de tamaño fijo de 16 bits. La elección del encoding depende del rango de caracteres que se necesite representar y de los requisitos específicos del proyecto o aplicación. Para evitar complicaciones, utilizar el estandar **UTF-8** en caso de ser necesario."
      ],
      "metadata": {
        "id": "xIMnuOu08ifB"
      }
    }
  ]
}