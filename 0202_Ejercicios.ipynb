{
  "nbformat": 4,
  "nbformat_minor": 0,
  "metadata": {
    "colab": {
      "provenance": [],
      "include_colab_link": true
    },
    "kernelspec": {
      "name": "python3",
      "display_name": "Python 3"
    },
    "language_info": {
      "name": "python"
    }
  },
  "cells": [
    {
      "cell_type": "markdown",
      "metadata": {
        "id": "view-in-github",
        "colab_type": "text"
      },
      "source": [
        "<a href=\"https://colab.research.google.com/github/LMORALESDEV/PYTHON-ITLA/blob/main/0202_Ejercicios.ipynb\" target=\"_parent\"><img src=\"https://colab.research.google.com/assets/colab-badge.svg\" alt=\"Open In Colab\"/></a>"
      ]
    },
    {
      "cell_type": "markdown",
      "metadata": {
        "id": "iP0yHVqFQtHg"
      },
      "source": [
        "## Ejercicio 01\n",
        "* sumar los números del 1 al 10\n",
        "* sumar los numeros del 1 al 10 y dividirlo entre 10\n"
      ]
    },
    {
      "cell_type": "code",
      "source": [],
      "metadata": {
        "id": "7_RRueWTcipp"
      },
      "execution_count": null,
      "outputs": []
    },
    {
      "cell_type": "markdown",
      "metadata": {
        "id": "ueJ17b1J7LDH"
      },
      "source": [
        "# Ejercicio 02\n",
        "Escribí un programa que solicite al usuario dos números y los almacene en dos variables. En otra variable, almacená el resultado de la suma de esos dos números y luego mostrá ese resultado en pantalla.\n",
        "A continuación, el programa debe solicitar al usuario que ingrese un tercer número, el cual se debe almacenar en una nueva variable. Por último, mostrá en pantalla el resultado de la multiplicación de este nuevo número por el resultado de la suma anterior."
      ]
    },
    {
      "cell_type": "code",
      "source": [],
      "metadata": {
        "id": "9LzwB73fcjb6"
      },
      "execution_count": null,
      "outputs": []
    },
    {
      "cell_type": "markdown",
      "metadata": {
        "id": "CUOX3OYd7P-V"
      },
      "source": [
        "# Ejercicio 03\n",
        "Escribí un programa que solicite al usuario ingresar la cantidad de kilómetros recorridos por una motocicleta y la cantidad de galones de combustible que consumió durante ese recorrido. Mostrar el consumo de combustible por kilómetro"
      ]
    },
    {
      "cell_type": "code",
      "source": [],
      "metadata": {
        "id": "espOYu-6cj3D"
      },
      "execution_count": null,
      "outputs": []
    },
    {
      "cell_type": "markdown",
      "metadata": {
        "id": "VNZGrcOQ8cxZ"
      },
      "source": [
        "# Ejercicio 04\n",
        "\n",
        "Escribí un programa que solicite al usuario ingresar tres números para luego mostrarle el promedio de los tres.\n"
      ]
    },
    {
      "cell_type": "code",
      "source": [],
      "metadata": {
        "id": "2runNDo6ckxq"
      },
      "execution_count": null,
      "outputs": []
    },
    {
      "cell_type": "markdown",
      "metadata": {
        "id": "QzPrfIFRIH9X"
      },
      "source": [
        "# Ejercicio 05\n",
        "\n",
        "Escribí un programa que calcule el area de un circulo. (Investigar la fórmula del área del círculo)\n"
      ]
    },
    {
      "cell_type": "code",
      "source": [],
      "metadata": {
        "id": "mJZKOl9GclTr"
      },
      "execution_count": null,
      "outputs": []
    },
    {
      "cell_type": "markdown",
      "metadata": {
        "id": "HXT6QiEFbs2k"
      },
      "source": [
        "# Ejercicio 06\n",
        "\n",
        "Escribí un programa que realice una calculadora de prestamo de interes simple. (Investigar la formula del Interés simple)\n"
      ]
    },
    {
      "cell_type": "code",
      "source": [],
      "metadata": {
        "id": "GS4zyh7acmKr"
      },
      "execution_count": null,
      "outputs": []
    }
  ]
}