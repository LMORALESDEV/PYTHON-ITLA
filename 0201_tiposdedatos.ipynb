{
  "nbformat": 4,
  "nbformat_minor": 0,
  "metadata": {
    "colab": {
      "provenance": [],
      "include_colab_link": true
    },
    "kernelspec": {
      "name": "python3",
      "display_name": "Python 3"
    },
    "language_info": {
      "name": "python"
    }
  },
  "cells": [
    {
      "cell_type": "markdown",
      "metadata": {
        "id": "view-in-github",
        "colab_type": "text"
      },
      "source": [
        "<a href=\"https://colab.research.google.com/github/LMORALESDEV/PYTHON-ITLA/blob/main/0201_tiposdedatos.ipynb\" target=\"_parent\"><img src=\"https://colab.research.google.com/assets/colab-badge.svg\" alt=\"Open In Colab\"/></a>"
      ]
    },
    {
      "cell_type": "markdown",
      "metadata": {
        "id": "wIsPO0HxXs-l"
      },
      "source": [
        "# Tipos de datos\n",
        "\n"
      ]
    },
    {
      "cell_type": "markdown",
      "metadata": {
        "id": "tcFCLIkh1z5m"
      },
      "source": [
        "Un lenguaje de programación es dinámicamente tipado si una variable puede tomar valores de distinto tipo. La mayoría de lenguajes de tipado dinámico son lenguajes interpretados, como Python o Ruby. Un lenguaje que no es dinámicamente tipado se dice que es de tipado estático, o estáticamente tipado."
      ]
    },
    {
      "cell_type": "code",
      "metadata": {
        "id": "uBJEOeK01okj"
      },
      "source": [
        "Referencias\n",
        "\n",
        "#https://ingsosa.com/tipos-de-datos-en-python/\n",
        "#https://j2logo.com/python/tutorial/tipos-de-datos-basicos-de-python/\n",
        "#https://manuais.iessanclemente.net/index.php/Python_-_Tipos_de_datos"
      ],
      "execution_count": null,
      "outputs": []
    },
    {
      "cell_type": "markdown",
      "metadata": {
        "id": "noSJ2TUAGcSG"
      },
      "source": [
        "Las variables en Python se crean cuando se definen\n",
        "por primera vez, es decir, cuando se les asigna un\n",
        "valor por primera vez.\n"
      ]
    },
    {
      "cell_type": "code",
      "metadata": {
        "id": "jmtwaX3TGhQe",
        "colab": {
          "base_uri": "https://localhost:8080/"
        },
        "outputId": "f219fce4-195a-4244-e790-581b2cd073cd"
      },
      "source": [
        "#Ejemplo\n",
        "X=0\n",
        "X=X+1\n",
        "print(X)"
      ],
      "execution_count": null,
      "outputs": [
        {
          "output_type": "stream",
          "name": "stdout",
          "text": [
            "1\n"
          ]
        }
      ]
    },
    {
      "cell_type": "code",
      "metadata": {
        "id": "M2ic32tF4zi0",
        "colab": {
          "base_uri": "https://localhost:8080/"
        },
        "outputId": "6e177087-d64a-45f7-b9f5-bdda85acb73c"
      },
      "source": [
        "a=13\n",
        "a"
      ],
      "execution_count": null,
      "outputs": [
        {
          "output_type": "execute_result",
          "data": {
            "text/plain": [
              "13"
            ]
          },
          "metadata": {},
          "execution_count": 2
        }
      ]
    },
    {
      "cell_type": "markdown",
      "metadata": {
        "id": "Ev5p1vnTZqFk"
      },
      "source": [
        "### Existen tipos de datos básicos o primitivos, estos son:\n",
        "\n",
        "\n",
        "\n",
        "\n",
        "*   Número Entero (int) o sin parte decimal.\n",
        "*   Número Decimal (float), hay que destacar que el separador decimal en Python es el punto (.) y no la coma (,).\n",
        "\n",
        "*   Caracter (chr) es un símbolo tipográfico, es decir, una letra, número, coma, espacio, signo de punutación, etc.\n",
        "Es de longitud 1\n",
        "\n",
        "*   Cadena de Texto (str) o cadena de caracteres.\n",
        "*   Booleano (bool) reconoce solo dos valores: Verdadero (True) y Falso (False)\n",
        "\n",
        "\n",
        "\n",
        "\n",
        "\n",
        "\n",
        "\n",
        "\n",
        "\n",
        "\n"
      ]
    },
    {
      "cell_type": "markdown",
      "metadata": {
        "id": "X106XSQCG_PU"
      },
      "source": [
        "**Reglas de construcción de las variables**\n",
        "* Pueden ser arbitrariamente largos.\n",
        "* Pueden contener tanto letras como números.   \n",
        "* Deben empezar con letras.   \n",
        "* Pueden aparecer subrayados para unir múltiples palabras.\n",
        "* No pueden ser palabras reservadas de Python."
      ]
    },
    {
      "cell_type": "code",
      "source": [
        "Tipado dinamico\n",
        "var1 = 1\n",
        "var2 = -1.5\n",
        "var3 = \"a\"\n",
        "var4 = \"papa\"\n",
        "var5 = True\n"
      ],
      "metadata": {
        "id": "VSJjDpZiV8Ux"
      },
      "execution_count": null,
      "outputs": []
    },
    {
      "cell_type": "markdown",
      "metadata": {
        "id": "NTsozRrtJgEb"
      },
      "source": [
        "La sentencia print()\n",
        "Cuando ejecuta la declaración de impresión, Python\n",
        "simplemente mostrará el valor entre paréntesis. El\n",
        "valor entre paréntesis se llama argumento.\n"
      ]
    },
    {
      "cell_type": "code",
      "metadata": {
        "id": "DQXcNAzoJwxQ",
        "colab": {
          "base_uri": "https://localhost:8080/"
        },
        "outputId": "3428a96d-1183-453c-dc16-bae43fcca59d"
      },
      "source": [
        "# Ejemplo - esto es un comentario\n",
        "print (\"Texto\")\n",
        "print ('Karla Paola')\n",
        "print (\" 'josefa' es bella\")\n",
        "print (' \"josefa\" es bella')"
      ],
      "execution_count": null,
      "outputs": [
        {
          "output_type": "stream",
          "name": "stdout",
          "text": [
            "Texto\n",
            "Karla Paola\n",
            " 'josefa' es bella\n",
            " \"josefa\" es bella\n"
          ]
        }
      ]
    },
    {
      "cell_type": "markdown",
      "metadata": {
        "id": "_HnGHixpYsRG"
      },
      "source": [
        "**En python para saber el tipo de datos de una variable se utiliza el comando type()**"
      ]
    },
    {
      "cell_type": "markdown",
      "metadata": {
        "id": "hQFzhg-iYS-F"
      },
      "source": [
        "### Número Entero (int) o sin parte decimal"
      ]
    },
    {
      "cell_type": "code",
      "metadata": {
        "id": "5dXrZrpuYZDN"
      },
      "source": [
        "edad = 30"
      ],
      "execution_count": null,
      "outputs": []
    },
    {
      "cell_type": "code",
      "metadata": {
        "id": "HlXe7IMaa9Ww",
        "colab": {
          "base_uri": "https://localhost:8080/"
        },
        "outputId": "77234af1-8bba-49ec-cca1-f7ad121c3919"
      },
      "source": [
        "print(type(edad))"
      ],
      "execution_count": null,
      "outputs": [
        {
          "output_type": "stream",
          "name": "stdout",
          "text": [
            "<class 'int'>\n"
          ]
        }
      ]
    },
    {
      "cell_type": "code",
      "metadata": {
        "id": "dRoY5McobK0-",
        "colab": {
          "base_uri": "https://localhost:8080/"
        },
        "outputId": "a8c08c27-72fd-4d17-df78-93f47d7b8122"
      },
      "source": [
        "print('Mi edad es: ',edad )"
      ],
      "execution_count": null,
      "outputs": [
        {
          "output_type": "stream",
          "name": "stdout",
          "text": [
            "Mi edad es:  30\n"
          ]
        }
      ]
    },
    {
      "cell_type": "markdown",
      "metadata": {
        "id": "kq2TgY5mbSE9"
      },
      "source": [
        "### Número Decimal (float),\n",
        " hay que destacar que el separador decimal en Python es el punto (.) y no la coma (,).\n",
        "\n"
      ]
    },
    {
      "cell_type": "code",
      "metadata": {
        "id": "2YdUn484bVem",
        "colab": {
          "base_uri": "https://localhost:8080/"
        },
        "outputId": "5a848256-f9eb-4dcf-da4a-61cb5dcb98f5"
      },
      "source": [
        "estatura1 = 5.2\n",
        "estatura2 = 6.5\n",
        "\n",
        "sumatoria = (estatura1 + estatura2) * 5\n",
        "print(sumatoria)\n",
        "promedio = sumatoria/(2+2)\n",
        "print(promedio)\n"
      ],
      "execution_count": null,
      "outputs": [
        {
          "output_type": "stream",
          "name": "stdout",
          "text": [
            "11.7\n",
            "5.85\n"
          ]
        }
      ]
    },
    {
      "cell_type": "code",
      "metadata": {
        "id": "jKk-BBJncR6B",
        "colab": {
          "base_uri": "https://localhost:8080/"
        },
        "outputId": "50cd73fd-22af-4024-818a-0410a88d03da"
      },
      "source": [
        "#para saber el tipo de datos de una variable se utiliza el comando type()\n",
        "type(estatura1)\n",
        "type(estatura2)"
      ],
      "execution_count": null,
      "outputs": [
        {
          "output_type": "execute_result",
          "data": {
            "text/plain": [
              "float"
            ]
          },
          "metadata": {},
          "execution_count": 10
        }
      ]
    },
    {
      "cell_type": "code",
      "metadata": {
        "id": "wecko0jGcfvW",
        "colab": {
          "base_uri": "https://localhost:8080/"
        },
        "outputId": "bcba74c4-6ce4-49e9-8f4e-940d1dcfab01"
      },
      "source": [
        "#para saber el contenido de la variable utilizamos print()\n",
        "print(type(estatura1))\n",
        "print(type(estatura2))\n"
      ],
      "execution_count": null,
      "outputs": [
        {
          "output_type": "stream",
          "name": "stdout",
          "text": [
            "<class 'float'>\n",
            "<class 'float'>\n"
          ]
        }
      ]
    },
    {
      "cell_type": "code",
      "metadata": {
        "id": "J5pC_QOU6Zx-",
        "colab": {
          "base_uri": "https://localhost:8080/"
        },
        "outputId": "b591d5fc-82bc-4290-f243-9d9cef1aa097"
      },
      "source": [
        "resultado = edad + estatura1\n",
        "print(edad)\n",
        "print(estatura1)"
      ],
      "execution_count": null,
      "outputs": [
        {
          "output_type": "stream",
          "name": "stdout",
          "text": [
            "30\n",
            "5.2\n"
          ]
        }
      ]
    },
    {
      "cell_type": "code",
      "metadata": {
        "id": "DhF0svfL6Z8l",
        "colab": {
          "base_uri": "https://localhost:8080/"
        },
        "outputId": "10808caf-8de9-4f0e-91b0-55f044fa1d92"
      },
      "source": [
        "print(resultado)"
      ],
      "execution_count": null,
      "outputs": [
        {
          "output_type": "stream",
          "name": "stdout",
          "text": [
            "35.2\n"
          ]
        }
      ]
    },
    {
      "cell_type": "code",
      "metadata": {
        "id": "8l5B3741655Z",
        "colab": {
          "base_uri": "https://localhost:8080/"
        },
        "outputId": "22490e92-dce1-42e5-b2ee-6bc178fe2b50"
      },
      "source": [
        "type(resultado)"
      ],
      "execution_count": null,
      "outputs": [
        {
          "output_type": "execute_result",
          "data": {
            "text/plain": [
              "float"
            ]
          },
          "metadata": {},
          "execution_count": 14
        }
      ]
    },
    {
      "cell_type": "markdown",
      "metadata": {
        "id": "lZKfb41dd7VQ"
      },
      "source": [
        "##**Comentarios en Python**\n",
        "Existen 2 formas de principales de colocar comentarios en Python:\n",
        "* 1. Mediante el simbolo de numeral (#) delante del texto o codigo que se desea comentar\n",
        "* 2. Mediante el simbolo de triple comillas dobles (\"\"\") delante del fragmento de texto o codigo que se desea comentar\n"
      ]
    },
    {
      "cell_type": "code",
      "source": [
        "#Soy un comentario\n",
        "#Soy un comentario\n",
        "#Soy un comentario\n",
        "\n",
        "\"\"\"\n",
        "Texto que no se va a mostrar o interpretar\n",
        "Texto que no se va a mostrar o interpretar\n",
        "Texto que no se va a mostrar o interpretar\n",
        "\"\"\"\n",
        "\n",
        "print(\"Hola\")"
      ],
      "metadata": {
        "id": "0SsHG-rhHMaU",
        "colab": {
          "base_uri": "https://localhost:8080/"
        },
        "outputId": "971f7bd5-8447-4b01-fd15-dbcaf9303b4f"
      },
      "execution_count": null,
      "outputs": [
        {
          "output_type": "stream",
          "name": "stdout",
          "text": [
            "Hola\n"
          ]
        }
      ]
    },
    {
      "cell_type": "markdown",
      "metadata": {
        "id": "QKgyJf8tGmFv"
      },
      "source": [
        "##**Conversión entre tipos de datos**\n",
        "Existen funciones predeterminadas en Python que permiten transformar un tipo de dato en otro:\n",
        "* Esto se llama función tipográfica Type-casting"
      ]
    },
    {
      "cell_type": "code",
      "metadata": {
        "id": "b67DV_g_eE52"
      },
      "source": [
        "entero = 52\n",
        "decimal = 5.7\n",
        "caracter = \"M\"\n",
        "cadena = 'Introducción a la programación'\n",
        "booleano = True"
      ],
      "execution_count": null,
      "outputs": []
    },
    {
      "cell_type": "code",
      "metadata": {
        "id": "RwlLVB9Id_5O",
        "colab": {
          "base_uri": "https://localhost:8080/"
        },
        "outputId": "97cee400-debe-42bc-ea6f-66d32fbcc7d2"
      },
      "source": [
        "#los valores Decimales como los Booleanos pueden ser convertidos en Enteros\n",
        "# con la función int():\n",
        "\n",
        "print(int(decimal))\n",
        "print(int(True))\n",
        "print(int(False))"
      ],
      "execution_count": null,
      "outputs": [
        {
          "output_type": "stream",
          "name": "stdout",
          "text": [
            "5\n",
            "1\n",
            "0\n"
          ]
        }
      ]
    },
    {
      "cell_type": "code",
      "metadata": {
        "id": "iVhVqlC_7iJN",
        "colab": {
          "base_uri": "https://localhost:8080/"
        },
        "outputId": "76a2e82d-62e6-4bad-97c0-403949f2c66a"
      },
      "source": [
        "print(bool(8))\n",
        "print(bool(-25))\n",
        "print(bool(0))"
      ],
      "execution_count": null,
      "outputs": [
        {
          "output_type": "stream",
          "name": "stdout",
          "text": [
            "True\n",
            "True\n",
            "False\n"
          ]
        }
      ]
    },
    {
      "cell_type": "code",
      "metadata": {
        "id": "BzBUjE4Hed8e",
        "colab": {
          "base_uri": "https://localhost:8080/"
        },
        "outputId": "406a4e0d-b486-4a2a-a82d-bd09351a9954"
      },
      "source": [
        "print(type(decimal))\n",
        "print(decimal)"
      ],
      "execution_count": null,
      "outputs": [
        {
          "output_type": "stream",
          "name": "stdout",
          "text": [
            "<class 'float'>\n",
            "5.7\n"
          ]
        }
      ]
    },
    {
      "cell_type": "code",
      "metadata": {
        "id": "UKXnvFU9e26F",
        "colab": {
          "base_uri": "https://localhost:8080/"
        },
        "outputId": "c46971a0-0959-4f5d-dcb2-453516ffb64d"
      },
      "source": [
        "type(1.5)\n"
      ],
      "execution_count": null,
      "outputs": [
        {
          "output_type": "execute_result",
          "data": {
            "text/plain": [
              "float"
            ]
          },
          "metadata": {},
          "execution_count": 21
        }
      ]
    },
    {
      "cell_type": "code",
      "metadata": {
        "id": "cUdfqNjtu70P",
        "colab": {
          "base_uri": "https://localhost:8080/"
        },
        "outputId": "a8123a1b-9a00-4672-aa40-e25134dbc1f7"
      },
      "source": [
        "# Podemos convertir Enteros o Booleanos en Decimales con la función float():\n",
        "print(float(entero))\n",
        "print(float(True))\n",
        "print(float(False))"
      ],
      "execution_count": null,
      "outputs": [
        {
          "output_type": "stream",
          "name": "stdout",
          "text": [
            "52.0\n",
            "1.0\n",
            "0.0\n"
          ]
        }
      ]
    },
    {
      "cell_type": "markdown",
      "metadata": {
        "id": "nvhPodN9vsH_"
      },
      "source": [
        "### Podemos convertir cualquiera de los tipos de datos y presentarlo en cadenas de texto"
      ]
    },
    {
      "cell_type": "code",
      "metadata": {
        "id": "F9q4Aufzv3vX",
        "colab": {
          "base_uri": "https://localhost:8080/"
        },
        "outputId": "556c6279-f67e-457b-ddbc-c9650ecd71e6"
      },
      "source": [
        "print(str(entero))\n",
        "print(str(decimal))\n",
        "print(str(booleano))"
      ],
      "execution_count": null,
      "outputs": [
        {
          "output_type": "stream",
          "name": "stdout",
          "text": [
            "52\n",
            "5.7\n",
            "True\n"
          ]
        }
      ]
    },
    {
      "cell_type": "code",
      "metadata": {
        "id": "O_5IOXkjwZmI"
      },
      "source": [
        "type(entero)\n"
      ],
      "execution_count": null,
      "outputs": []
    },
    {
      "cell_type": "code",
      "metadata": {
        "id": "i5XP-jbV8WxW",
        "colab": {
          "base_uri": "https://localhost:8080/"
        },
        "outputId": "353d1dc6-a4c4-495c-c4a1-ebd7122647b9"
      },
      "source": [
        "print(entero)\n",
        "print(type (entero) )\n",
        "\n",
        "\n",
        "c1 = str(entero)\n",
        "print (c1)\n",
        "print(type (c1))\n"
      ],
      "execution_count": null,
      "outputs": [
        {
          "output_type": "stream",
          "name": "stdout",
          "text": [
            "52\n",
            "<class 'int'>\n",
            "52\n",
            "<class 'str'>\n"
          ]
        }
      ]
    },
    {
      "cell_type": "code",
      "metadata": {
        "id": "PveBAcxowE-X",
        "colab": {
          "base_uri": "https://localhost:8080/"
        },
        "outputId": "200ad474-276d-4e11-ff4c-62c72115df3a"
      },
      "source": [
        "print(type(entero))\n",
        "print(type(decimal))\n",
        "print(type(booleano))\n"
      ],
      "execution_count": null,
      "outputs": [
        {
          "output_type": "stream",
          "name": "stdout",
          "text": [
            "<class 'int'>\n",
            "<class 'float'>\n",
            "<class 'bool'>\n"
          ]
        }
      ]
    },
    {
      "cell_type": "code",
      "metadata": {
        "id": "-3p0tZqchYCt",
        "colab": {
          "base_uri": "https://localhost:8080/"
        },
        "outputId": "8859482e-b97b-4ce1-8376-77085ad9d9a7"
      },
      "source": [
        "a = 5\n",
        "print('Palabra ' , a)"
      ],
      "execution_count": null,
      "outputs": [
        {
          "output_type": "stream",
          "name": "stdout",
          "text": [
            "Palabra  5\n"
          ]
        }
      ]
    },
    {
      "cell_type": "code",
      "metadata": {
        "id": "TC3ny8rShh1L"
      },
      "source": [
        "int('5') + int('5')"
      ],
      "execution_count": null,
      "outputs": []
    },
    {
      "cell_type": "code",
      "metadata": {
        "id": "zqx3rySvtRC9",
        "colab": {
          "base_uri": "https://localhost:8080/",
          "height": 35
        },
        "outputId": "2844e25e-0ea3-4cff-a7ed-e5624846cf29"
      },
      "source": [
        "'Armani' * 3"
      ],
      "execution_count": null,
      "outputs": [
        {
          "output_type": "execute_result",
          "data": {
            "text/plain": [
              "'ArmaniArmaniArmani'"
            ],
            "application/vnd.google.colaboratory.intrinsic+json": {
              "type": "string"
            }
          },
          "metadata": {},
          "execution_count": 27
        }
      ]
    },
    {
      "cell_type": "markdown",
      "metadata": {
        "id": "MjYCvRxCNAca"
      },
      "source": [
        "![image.png](data:image/png;base64,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)"
      ]
    },
    {
      "cell_type": "code",
      "metadata": {
        "id": "sia39Pe99ARI",
        "colab": {
          "base_uri": "https://localhost:8080/"
        },
        "outputId": "fbdb8011-008d-4d21-d11c-e3766c57decc"
      },
      "source": [
        "5//2"
      ],
      "execution_count": null,
      "outputs": [
        {
          "output_type": "execute_result",
          "data": {
            "text/plain": [
              "2"
            ]
          },
          "metadata": {},
          "execution_count": 29
        }
      ]
    },
    {
      "cell_type": "code",
      "metadata": {
        "id": "EjR8JUW-9Ejo"
      },
      "source": [
        "# si queremos la parte entera\n",
        "5//2"
      ],
      "execution_count": null,
      "outputs": []
    },
    {
      "cell_type": "markdown",
      "metadata": {
        "id": "BETOFjzAxv6Q"
      },
      "source": [
        "#Suma de Variables numéricas\n"
      ]
    },
    {
      "cell_type": "code",
      "metadata": {
        "id": "Omh4RPNAxzbJ"
      },
      "source": [
        "a= 10\n",
        "b= 15\n",
        "c= 12.5\n"
      ],
      "execution_count": null,
      "outputs": []
    },
    {
      "cell_type": "code",
      "metadata": {
        "id": "OD926buLyDKI"
      },
      "source": [
        "#observe como trae el resultado\n",
        "a+b"
      ],
      "execution_count": null,
      "outputs": []
    },
    {
      "cell_type": "code",
      "metadata": {
        "id": "devR_UNKyPuc"
      },
      "source": [
        "#observe como no trae el resultado\n",
        "resultado = a+b"
      ],
      "execution_count": null,
      "outputs": []
    },
    {
      "cell_type": "code",
      "metadata": {
        "id": "6MByqY3DyV8I"
      },
      "source": [
        "print(resultado)"
      ],
      "execution_count": null,
      "outputs": []
    },
    {
      "cell_type": "code",
      "metadata": {
        "id": "5xEyhTAbzZOE"
      },
      "source": [
        "#tipo de datos de la variable\n",
        "type(resultado)\n"
      ],
      "execution_count": null,
      "outputs": []
    },
    {
      "cell_type": "code",
      "metadata": {
        "id": "q13zrQ1w9pTH"
      },
      "source": [
        "print(a+b)"
      ],
      "execution_count": null,
      "outputs": []
    },
    {
      "cell_type": "code",
      "metadata": {
        "id": "lJ7c109rzl4D"
      },
      "source": [
        "#Enteros y Flotantes"
      ],
      "execution_count": null,
      "outputs": []
    },
    {
      "cell_type": "code",
      "metadata": {
        "id": "bWbs8p-QzqMz"
      },
      "source": [
        "#observe como trae el resultado\n",
        "a+c"
      ],
      "execution_count": null,
      "outputs": []
    },
    {
      "cell_type": "code",
      "metadata": {
        "id": "Wms2XzVHzvcJ"
      },
      "source": [
        "resultado = a+c\n",
        "print(resultado)"
      ],
      "execution_count": null,
      "outputs": []
    },
    {
      "cell_type": "code",
      "metadata": {
        "id": "J2KT3VOHz85J"
      },
      "source": [
        "#tipo de datos de la variable\n",
        "type(resultado)\n"
      ],
      "execution_count": null,
      "outputs": []
    },
    {
      "cell_type": "markdown",
      "metadata": {
        "id": "pyVBnY2k5fiH"
      },
      "source": [
        "# Cadenas \"f\"\n",
        "A partir de la versión 3.6 de Python, se añadió (PEP 498), una nueva notación para cadenas llamada cadenas **\"f\"**, que hace más sencillo introducir variables y expresiones en las cadenas. Una cadena \"f\" contiene variables y expresiones entre llaves \"{}\" que se sustituyen directamente por su valor. Las cadenas \"f\" se reconocen porque comienzan por una letra f antes de las comillas de apertura."
      ]
    },
    {
      "cell_type": "code",
      "source": [
        "nombre = \"Alicia\"\n",
        "edad = 35\n",
        "\n",
        "print(\"Me llamo\", nombre, \"y tengo\", edad, \"años.\")\n",
        "print(f\"Me llamo {nombre} y tengo {edad} años.\")\n"
      ],
      "metadata": {
        "id": "6Kh2aUJvdBu5",
        "colab": {
          "base_uri": "https://localhost:8080/"
        },
        "outputId": "49c64f14-9c05-4301-805e-f7f6f52a3d03"
      },
      "execution_count": null,
      "outputs": [
        {
          "output_type": "stream",
          "name": "stdout",
          "text": [
            "Me llamo Alicia y tengo 35 años.\n",
            "Me llamo Alicia y tengo 35 años.\n"
          ]
        }
      ]
    },
    {
      "cell_type": "code",
      "metadata": {
        "id": "RKx6-Dns5nWL",
        "colab": {
          "base_uri": "https://localhost:8080/"
        },
        "outputId": "ccdb27bd-830e-4fda-f9a6-009b2fb7c07d"
      },
      "source": [
        "print(\"¿Cómo se llama?\")\n",
        "nombre = input()\n",
        "print(f\"Me alegro de conocerle, {nombre}\")"
      ],
      "execution_count": null,
      "outputs": [
        {
          "output_type": "stream",
          "name": "stdout",
          "text": [
            "¿Cómo se llama?\n",
            "Jean\n",
            "Me alegro de conocerle, Jean\n"
          ]
        }
      ]
    },
    {
      "cell_type": "code",
      "metadata": {
        "id": "kIRkhPQIufwl",
        "colab": {
          "base_uri": "https://localhost:8080/"
        },
        "outputId": "eebbf1b9-2942-455b-e63c-16b098b0afc7"
      },
      "source": [
        "type (nombre)"
      ],
      "execution_count": null,
      "outputs": [
        {
          "output_type": "execute_result",
          "data": {
            "text/plain": [
              "str"
            ]
          },
          "metadata": {},
          "execution_count": 33
        }
      ]
    },
    {
      "cell_type": "code",
      "metadata": {
        "id": "0118LLYg52X3",
        "colab": {
          "base_uri": "https://localhost:8080/"
        },
        "outputId": "c9359b8f-3b42-4a92-e495-673e702bd86c"
      },
      "source": [
        "nombre   = input(\"Dígame su nombre: \")\n",
        "apellido = input(\"Dígame su apellido: \")\n",
        "edad     = input(\"Dígame su edad: \")\n",
        "print(f\"Me alegro de conocerle, {nombre} {apellido} y mi edad es {edad}\")\n",
        "#print(\"Me alegro de conocerle\", nombre, apellido, edad )\n"
      ],
      "execution_count": null,
      "outputs": [
        {
          "output_type": "stream",
          "name": "stdout",
          "text": [
            "Dígame su nombre: Jean\n",
            "Dígame su apellido: Abreu\n",
            "Dígame su edad: 32\n",
            "Me alegro de conocerle, Jean Abreu y mi edad es 32\n"
          ]
        }
      ]
    },
    {
      "cell_type": "code",
      "metadata": {
        "id": "ZEpBX2py6Dnv",
        "colab": {
          "base_uri": "https://localhost:8080/"
        },
        "outputId": "6476f224-96b0-40cb-f9de-13fc431f9e67"
      },
      "source": [
        "type (edad)"
      ],
      "execution_count": null,
      "outputs": [
        {
          "output_type": "execute_result",
          "data": {
            "text/plain": [
              "str"
            ]
          },
          "metadata": {},
          "execution_count": 35
        }
      ]
    },
    {
      "cell_type": "code",
      "metadata": {
        "id": "VPmQZxWwjsD_",
        "colab": {
          "base_uri": "https://localhost:8080/"
        },
        "outputId": "65760c61-86ed-4b39-9621-ed44c5bd4d75"
      },
      "source": [
        "num1 = float(input(\"Dígame el primer numero: \"))\n",
        "num2 = float(input(\"Dígame el segundo numero \"))\n",
        "resultado = num1 + num2\n",
        "print('la suma es ', resultado)"
      ],
      "execution_count": null,
      "outputs": [
        {
          "output_type": "stream",
          "name": "stdout",
          "text": [
            "Dígame el primer numero: 3.2\n",
            "Dígame el segundo numero 2.1\n",
            "la suma es  5.300000000000001\n"
          ]
        }
      ]
    },
    {
      "cell_type": "code",
      "source": [],
      "metadata": {
        "id": "mxMdy4dX_XY4"
      },
      "execution_count": null,
      "outputs": []
    },
    {
      "cell_type": "markdown",
      "metadata": {
        "id": "V_Q9x3UY7v6K"
      },
      "source": [
        "-------------------------------------------------------------------"
      ]
    },
    {
      "cell_type": "markdown",
      "metadata": {
        "id": "I9jL5OZV7gLE"
      },
      "source": [
        "http://patriciaemiguel.com/ejercicios/python/2019/02/24/ejercicios-principiantes-python.html\n"
      ]
    }
  ]
}