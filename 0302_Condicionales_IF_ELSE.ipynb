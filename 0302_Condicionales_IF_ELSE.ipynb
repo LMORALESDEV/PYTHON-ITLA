{
  "nbformat": 4,
  "nbformat_minor": 0,
  "metadata": {
    "colab": {
      "provenance": [],
      "include_colab_link": true
    },
    "kernelspec": {
      "name": "python3",
      "display_name": "Python 3"
    }
  },
  "cells": [
    {
      "cell_type": "markdown",
      "metadata": {
        "id": "view-in-github",
        "colab_type": "text"
      },
      "source": [
        "<a href=\"https://colab.research.google.com/github/LMORALESDEV/PYTHON-ITLA/blob/main/0302_Condicionales_IF_ELSE.ipynb\" target=\"_parent\"><img src=\"https://colab.research.google.com/assets/colab-badge.svg\" alt=\"Open In Colab\"/></a>"
      ]
    },
    {
      "cell_type": "code",
      "source": [
        "x,y = input(\"ingrese los valores: \").split()\n",
        "print(\"Valor de x: \", x)\n",
        "print(\"Valor de y: \", y)\n",
        "print()"
      ],
      "metadata": {
        "id": "LGFrVTy_tmI3"
      },
      "execution_count": null,
      "outputs": []
    },
    {
      "cell_type": "code",
      "source": [
        "x,y,z = input(\"ingrese los valores: \").split()\n",
        "print(\"Valor de x: \", x)\n",
        "print(\"Valor de y: \", y)\n",
        "print(\"Valor de z: \", z)\n",
        "print()"
      ],
      "metadata": {
        "id": "47NRN35nvesU"
      },
      "execution_count": null,
      "outputs": []
    },
    {
      "cell_type": "markdown",
      "metadata": {
        "id": "26IHzE7Rd4hz"
      },
      "source": [
        "# **Introducción a Python: Decisiones y Condicionales**\n"
      ]
    },
    {
      "cell_type": "markdown",
      "metadata": {
        "id": "hw2BPNFq3PJf"
      },
      "source": [
        "## **Estructuras condicionales**"
      ]
    },
    {
      "cell_type": "markdown",
      "metadata": {
        "id": "ztZRxxEBEDUx"
      },
      "source": [
        "En esta *clase* aprenderás qué son las estructuras condicionales y cómo se utilizan en Python.\n",
        "\n",
        "Las estructuras condicionales se relacionan con las variables **boleanas**, recordemos que hay únicamente 2 tipos de estas variables: `True` y `False`"
      ]
    },
    {
      "cell_type": "code",
      "metadata": {
        "id": "pEB0n2euEeuX",
        "colab": {
          "base_uri": "https://localhost:8080/"
        },
        "outputId": "0e2d4cdb-a80f-421c-a685-66b16c96d7b7"
      },
      "source": [
        "a = True\n",
        "b = False\n",
        "print(a)\n",
        "print(b)"
      ],
      "execution_count": null,
      "outputs": [
        {
          "output_type": "stream",
          "name": "stdout",
          "text": [
            "True\n",
            "False\n"
          ]
        }
      ]
    },
    {
      "cell_type": "markdown",
      "metadata": {
        "id": "ZtBMDZrnElFD"
      },
      "source": [
        "Recuerda que puedes realizar múltiples operaciones con ellas, ya que `True` equivale a `1` y `False` equivale a `0`:"
      ]
    },
    {
      "cell_type": "code",
      "metadata": {
        "id": "GqYjjTMnG67c",
        "colab": {
          "base_uri": "https://localhost:8080/"
        },
        "outputId": "7811bbb8-281c-4d51-b412-b41a5bb83098"
      },
      "source": [
        "print(True + True)\n",
        "print(False * True)\n",
        "print(- False - False)\n",
        "print(3 * True)"
      ],
      "execution_count": null,
      "outputs": [
        {
          "output_type": "stream",
          "name": "stdout",
          "text": [
            "2\n",
            "0\n",
            "0\n",
            "3\n"
          ]
        }
      ]
    },
    {
      "cell_type": "markdown",
      "metadata": {
        "id": "4FPmYXuGG7Iu"
      },
      "source": [
        "También vimos que el operador `not` cambia una variable de `True` a `False` y viceversa"
      ]
    },
    {
      "cell_type": "code",
      "metadata": {
        "id": "6NMYSGnQG7Yp",
        "colab": {
          "base_uri": "https://localhost:8080/"
        },
        "outputId": "c14af37d-1fbc-4eae-e1fb-6ffb6bba0394"
      },
      "source": [
        "a = True\n",
        "b = False\n",
        "print(not a)\n",
        "print(not b)"
      ],
      "execution_count": null,
      "outputs": [
        {
          "output_type": "stream",
          "name": "stdout",
          "text": [
            "False\n",
            "True\n"
          ]
        }
      ]
    },
    {
      "cell_type": "markdown",
      "metadata": {
        "id": "7Rv7m20gG8Ac"
      },
      "source": [
        "Existen operadores adicionales que están específicamente diseñadors para variables booleanas. El primero de ellos es el operador `and` ('y' en inglés). La sintaxis del operador `and` es la siguiente:\n",
        "\n",
        "```\n",
        "a and b and c and d\n",
        "```\n",
        "\n",
        "donde `a` y `b` son variables booleanas. El resultado de esta operación es otra variable booleana que será `True` siempre que `a` **Y** `b` sean también `True`. Veamos algunos ejemplos:"
      ]
    },
    {
      "cell_type": "code",
      "metadata": {
        "id": "pEc0bKuCG8UL",
        "colab": {
          "base_uri": "https://localhost:8080/"
        },
        "outputId": "30593a8c-4c1c-41de-fe73-2f881f971a8c"
      },
      "source": [
        "print(True and True)\n",
        "print(True and False)\n",
        "print(False and True)\n",
        "print(False and False)"
      ],
      "execution_count": null,
      "outputs": [
        {
          "output_type": "stream",
          "name": "stdout",
          "text": [
            "True\n",
            "False\n",
            "False\n",
            "False\n"
          ]
        }
      ]
    },
    {
      "cell_type": "markdown",
      "metadata": {
        "id": "mdC3NBqxG8tP"
      },
      "source": [
        "También puedes concatenar múltiples variables booleanas entre operadores `and`"
      ]
    },
    {
      "cell_type": "code",
      "metadata": {
        "id": "3zDSboFZG8_n",
        "colab": {
          "base_uri": "https://localhost:8080/"
        },
        "outputId": "5d2dac0a-edae-41f9-c4e8-f500145113b5"
      },
      "source": [
        "a, b, c, d = True, True, True, False\n",
        "\n",
        "print(a and b and c)\n",
        "print(a and b and d)"
      ],
      "execution_count": null,
      "outputs": [
        {
          "output_type": "stream",
          "name": "stdout",
          "text": [
            "True\n",
            "False\n"
          ]
        }
      ]
    },
    {
      "cell_type": "markdown",
      "metadata": {
        "id": "l-aGBXAwH8jj"
      },
      "source": [
        "Otro operador booleano es el operador `or` (\"o\" en inglés). De la misma forma, su sintaxis es la siguiente\n",
        "\n",
        "```\n",
        "a or b\n",
        "```\n",
        "\n",
        "donde `a` y `b` son variables booleanas. El resultado de esta operación es otra variable booleana que será `True` siempre que `a` **O** `b` sean también `True` (por lo menos uno de ellos debe ser `True`). Aquí tienes algunos ejemplos:"
      ]
    },
    {
      "cell_type": "code",
      "metadata": {
        "id": "aQJQ8hcoH80F",
        "colab": {
          "base_uri": "https://localhost:8080/"
        },
        "outputId": "10fcba15-1181-459c-b724-06cd1d551e5b"
      },
      "source": [
        "print(True or True)\n",
        "print(True or False)\n",
        "print(False or True)\n",
        "print(False or False)"
      ],
      "execution_count": null,
      "outputs": [
        {
          "output_type": "stream",
          "name": "stdout",
          "text": [
            "True\n",
            "True\n",
            "True\n",
            "False\n"
          ]
        }
      ]
    },
    {
      "cell_type": "markdown",
      "metadata": {
        "id": "AmSbz-C7H9KB"
      },
      "source": [
        "También puedes concatenar múltiples variables booleanas entre operadores `or`"
      ]
    },
    {
      "cell_type": "code",
      "metadata": {
        "id": "9voV_WIWH9dZ",
        "colab": {
          "base_uri": "https://localhost:8080/"
        },
        "outputId": "8b3aca93-756e-4312-e7d5-fe1abb65ce28"
      },
      "source": [
        "a, b, c, d = False, False, False, True\n",
        "\n",
        "print(a or b or c)\n",
        "print(a or b or d)"
      ],
      "execution_count": null,
      "outputs": [
        {
          "output_type": "stream",
          "name": "stdout",
          "text": [
            "False\n",
            "True\n"
          ]
        }
      ]
    },
    {
      "cell_type": "markdown",
      "metadata": {
        "id": "iidqyQJi0SkI"
      },
      "source": [
        "Los operadores `and` y `or` se pueden combinar en la misma \"sentencia booleana\". En ese caso, el operador `and` tiene prioridad por encima del `or` y por tanto se evaluará primero. Algunos ejemplos:"
      ]
    },
    {
      "cell_type": "code",
      "metadata": {
        "id": "wo1SOOrL0S5j",
        "colab": {
          "base_uri": "https://localhost:8080/"
        },
        "outputId": "35d1ad96-e2c9-4775-fe83-bbfeb5c912cb"
      },
      "source": [
        "print(True or (True and False)) #Respuesta: True or False\n",
        "print(False or (False and True) or False) #Respuesta: False or False or False"
      ],
      "execution_count": null,
      "outputs": [
        {
          "output_type": "stream",
          "name": "stdout",
          "text": [
            "True\n",
            "False\n"
          ]
        }
      ]
    },
    {
      "cell_type": "markdown",
      "metadata": {
        "id": "Csm2idGa0T3c"
      },
      "source": [
        "Otra forma de generar variables booleanas es con los **operadores de comparación**: `>, <, >=, <=, ==, !=`. Por ejemplo:"
      ]
    },
    {
      "cell_type": "code",
      "metadata": {
        "id": "Igu3x8DF0UKq",
        "colab": {
          "base_uri": "https://localhost:8080/"
        },
        "outputId": "ac17db90-e1a3-407a-8a48-635007a0fa9a"
      },
      "source": [
        "a = 2 > 1\n",
        "print(a)"
      ],
      "execution_count": null,
      "outputs": [
        {
          "output_type": "stream",
          "name": "stdout",
          "text": [
            "True\n"
          ]
        }
      ]
    },
    {
      "cell_type": "markdown",
      "metadata": {
        "id": "bGMm6RQY0Uhz"
      },
      "source": [
        "Como `2` es mayor que `1`, la expresión asignada a la variable `a` es `True`. Por otro lado:"
      ]
    },
    {
      "cell_type": "code",
      "metadata": {
        "id": "jsKZgwTT0UzE",
        "colab": {
          "base_uri": "https://localhost:8080/"
        },
        "outputId": "727c4370-b5f9-4f89-eb1b-b04babfccae8"
      },
      "source": [
        "b = 9 < 5\n",
        "print(b)"
      ],
      "execution_count": null,
      "outputs": [
        {
          "output_type": "stream",
          "name": "stdout",
          "text": [
            "False\n"
          ]
        }
      ]
    },
    {
      "cell_type": "markdown",
      "metadata": {
        "id": "uwuYg84Y0Vp8"
      },
      "source": [
        "Como `9` **no** es más pequeño que `5`, la variable `b` es `False`. Los operadores `<` y `>` representan una comparación **estrictamente** menor y mayor, respectivamente. Por ello los siguientes ejemplos se evalúan a `False`:"
      ]
    },
    {
      "cell_type": "code",
      "metadata": {
        "id": "ao9UK5an0WAQ",
        "colab": {
          "base_uri": "https://localhost:8080/"
        },
        "outputId": "a42111f0-5075-4005-c0e2-bc242e2ee0d3"
      },
      "source": [
        "print(2 > 2)\n",
        "print(-1 > -1)"
      ],
      "execution_count": null,
      "outputs": [
        {
          "output_type": "stream",
          "name": "stdout",
          "text": [
            "False\n",
            "False\n"
          ]
        }
      ]
    },
    {
      "cell_type": "markdown",
      "metadata": {
        "id": "XEv23aVR0WQ5"
      },
      "source": [
        "Para incluir la igualdad dentro de la comparación, se usan los operadores `<=` y `>=` (\"menor o igual que\" y \"mayor o igual que\", respectivamente). Veamos algunos ejemplos de su uso:"
      ]
    },
    {
      "cell_type": "code",
      "metadata": {
        "id": "dURP8xB631T9",
        "colab": {
          "base_uri": "https://localhost:8080/"
        },
        "outputId": "8ebd8c1a-b839-48ae-b862-97fa58f509b8"
      },
      "source": [
        "print(2 >= 1)\n",
        "print(9 <= 5)\n",
        "print(2 <= 2)\n",
        "print(-1 >= -1)"
      ],
      "execution_count": null,
      "outputs": [
        {
          "output_type": "stream",
          "name": "stdout",
          "text": [
            "True\n",
            "False\n",
            "True\n",
            "True\n"
          ]
        }
      ]
    },
    {
      "cell_type": "markdown",
      "metadata": {
        "id": "nbBFG8zb31kF"
      },
      "source": [
        "Luego, el operador '==' representa la **igualdad exclusiva** entre dos variables:"
      ]
    },
    {
      "cell_type": "code",
      "metadata": {
        "id": "bMFRqYSa310u",
        "colab": {
          "base_uri": "https://localhost:8080/"
        },
        "outputId": "e4ad96df-4eac-476e-8b72-c48e4b9638e9"
      },
      "source": [
        "print(1 == 2)\n",
        "print(4.55555 == 4.55556)\n",
        "print(1 == 1)\n",
        "print(1 == 1.0)"
      ],
      "execution_count": null,
      "outputs": [
        {
          "output_type": "stream",
          "name": "stdout",
          "text": [
            "False\n",
            "False\n",
            "True\n",
            "True\n"
          ]
        }
      ]
    },
    {
      "cell_type": "markdown",
      "metadata": {
        "id": "PAbC1KNKD_Qg"
      },
      "source": [
        "Finalmente, el operador `!=` tiene en cuenta la **desigualdad exclusiva**, fíjate en los siguientes ejemplos:"
      ]
    },
    {
      "cell_type": "code",
      "metadata": {
        "id": "FG6tfjy8D_jx",
        "colab": {
          "base_uri": "https://localhost:8080/"
        },
        "outputId": "ca25e9d5-c0b8-4a51-f3fa-5698f678c21a"
      },
      "source": [
        "print(1 != 2)\n",
        "print(4.5555 != 4.5556)\n",
        "print(1 != 1)\n",
        "print(1 != 1.0)"
      ],
      "execution_count": null,
      "outputs": [
        {
          "output_type": "stream",
          "name": "stdout",
          "text": [
            "True\n",
            "True\n",
            "False\n",
            "False\n"
          ]
        }
      ]
    },
    {
      "cell_type": "markdown",
      "metadata": {
        "id": "TtkObJtc32Ld"
      },
      "source": [
        "Las relaciones de comparación también se pueden establecer entre **strings**. Un string `s1` será considerado menor que otro string `s2` si `s1` aparecería antes que `s2` en el diccionario. Veamos algunos ejemplos:"
      ]
    },
    {
      "cell_type": "code",
      "metadata": {
        "id": "rvqN8-Wb32Zh",
        "colab": {
          "base_uri": "https://localhost:8080/"
        },
        "outputId": "a440b10e-aaa1-4184-f4bf-12382df4b9f8"
      },
      "source": [
        "print('aaaaa' < 'bbbbb')\n",
        "print('alphabet' > 'zebra')\n",
        "print('cactus' == 'cactis')"
      ],
      "execution_count": null,
      "outputs": [
        {
          "output_type": "stream",
          "name": "stdout",
          "text": [
            "True\n",
            "False\n",
            "False\n"
          ]
        }
      ]
    },
    {
      "cell_type": "markdown",
      "metadata": {
        "id": "_4PuBWbA32kw"
      },
      "source": [
        "Como curiosidad, cualquier letra mayúscula se considera que aparecería **antes** en el diccionario que las letras minúsculas, por ello ocurren los siguientes resultados al comparar palabras con letras mayúsculas y/o minúsculas:"
      ]
    },
    {
      "cell_type": "code",
      "metadata": {
        "id": "It-62jUh321E",
        "colab": {
          "base_uri": "https://localhost:8080/"
        },
        "outputId": "0e0381f9-51f7-4646-9b87-edb60d3afbe0"
      },
      "source": [
        "print('AAAAA' < 'bbbbb')\n",
        "print('alphabet' > 'Zebra')\n",
        "print('library' > 'Library')"
      ],
      "execution_count": null,
      "outputs": [
        {
          "output_type": "stream",
          "name": "stdout",
          "text": [
            "True\n",
            "True\n",
            "True\n"
          ]
        }
      ]
    },
    {
      "cell_type": "markdown",
      "metadata": {
        "id": "Y6SelCAZ5znU"
      },
      "source": [
        "Por qué todos estos operadores booleanos y operadores de comparación son importantes al programar? Porque permiten la elaboración de estructuras condicionales. Una estructura condicional *SIMPLE* en Python viene dada por la operación `if`, cuya sintaxis es la siguiente:\n",
        "\n",
        "```\n",
        "if condición:\n",
        "  código\n",
        "```\n",
        "\n",
        "donde `condición` es una expresión booleana que debe ser `True` para que se ejecute el `código`. Fíjate en que las instrucciones que dependen de esa estrucutra condicional deben estar **indentadas** (tabuladas hacia la derecha). También **debes añadir dos `:` puntos tras la condición**. Fíjate en los siguientes dos ejemplos:"
      ]
    },
    {
      "cell_type": "code",
      "metadata": {
        "id": "ui_lZk4-50C0"
      },
      "source": [
        "if False:\n",
        "  print(\"Esta es una expresión verdadera 1.\")"
      ],
      "execution_count": null,
      "outputs": []
    },
    {
      "cell_type": "code",
      "metadata": {
        "id": "EdRXF1H0CCVP",
        "colab": {
          "base_uri": "https://localhost:8080/"
        },
        "outputId": "29805fe7-80a3-4bf7-f269-45e210266ac4"
      },
      "source": [
        "if True:\n",
        "  print(\"Esta es una expresión verdadera.\")"
      ],
      "execution_count": null,
      "outputs": [
        {
          "output_type": "stream",
          "name": "stdout",
          "text": [
            "Esta es una expresión verdadera.\n"
          ]
        }
      ]
    },
    {
      "cell_type": "markdown",
      "metadata": {
        "id": "Lk4ZrhPD50UQ"
      },
      "source": [
        "Cuando la condición es `False`, las instrucciones que están indentadas no se evalúan (no ocurren). Veamos un ejemplo más para ver cómo funciona la indentación:"
      ]
    },
    {
      "cell_type": "code",
      "metadata": {
        "id": "I7uRUMou50iE",
        "colab": {
          "base_uri": "https://localhost:8080/"
        },
        "outputId": "52fed037-20e8-4434-a50b-e73517dc17eb"
      },
      "source": [
        "print('Uno')\n",
        "if True:\n",
        "  print('Dos')\n",
        "print('Tres')\n",
        "if False:\n",
        "  print('Cuatro')\n",
        "print('Cinco')"
      ],
      "execution_count": null,
      "outputs": [
        {
          "output_type": "stream",
          "name": "stdout",
          "text": [
            "Uno\n",
            "Dos\n",
            "Tres\n",
            "Cinco\n"
          ]
        }
      ]
    },
    {
      "cell_type": "markdown",
      "metadata": {
        "id": "i7Gyh4u050v3"
      },
      "source": [
        "`Uno`, `Tres` y `Cinco` se muestran por pantalla porque no dependen de ninguna estructura condicional (no están indentados). `Dos` se muestra porque depende de una estructura condicional cuya condición es `True`. Finalmente, `Cuatro` no se muestra porque depende de una estructura condicional cuya condición es `False`.\n",
        "\n",
        "Cualquier cosa que dependa de una estructura condicional debe estar indentada. Puedes tener estructuras condicionales dentro de otras estructuras condicionales:  estructura anidada"
      ]
    },
    {
      "cell_type": "code",
      "metadata": {
        "id": "qhXGpti65094",
        "colab": {
          "base_uri": "https://localhost:8080/"
        },
        "outputId": "28cfd571-256c-4c2c-ff3c-da85cb2b367e"
      },
      "source": [
        "if True:\n",
        "  print(1)\n",
        "  if False:\n",
        "    print(2)\n",
        "  if True:\n",
        "    print(3)\n",
        "  print(4)\n",
        "if False:\n",
        "  print(5)\n",
        "  if True:\n",
        "    print(6)"
      ],
      "execution_count": null,
      "outputs": [
        {
          "output_type": "stream",
          "name": "stdout",
          "text": [
            "1\n",
            "3\n",
            "4\n"
          ]
        }
      ]
    },
    {
      "cell_type": "markdown",
      "metadata": {
        "id": "794k-LJ851Tx"
      },
      "source": [
        "¿Entiendes por qué sólo se han mostrado los números 1, 3 y 4?\n",
        "\n",
        "Ahora veamos algunos ejemplos con los operadores de comparación que hemos visto antes, puedes adivinar cuáles de los siguientes strings se mostrarán por pantalla?"
      ]
    },
    {
      "cell_type": "code",
      "metadata": {
        "id": "1gTD9Mft51iX",
        "colab": {
          "base_uri": "https://localhost:8080/"
        },
        "outputId": "0cc242a5-55c9-4c4b-cc64-5aae5bf48a68"
      },
      "source": [
        "if 3 > 4:\n",
        "  print('Uno')\n",
        "if True and False:\n",
        "  print('Dos')\n",
        "if 8 >= 9 or 5 < 6:\n",
        "  print('Tres')\n",
        "if 4 == 4.0:\n",
        "  print('Cuatro')\n",
        "if not True:\n",
        "  print('Cinco')\n",
        "if 3 != 4:\n",
        "  print('Seis')"
      ],
      "execution_count": null,
      "outputs": [
        {
          "output_type": "stream",
          "name": "stdout",
          "text": [
            "Tres\n",
            "Cuatro\n",
            "Seis\n"
          ]
        }
      ]
    },
    {
      "cell_type": "markdown",
      "metadata": {
        "id": "Jr1b9q2s51v1"
      },
      "source": [
        "La estructura condicional *DOBLE* tiene dos extensiones con respecto a la que acabas de ver. La primera de ellas es la operación `else`, cuya sintaxis es la siguiente:\n",
        "\n",
        "```\n",
        "if condición:\n",
        "  código 1\n",
        "else:\n",
        "  código 2\n",
        "```\n",
        "\n",
        "Básicamente, esta estructura va a ejecutar `código 2` en caso de que la `condición` sea `False`. En el caso en que la `condición` sea `True`, la estructura seguirá ejecutando `código 1`. **Debes añadir dos puntos `:` detrás de la `condición` y detrás de `else`**. Veamos algunos ejemplos:"
      ]
    },
    {
      "cell_type": "code",
      "metadata": {
        "id": "eRe-RUJECvZK",
        "colab": {
          "base_uri": "https://localhost:8080/"
        },
        "outputId": "de461251-91fa-4daa-c6ad-d97ae9ee15ba"
      },
      "source": [
        "if True:\n",
        "  print('Plan A')\n",
        "else:\n",
        "  print('Plan B')"
      ],
      "execution_count": null,
      "outputs": [
        {
          "output_type": "stream",
          "name": "stdout",
          "text": [
            "Plan A\n"
          ]
        }
      ]
    },
    {
      "cell_type": "code",
      "metadata": {
        "id": "KAxpDVxAMasZ",
        "colab": {
          "base_uri": "https://localhost:8080/"
        },
        "outputId": "c0020dca-f054-40ea-bb87-3028d2838b5e"
      },
      "source": [
        "if False:\n",
        "  print('Plan A')\n",
        "else:\n",
        "  print('Plan B')"
      ],
      "execution_count": null,
      "outputs": [
        {
          "output_type": "stream",
          "name": "stdout",
          "text": [
            "Plan B\n"
          ]
        }
      ]
    },
    {
      "cell_type": "markdown",
      "metadata": {
        "id": "gfwkxl2kCvrj"
      },
      "source": [
        "Fácil, ¿no? Veamos algunos ejemplos. El código que sigue nos determina si una temperatura dada por la variable `temperatura` es muy fría o no:"
      ]
    },
    {
      "cell_type": "code",
      "metadata": {
        "id": "ZJhhhPhlCv60",
        "colab": {
          "base_uri": "https://localhost:8080/"
        },
        "outputId": "ff942427-a89d-4c06-b95a-01fb649b4e7f"
      },
      "source": [
        "temperatura = 10\n",
        "if temperatura < 0:\n",
        "  print('¡Hace mucho frío!')\n",
        "else: #defecto\n",
        "  print('Se está bien')"
      ],
      "execution_count": null,
      "outputs": [
        {
          "output_type": "stream",
          "name": "stdout",
          "text": [
            "Se está bien\n"
          ]
        }
      ]
    },
    {
      "cell_type": "markdown",
      "metadata": {
        "id": "Sm5h2Ss5CwOE"
      },
      "source": [
        "Prueba tú mismo, ¿qué pasa si cambias el valor de `temperatura` por `-2`? ¿Y por `0`?"
      ]
    },
    {
      "cell_type": "markdown",
      "metadata": {
        "id": "M-H8zsjVCwnh"
      },
      "source": [
        "Eso es útil, pero en muchas ocasiones las cosas no se dividen en frío o caliente, existen puntos intermedios. Para ello es por lo que se añade la segunda extensión a la estructura `if-else`. Vamos a introducir el operador `elif`, con la siguiente sintaxis:\n",
        "\n",
        "*MULTIPLE*\n",
        "\n",
        "```\n",
        "if condición_1:\n",
        "  código 1\n",
        "elif condición_2:\n",
        "  código 2\n",
        "else:\n",
        "  código 3\n",
        "```\n",
        "\n",
        "En este caso, si la `condición_1` es `True`, se ejecutará el `código 1`. En caso de que `condición_1` sea `False`, **si la `condición_2` es `True`**, entonces se ejecutará el `código 2`. Finalmente, tanto si la `condición_1` como la `condición_2` son `False`, entonces se ejecutará el `código 3` de la parte del `else`. **Recuerda añadir los dos puntos `:`**. Veamos cómo funciona el operador `elif` haciendo una extensión del código de la temperatura que acabamos de ver:"
      ]
    },
    {
      "cell_type": "code",
      "metadata": {
        "id": "FhwnLiwwM-xu",
        "colab": {
          "base_uri": "https://localhost:8080/"
        },
        "outputId": "c5352b87-d7bc-434a-d043-658dc48fd1d6"
      },
      "source": [
        "temperatura = int(input(\"Ingrese la temperatura:\"))\n",
        "#temperatura = 28\n",
        "if temperatura <= 0:\n",
        "  print('¡Hace mucho frío!')\n",
        "elif temperatura < 10:\n",
        "  print('El ambiente es fresco')\n",
        "elif temperatura < 20:\n",
        "  print('Se está bien')\n",
        "elif temperatura < 25:\n",
        "  print('Esta empezando a hacer calor...')\n",
        "else:\n",
        "  print('Hace calor')\n",
        "\n"
      ],
      "execution_count": null,
      "outputs": [
        {
          "output_type": "stream",
          "name": "stdout",
          "text": [
            "Ingrese la temperatura:25\n",
            "Hace calor\n"
          ]
        }
      ]
    },
    {
      "cell_type": "markdown",
      "metadata": {
        "id": "07UOyezDM_PS"
      },
      "source": [
        "Haz pruebas tú mismo, cambia el valor de `temperatura` por `5`, `-4` y `30`."
      ]
    },
    {
      "cell_type": "markdown",
      "metadata": {
        "id": "gFdVir8MOv8Z"
      },
      "source": [
        "Finalmente, recuerda que hay operaciones con listas cuyo resultado es una variable booleana y por tanto se pueden combinar con estructuras condicionales:"
      ]
    },
    {
      "cell_type": "code",
      "metadata": {
        "id": "r8P-egwpO5vG"
      },
      "source": [
        "lista_de_la_compra = ['leche', 'manzanas', 'tomates', 'chocolate', 'uvas']\n",
        "\n",
        "if 'uvas' in lista_de_la_compra:\n",
        "  print('Listos para ir al supermercado!')\n",
        "else:\n",
        "  print('¡Espera! Primero debes añadir uvas a la lista de la compra...')\n"
      ],
      "execution_count": null,
      "outputs": []
    },
    {
      "cell_type": "markdown",
      "metadata": {
        "id": "GsxNmW7Tnab2"
      },
      "source": [
        "### **Problemas de Ejemplo**"
      ]
    },
    {
      "cell_type": "markdown",
      "metadata": {
        "id": "wfycNQ-jpI6F"
      },
      "source": [
        "**Problema 1**\n",
        "\n",
        "Escribir un programa que pregunte al usuario su edad y muestre por pantalla si es mayor de edad o no."
      ]
    },
    {
      "cell_type": "code",
      "source": [
        "edad = int(input(\"¿Cuál es tu edad? \"))\n",
        "\n",
        "if edad < 18:\n",
        "    print (\"Eres menor de edad.\")\n",
        "else:\n",
        "    print(\"Eres mayor de edad.\")"
      ],
      "metadata": {
        "id": "jEu2GxIITwZU"
      },
      "execution_count": null,
      "outputs": []
    },
    {
      "cell_type": "markdown",
      "source": [
        "**Problema 2**\n",
        "\n",
        "Escriba un programa que pida dos números enteros y que calcule su división, escribiendo si la división es exacta o no.\n",
        "\n",
        "NOTA: Recordando el el simbolo **%** es para conocer el residuo y el simbolo **//** para divisiones enteras\n",
        "\n",
        "Módulo % = Residuo\n",
        "\n",
        "// = Para divisiones enteras\n",
        "\n",
        "10 / 3 = 3.333\n",
        "\n",
        "10 // 3 = 3  pero  1 es el modulo o residuo\n",
        "\n"
      ],
      "metadata": {
        "id": "kxBr51o1RaGy"
      }
    },
    {
      "cell_type": "code",
      "source": [
        "print(\"DIVISOR DE NÚMEROS\")\n",
        "dividendo = int(input(\"Escriba el dividendo: \"))\n",
        "divisor = int(input(\"Escriba el divisor: \"))\n",
        "\n",
        "if dividendo % divisor == 0:\n",
        "  print(f\"La división es exacta. Cociente: {dividendo / divisor}\")\n",
        "\n",
        "else:\n",
        "  print(f\"La división no es exacta. Cociente: {dividendo // divisor} \")\n",
        "  print(f\"Residuo: {dividendo % divisor}\")"
      ],
      "metadata": {
        "id": "7s3E3FApRpmu",
        "colab": {
          "base_uri": "https://localhost:8080/"
        },
        "outputId": "997a2ef4-e74f-4461-e0ac-86329753776d"
      },
      "execution_count": null,
      "outputs": [
        {
          "output_type": "stream",
          "name": "stdout",
          "text": [
            "DIVISOR DE NÚMEROS\n",
            "Escriba el dividendo: 17\n",
            "Escriba el divisor: 5\n",
            "La división no es exacta. Cociente: 3 \n",
            "Residuo: 2\n"
          ]
        }
      ]
    },
    {
      "cell_type": "markdown",
      "source": [
        "**Problema 3**\n",
        "\n",
        "Escriba un programa que pida el año actual y un año cualquiera y que escriba cuántos años han pasado desde ese año o cuántos años faltan para llegar a ese año."
      ],
      "metadata": {
        "id": "xn4E9AiwTGnb"
      }
    },
    {
      "cell_type": "code",
      "source": [
        "\n",
        "print(\"COMPARADOR DE AÑOS\")\n",
        "fecha_1 = int(input(\"¿En qué año estamos?: \"))#2025\n",
        "fecha_2 = int(input(\"Escriba un año cualquiera: \"))#2030\n",
        "\n",
        "if fecha_1 > fecha_2:\n",
        "    print(f\"Desde el año {fecha_2} han pasado {fecha_1 - fecha_2} años.\")\n",
        "elif fecha_1 < fecha_2:\n",
        "    print(f\"Para llegar al año {fecha_2} faltan {fecha_2 - fecha_1} años.\")\n",
        "else:\n",
        "    print(\"¡Son el mismo año!\")"
      ],
      "metadata": {
        "id": "8Bu6hBvKTKji",
        "colab": {
          "base_uri": "https://localhost:8080/"
        },
        "outputId": "1b6eae92-02cd-4439-95a1-05ee134f21e7"
      },
      "execution_count": null,
      "outputs": [
        {
          "output_type": "stream",
          "name": "stdout",
          "text": [
            "COMPARADOR DE AÑOS\n",
            "¿En qué año estamos?: 2020\n",
            "Escriba un año cualquiera: 2020\n",
            "¡Son el mismo año!\n"
          ]
        }
      ]
    },
    {
      "cell_type": "markdown",
      "source": [
        "# **Ejercicios en Clase**"
      ],
      "metadata": {
        "id": "MJoljBLcBJaB"
      }
    },
    {
      "cell_type": "markdown",
      "source": [
        "###**Ejercicio 1**\n",
        "\n",
        "Escribir un programa que pregunte al usuario su año de nacimiento y muestre por pantalla si es mayor de edad o no. Si es menor de edad, que muestre cuantos años le faltan para ser mayor de edad.\n",
        "\n"
      ],
      "metadata": {
        "id": "I8_fTlmFBXrY"
      }
    },
    {
      "cell_type": "markdown",
      "source": [
        "###**Ejercicio 2**\n",
        "Escriba un programa que pida dos números y que el avise si los numeros ingresados son valores negativos o nulos.\n",
        "\n"
      ],
      "metadata": {
        "id": "8w0D4BmUB3kN"
      }
    },
    {
      "cell_type": "markdown",
      "source": [
        "###**Ejercicio 3**\n",
        "\n",
        "Escriba un programa que pida tres números y que escriba si son los tres iguales, si hay dos iguales o si son los tres distintos.\n",
        "\n"
      ],
      "metadata": {
        "id": "r0jd9YcqCNwb"
      }
    },
    {
      "cell_type": "markdown",
      "source": [
        "###**Ejercicio 4**\n",
        "\n",
        "Si la jornada de trabajo es de **160 horas** mensuales. Escriba un programa que ingrese las horas trabajadas en el mes, calcule dada las horas trabajadas  con el valor por hora. Mostrar su salario e indicar las horas extras si se excede de la jornada de 160 horas mensuales. Las horas extras se pagan 35% mas que la hora normal\n",
        "\n",
        "\n"
      ],
      "metadata": {
        "id": "n-PvFWqqQL5r"
      }
    },
    {
      "cell_type": "code",
      "source": [
        "salario mensual / 23.83 = cobra por dia\n",
        "cobra por dia / 8 =  cobra por hora\n",
        "\n",
        "40 * cobra por hora * 1.35"
      ],
      "metadata": {
        "id": "mBABYh7yKm5a"
      },
      "execution_count": null,
      "outputs": []
    }
  ]
}