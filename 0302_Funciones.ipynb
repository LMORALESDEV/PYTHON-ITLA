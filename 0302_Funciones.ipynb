{
  "nbformat": 4,
  "nbformat_minor": 0,
  "metadata": {
    "colab": {
      "provenance": [],
      "include_colab_link": true
    },
    "kernelspec": {
      "name": "python3",
      "display_name": "Python 3"
    },
    "language_info": {
      "name": "python"
    }
  },
  "cells": [
    {
      "cell_type": "markdown",
      "metadata": {
        "id": "view-in-github",
        "colab_type": "text"
      },
      "source": [
        "<a href=\"https://colab.research.google.com/github/LMORALESDEV/PYTHON-ITLA/blob/main/0302_Funciones.ipynb\" target=\"_parent\"><img src=\"https://colab.research.google.com/assets/colab-badge.svg\" alt=\"Open In Colab\"/></a>"
      ]
    },
    {
      "cell_type": "markdown",
      "metadata": {
        "id": "jjQ3iSwnRKTs"
      },
      "source": [
        "# Temas a tratar\n",
        "\n",
        "1. Cómo definir una función en Python\n",
        "2. Cómo usar o llamar a una función\n",
        "3. Sentencia RETURN\n",
        "4. Argumentos indeterminados o arbitrarios\n",
        "5. Funciones recursivas\n",
        "6. Funciones Integradas"
      ]
    },
    {
      "cell_type": "markdown",
      "metadata": {
        "id": "8vr9y6yBNroM"
      },
      "source": [
        "# Funciones en Python"
      ]
    },
    {
      "cell_type": "markdown",
      "metadata": {
        "id": "gbEvX922Nxtr"
      },
      "source": [
        "*   Una función es un bloque de código que solo se ejecuta cuando se llama o invoca.\n",
        "*   Se puede pasar datos, conocidos como parámetros, a una función.\n",
        "\n",
        "*   Una función puede devolver datos como resultado."
      ]
    },
    {
      "cell_type": "markdown",
      "metadata": {
        "id": "WHX6fGvrAwA-"
      },
      "source": [
        "#Crear una función"
      ]
    },
    {
      "cell_type": "markdown",
      "metadata": {
        "id": "heCC9bfaO4tG"
      },
      "source": [
        "Para crear una función se utiliza la palabra reservada ***def*** seguido del nombre de la función. Luego los paréntesis, dos puntos y el cuerpo de la función que se coloca en las siguientes líneas. Si la función recibe argumentos se colocan dentro de los paréntesis.\n",
        "Para ejecutar la función hay que invocarla. Para invocar la función se coloca el nombre de la función seguido de los paréntisis."
      ]
    },
    {
      "cell_type": "code",
      "metadata": {
        "id": "r-hESQ9bAx3U"
      },
      "source": [
        "def hola():                               #Nombre de la función\n",
        "  print(\"Hola desde la función hola\")     #Cuerpo de la función. Se ejecuta la función print\n",
        "\n",
        "hola()                                    #Se invoca a la función hola()."
      ],
      "execution_count": null,
      "outputs": []
    },
    {
      "cell_type": "markdown",
      "metadata": {
        "id": "NZDl9JP6SdAl"
      },
      "source": [
        "# Parámentro versus Argumento"
      ]
    },
    {
      "cell_type": "markdown",
      "metadata": {
        "id": "ETOFZl9iSj0w"
      },
      "source": [
        "*   Los términos parámetro y argumento pueden usarse para lo mismo: información que se pasa a una función.\n",
        "*   Desde la perspectiva de una función:\n",
        "    *   Un parámetro es la variable listada entre paréntesis en la definición de la función.\n",
        "    *   Un argumento es el valor que se envía a la función cuando se\n",
        "llama o invoca."
      ]
    },
    {
      "cell_type": "markdown",
      "metadata": {
        "id": "8SFYRoVmBAf3"
      },
      "source": [
        "#Argumentos"
      ]
    },
    {
      "cell_type": "markdown",
      "metadata": {
        "id": "zXWZXw2OQyEp"
      },
      "source": [
        "La información que se le pasa a las funciones se les llama argumentos. Los argumentos se definen dentro de los paréntesis y se separan por comas.\n",
        "\n",
        "La función *sumar* tiene definido dos parámetros: *a* y *b*. Cuando se llama a la función, se le pasa los argumentos 4 y 5. La función hace la operación suma e imprime el resultado igual a 9. Luego se vuelve a llamar la función *sumar* con los argumentos 7 y 3 y el resultado es 10."
      ]
    },
    {
      "cell_type": "code",
      "metadata": {
        "id": "g0aaC9LEBKs8",
        "colab": {
          "base_uri": "https://localhost:8080/"
        },
        "outputId": "9adb67fa-5465-4d8b-9306-7db6164ab06b"
      },
      "source": [
        "def sumar(a, b):\n",
        "  resultado = a + b\n",
        "  print(resultado)\n",
        "\n",
        "#Invocar la función\n",
        "sumar(4, 5)\n",
        "sumar(7, 3)"
      ],
      "execution_count": null,
      "outputs": [
        {
          "output_type": "stream",
          "name": "stdout",
          "text": [
            "9\n",
            "10\n"
          ]
        }
      ]
    },
    {
      "cell_type": "markdown",
      "metadata": {
        "id": "u5lCg54MBQnM"
      },
      "source": [
        "#Argumentos arbitrarios o indeterminados: POR POSICION"
      ]
    },
    {
      "cell_type": "markdown",
      "metadata": {
        "id": "o-Cd68AYUDsH"
      },
      "source": [
        "Si no se sabe cuántos argumentos se pasarán a su función, se puede agregar un asterisco (*) antes del nombre del parámetro en la definición de la función. Los parámetros se recibirán en forma de una tupla y se pueden indexar por su posición en la tupla inciando en 0.\n",
        "\n",
        "En este ejemplo la función *mi_funcion* utiliza asterisco antes del parámetro *personas* para recibir los argumentos. Estos serán recibidos en forma de tupla. Con la función *print* se imprime la tupla y luego con la función *print* se imprime la segunda posición de la tupla.\n",
        "\n"
      ]
    },
    {
      "cell_type": "code",
      "metadata": {
        "id": "KsfSGZz5BZ6N",
        "colab": {
          "base_uri": "https://localhost:8080/"
        },
        "outputId": "9a2dd91d-773e-4ba4-91ee-d7cecfaad5a4"
      },
      "source": [
        "#EJEMPLO 1: Imprimir un valor segun su indice\n",
        "def mi_funcion(*personas):\n",
        "  print(personas)\n",
        "  print(\"El nombre de la doctora es: \" + personas[1])\n",
        "\n",
        "#Invocar la función\n",
        "mi_funcion(\"Luis\", \"María\", \"Carlos\", \"Jean\", \"Dilan\",\"Pedro\")\n"
      ],
      "execution_count": null,
      "outputs": [
        {
          "output_type": "stream",
          "name": "stdout",
          "text": [
            "('Luis', 'María', 'Carlos', 'Jean', 'Dilan', 'Pedro')\n",
            "El nombre de la doctora es: María\n"
          ]
        }
      ]
    },
    {
      "cell_type": "code",
      "source": [
        "#EJEMPLO 2: suma de varios numeros\n",
        "def sumar(*numeros):\n",
        "    resultado = 0\n",
        "    for num in numeros:\n",
        "        resultado += num\n",
        "    return resultado\n",
        "\n",
        "print(sumar(1, 2, 3))\n",
        "print(sumar(4, 5, 6, 7,10,12,11,15,20,21,32,100))\n"
      ],
      "metadata": {
        "id": "5qyhRyl-zk4E",
        "colab": {
          "base_uri": "https://localhost:8080/"
        },
        "outputId": "1db3f154-fe75-4064-b82a-edc933456b31"
      },
      "execution_count": null,
      "outputs": [
        {
          "output_type": "stream",
          "name": "stdout",
          "text": [
            "6\n",
            "243\n"
          ]
        }
      ]
    },
    {
      "cell_type": "markdown",
      "metadata": {
        "id": "4lAUzQxfBni7"
      },
      "source": [
        "# Argumentos usando palabras clave"
      ]
    },
    {
      "cell_type": "markdown",
      "metadata": {
        "id": "ufmiNpE8WnOe"
      },
      "source": [
        "También se puede enviar argumentos con la sintaxis *clave = valor*. De esta manera, el orden de los argumentos no importa.\n",
        "\n",
        "En este ejemplo, se le envía los argumentos a la función usando la sintaxis *clave = valor* y aunque se envién en diferente orden, no se afecta el valor que le corresponde a cada argumento."
      ]
    },
    {
      "cell_type": "code",
      "metadata": {
        "id": "jHwaS4y0Bpp0",
        "colab": {
          "base_uri": "https://localhost:8080/"
        },
        "outputId": "de488e3f-647b-4cfa-f91d-d94ea367cae7"
      },
      "source": [
        "def mi_funcion(hijo3, hijo2, hijo1):\n",
        "  print(\"El hijo3 es \" + hijo3)\n",
        "\n",
        "#Invocar la función\n",
        "#mi_funcion(\"Rosa\", \"Ana\", \"María\")\n",
        "mi_funcion(hijo2 = \"Rosa\", hijo1 = \"Ana\", hijo3 = \"María\")"
      ],
      "execution_count": null,
      "outputs": [
        {
          "output_type": "stream",
          "name": "stdout",
          "text": [
            "El hijo3 es María\n"
          ]
        }
      ]
    },
    {
      "cell_type": "markdown",
      "metadata": {
        "id": "IljehvlkBuwb"
      },
      "source": [
        "#Argumentos arbitrarios o indeterminados: POR NOMBRE\n"
      ]
    },
    {
      "cell_type": "markdown",
      "metadata": {
        "id": "VfzpdJ26Xw4j"
      },
      "source": [
        "Si no se sabe cuántos argumentos de palabras clave se pasarán a su función, se agrega dos asteriscos: ** antes del nombre del parámetro en la definición de la función.\n",
        "\n",
        "En este ejemplo, la función recibirá un diccionario de argumentos y podrá acceder a los elementos que se desea indexando el diccionario por la clave."
      ]
    },
    {
      "cell_type": "code",
      "metadata": {
        "id": "lVkHpamLByxk",
        "colab": {
          "base_uri": "https://localhost:8080/"
        },
        "outputId": "42deed00-66f2-4013-9556-08c870e16a4c"
      },
      "source": [
        "#EJEMPLO 1: Recibiendo un diccionario\n",
        "def mi_funcion(**persona):\n",
        "  print(\"Su sector es \" + persona[\"dirreccion\"])\n",
        "\n",
        "#Invocar la función\n",
        "mi_funcion(nombre = \"Ana\", apellido = \"Rojas\", edad = 32, pais = \"RD\", sector=\"San Isidro\")"
      ],
      "execution_count": null,
      "outputs": [
        {
          "output_type": "stream",
          "name": "stdout",
          "text": [
            "Su sector es Calle 32\n"
          ]
        }
      ]
    },
    {
      "cell_type": "code",
      "source": [
        "def imprimir_parametros(**parametros):\n",
        "    for clave, valor in parametros.items():\n",
        "        print(clave + \" = \" + str(valor))\n",
        "\n",
        "imprimir_parametros(nombre=\"Juan\", edad=30, ciudad=\"Madrid\", puesto = \"Asesor\", idioma = \"ES\", genero = \"M\", carrera = \"Ing\")\n"
      ],
      "metadata": {
        "id": "qMi-xqgcAU8G",
        "colab": {
          "base_uri": "https://localhost:8080/"
        },
        "outputId": "607dd7c3-2050-4f50-dfe5-34f5b80584f1"
      },
      "execution_count": null,
      "outputs": [
        {
          "output_type": "stream",
          "name": "stdout",
          "text": [
            "nombre = Juan\n",
            "edad = 30\n",
            "ciudad = Madrid\n",
            "puesto = Asesor\n",
            "idioma = ES\n",
            "genero = M\n",
            "carrera = Ing\n"
          ]
        }
      ]
    },
    {
      "cell_type": "markdown",
      "source": [
        "##Funcion que acepte argumentos indeterminados por POSICION y por NOMBRE"
      ],
      "metadata": {
        "id": "QHvywLaUA68N"
      }
    },
    {
      "cell_type": "markdown",
      "source": [
        "En este ejemplo, la función calcular_precio() toma un argumento obligatorio cantidad, seguido de un número variable de descuentos opcionales y un número variable de impuestos con palabras clave. Los descuentos se restan de la cantidad, y los impuestos se agregan multiplicando la cantidad por su tasa correspondiente. El resultado final es el precio total. En este ejemplo, se le pasa una cantidad de 100, dos descuentos de 10 y 5, y dos impuestos de 18% e 10%. El precio total resultante es 126."
      ],
      "metadata": {
        "id": "B4QYOYi7BIlr"
      }
    },
    {
      "cell_type": "code",
      "source": [
        "def calcular_precio(cantidad, *descuentos, **impuestos):\n",
        "    precio_total = cantidad\n",
        "    for descuento in descuentos:\n",
        "        precio_total -= descuento\n",
        "    for clave, valor in impuestos.items():\n",
        "        precio_total += cantidad * valor\n",
        "    return precio_total\n",
        "\n",
        "total_bruto = float(input(\"Ingrese el subtotal\"))\n",
        "d1 = int(input(\"1er Descuento\"))\n",
        "d2 = int(input(\"2do Descuento\"))\n",
        "d3 = int(input(\"3er Descuento\"))\n",
        "#print(calcular_precio(100, 10 , 7, 5,itbis=0.18, tasa_servicio=0.05, envio = 0.10, comision = 0.03 ))\n",
        "print(calcular_precio(total_bruto, d1, d2, d3 ))\n",
        "#print(calcular_precio(total_bruto, imp_global = .33 ))\n"
      ],
      "metadata": {
        "id": "xiLGi2UNBKOz",
        "colab": {
          "base_uri": "https://localhost:8080/"
        },
        "outputId": "1edc7950-3551-4528-ffb9-ffda9da3892e"
      },
      "execution_count": null,
      "outputs": [
        {
          "output_type": "stream",
          "name": "stdout",
          "text": [
            "Ingrese el subtotal150\n",
            "1er Descuento10\n",
            "2do Descuento15\n",
            "3er Descuento5\n",
            "120.0\n"
          ]
        }
      ]
    },
    {
      "cell_type": "markdown",
      "metadata": {
        "id": "XNoC7W2jB2Xc"
      },
      "source": [
        "#Valor de parámetro predeterminado"
      ]
    },
    {
      "cell_type": "markdown",
      "metadata": {
        "id": "ia4mT792YqqB"
      },
      "source": [
        "Un valor de parámetro predeterminado se utiliza para cuando no se le envía argumentos a una función. Entonces la función utiliza el parámetro predeterminado.\n",
        "\n",
        "En este ejemplo, Si llamamos a la función sin argumento, utiliza el valor predeterminado que es *Costa Rica*."
      ]
    },
    {
      "cell_type": "code",
      "metadata": {
        "id": "9qfAiqmFB4tT",
        "colab": {
          "base_uri": "https://localhost:8080/",
          "height": 233
        },
        "outputId": "fc532f25-14af-4a1c-bfbe-a200224cc63c"
      },
      "source": [
        "def mi_funcion(país = \"Costa Rica\" ):\n",
        "  print(\"Yo soy de  \" + país)\n",
        "\n",
        "#Invocar a la función\n",
        "mi_funcion(\"Nicaragua\")\n",
        "mi_funcion(\"España\")\n",
        "mi_funcion()\n",
        "mi_funcion(\"Brazil\")"
      ],
      "execution_count": null,
      "outputs": [
        {
          "output_type": "stream",
          "name": "stdout",
          "text": [
            "Yo soy de  Nicaragua\n",
            "Yo soy de  España\n"
          ]
        },
        {
          "output_type": "error",
          "ename": "TypeError",
          "evalue": "mi_funcion() missing 1 required positional argument: 'país'",
          "traceback": [
            "\u001b[0;31m---------------------------------------------------------------------------\u001b[0m",
            "\u001b[0;31mTypeError\u001b[0m                                 Traceback (most recent call last)",
            "\u001b[0;32m<ipython-input-19-2f3f040b0c14>\u001b[0m in \u001b[0;36m<cell line: 0>\u001b[0;34m()\u001b[0m\n\u001b[1;32m      5\u001b[0m \u001b[0mmi_funcion\u001b[0m\u001b[0;34m(\u001b[0m\u001b[0;34m\"Nicaragua\"\u001b[0m\u001b[0;34m)\u001b[0m\u001b[0;34m\u001b[0m\u001b[0;34m\u001b[0m\u001b[0m\n\u001b[1;32m      6\u001b[0m \u001b[0mmi_funcion\u001b[0m\u001b[0;34m(\u001b[0m\u001b[0;34m\"España\"\u001b[0m\u001b[0;34m)\u001b[0m\u001b[0;34m\u001b[0m\u001b[0;34m\u001b[0m\u001b[0m\n\u001b[0;32m----> 7\u001b[0;31m \u001b[0mmi_funcion\u001b[0m\u001b[0;34m(\u001b[0m\u001b[0;34m)\u001b[0m\u001b[0;34m\u001b[0m\u001b[0;34m\u001b[0m\u001b[0m\n\u001b[0m\u001b[1;32m      8\u001b[0m \u001b[0mmi_funcion\u001b[0m\u001b[0;34m(\u001b[0m\u001b[0;34m\"Brazil\"\u001b[0m\u001b[0;34m)\u001b[0m\u001b[0;34m\u001b[0m\u001b[0;34m\u001b[0m\u001b[0m\n",
            "\u001b[0;31mTypeError\u001b[0m: mi_funcion() missing 1 required positional argument: 'país'"
          ]
        }
      ]
    },
    {
      "cell_type": "markdown",
      "metadata": {
        "id": "2OYiUEIsCAeD"
      },
      "source": [
        "#Pasar una lista como argumento"
      ]
    },
    {
      "cell_type": "markdown",
      "metadata": {
        "id": "vs-qNeCIZD_e"
      },
      "source": [
        "Se puede enviar cualquier tipo de argumento de datos a una función (cadena, número, lista, diccionario, etc.), y se tratará como el mismo tipo de datos dentro de la función.\n",
        "\n",
        "En este ejemplo, se le envía una lista como parámetro a la función."
      ]
    },
    {
      "cell_type": "code",
      "metadata": {
        "id": "1ab-deBdCB6j",
        "colab": {
          "base_uri": "https://localhost:8080/"
        },
        "outputId": "eeb5a938-511c-494d-a34b-d7adaced84d1"
      },
      "source": [
        "def mi_funcion(personas):\n",
        "  print(type(personas))\n",
        "  for x in personas:\n",
        "    print(x)\n",
        "\n",
        "#Invocar a la función\n",
        "personas = [\"Ana\", \"Carlos\", \"Rosa\"]\n",
        "mi_funcion(personas)"
      ],
      "execution_count": null,
      "outputs": [
        {
          "output_type": "stream",
          "name": "stdout",
          "text": [
            "<class 'list'>\n",
            "Ana\n",
            "Carlos\n",
            "Rosa\n"
          ]
        }
      ]
    },
    {
      "cell_type": "markdown",
      "metadata": {
        "id": "WcpD74ebCHmi"
      },
      "source": [
        "#Valores de retorno"
      ]
    },
    {
      "cell_type": "markdown",
      "metadata": {
        "id": "oszOjkp-Z5Hq"
      },
      "source": [
        "Para permitir que una función devuelva un valor, se usa la instrucción *return*.\n",
        "\n",
        "En este ejemplo, la función retorna el valor de la variable resultado al lugar donde fue invocada la función. Ese valor que retorna la función puede ser almacenado en una variable y ser utilizado para otras cálculos."
      ]
    },
    {
      "cell_type": "code",
      "metadata": {
        "id": "Bl93-u6sCJSz",
        "colab": {
          "base_uri": "https://localhost:8080/"
        },
        "outputId": "e33537aa-0e02-4243-f86c-0b05820cb88e"
      },
      "source": [
        "def mi_funcion(a, b):\n",
        "  resultado = a + b\n",
        "  return resultado\n",
        "\n",
        "#Invocar a la función\n",
        "respuesta = mi_funcion(4, 4)\n",
        "print(respuesta)\n",
        "\n",
        "respuesta = mi_funcion(9, 5)\n",
        "respuesta = respuesta + 3\n",
        "print(respuesta)"
      ],
      "execution_count": null,
      "outputs": [
        {
          "output_type": "stream",
          "name": "stdout",
          "text": [
            "8\n",
            "17\n"
          ]
        }
      ]
    },
    {
      "cell_type": "markdown",
      "metadata": {
        "id": "_T7QP3bECZS8"
      },
      "source": [
        "#La declaración pass"
      ]
    },
    {
      "cell_type": "markdown",
      "metadata": {
        "id": "rz1KU3UJag1g"
      },
      "source": [
        " Las definiciones de funciones no pueden estar vacías, pero si por alguna razón se tiene una definición de función sin contenido, se ingresa la instrucción  *pass* para evitar un error."
      ]
    },
    {
      "cell_type": "code",
      "metadata": {
        "id": "Ibg03fRiap5t",
        "colab": {
          "base_uri": "https://localhost:8080/",
          "height": 108
        },
        "outputId": "adf91262-225f-4d37-90c6-e98c9f8356c2"
      },
      "source": [
        "# Esta definición vacía genera un error.\n",
        "def mi_funcion():"
      ],
      "execution_count": null,
      "outputs": [
        {
          "output_type": "error",
          "ename": "SyntaxError",
          "evalue": "incomplete input (<ipython-input-22-dffc93435264>, line 2)",
          "traceback": [
            "\u001b[0;36m  File \u001b[0;32m\"<ipython-input-22-dffc93435264>\"\u001b[0;36m, line \u001b[0;32m2\u001b[0m\n\u001b[0;31m    def mi_funcion():\u001b[0m\n\u001b[0m                     ^\u001b[0m\n\u001b[0;31mSyntaxError\u001b[0m\u001b[0;31m:\u001b[0m incomplete input\n"
          ]
        }
      ]
    },
    {
      "cell_type": "code",
      "metadata": {
        "id": "KQ4nejyZCdzT"
      },
      "source": [
        "def mi_funcion():\n",
        "    pass"
      ],
      "execution_count": null,
      "outputs": []
    },
    {
      "cell_type": "markdown",
      "metadata": {
        "id": "YXk5FWyebG70"
      },
      "source": [
        "# Funciones Integradas\n",
        "\n",
        "Las funciones integradas (también conocidas como funciones incorporadas o funciones predefinidas) son funciones que vienen incluidas en el lenguaje Python y se pueden usar directamente en cualquier programa sin necesidad de definirlas previamente.\n",
        "\n",
        "\n",
        "**print(), input(), type(), int(), str(),float(), etc...** son algunas de las mas conocidas.\n",
        "\n",
        "\n",
        "A continuación un listado de las funciones integradas no tan comunes.\n",
        "\n"
      ]
    },
    {
      "cell_type": "markdown",
      "source": [
        "**range()**: Genera una secuencia de números enteros."
      ],
      "metadata": {
        "id": "xHtuZXd5F-jj"
      }
    },
    {
      "cell_type": "code",
      "source": [
        "secuencia = range(5)\n",
        "for num in secuencia:\n",
        "    print(num)"
      ],
      "metadata": {
        "id": "XOyfN7aDFyXB"
      },
      "execution_count": null,
      "outputs": []
    },
    {
      "cell_type": "markdown",
      "source": [
        "**abs()**: Devuelve el valor absoluto de un número."
      ],
      "metadata": {
        "id": "eM7V1ODxGDUF"
      }
    },
    {
      "cell_type": "code",
      "source": [
        "numero = -5\n",
        "print(abs(numero))"
      ],
      "metadata": {
        "id": "trvhKmryGGm6",
        "colab": {
          "base_uri": "https://localhost:8080/"
        },
        "outputId": "3cf4d3d1-7366-42d0-fb9a-6c63f8a9c86f"
      },
      "execution_count": null,
      "outputs": [
        {
          "output_type": "stream",
          "name": "stdout",
          "text": [
            "5\n"
          ]
        }
      ]
    },
    {
      "cell_type": "markdown",
      "source": [
        "**max(), min()**: Devuelve el valor máximo o mínimo de una secuencia de valores."
      ],
      "metadata": {
        "id": "rBzgV21WGOZ4"
      }
    },
    {
      "cell_type": "code",
      "source": [
        "numeros = [1, 5, 3, 7, 2]\n",
        "print(max(numeros))\n",
        "print(min(numeros))"
      ],
      "metadata": {
        "id": "3IZHlaZVGTsf",
        "colab": {
          "base_uri": "https://localhost:8080/"
        },
        "outputId": "d3c4fb32-dc52-43e8-c719-e9e0a772457f"
      },
      "execution_count": null,
      "outputs": [
        {
          "output_type": "stream",
          "name": "stdout",
          "text": [
            "7\n",
            "1\n"
          ]
        }
      ]
    },
    {
      "cell_type": "markdown",
      "source": [
        "**enumerate()**: Devuelve un objeto enumerado que contiene pares (índice, valor) de una secuencia."
      ],
      "metadata": {
        "id": "8WUAvsjvGXBa"
      }
    },
    {
      "cell_type": "code",
      "source": [
        "nombres = [\"Juan\", \"María\", \"Pedro\"]\n",
        "for x, y in enumerate(nombres):\n",
        "    print(x, y)"
      ],
      "metadata": {
        "id": "RksG798rGj9F",
        "colab": {
          "base_uri": "https://localhost:8080/"
        },
        "outputId": "bbb6990d-b798-4e12-a27f-43ac9efc1b08"
      },
      "execution_count": null,
      "outputs": [
        {
          "output_type": "stream",
          "name": "stdout",
          "text": [
            "0 Juan\n",
            "1 María\n",
            "2 Pedro\n"
          ]
        }
      ]
    },
    {
      "cell_type": "markdown",
      "source": [
        "**bin()**: Conversión de entero a binario."
      ],
      "metadata": {
        "id": "i2d1GxLZGtiG"
      }
    },
    {
      "cell_type": "code",
      "source": [
        "bin(100)"
      ],
      "metadata": {
        "colab": {
          "base_uri": "https://localhost:8080/",
          "height": 35
        },
        "id": "pf0Aq6M4GxSu",
        "outputId": "98cb9a18-6839-4711-f257-412558ad256b"
      },
      "execution_count": null,
      "outputs": [
        {
          "output_type": "execute_result",
          "data": {
            "text/plain": [
              "'0b1100100'"
            ],
            "application/vnd.google.colaboratory.intrinsic+json": {
              "type": "string"
            }
          },
          "metadata": {},
          "execution_count": 27
        }
      ]
    },
    {
      "cell_type": "markdown",
      "source": [
        "**round()**: Redondeo de un flotante a entero, menor de .5 a la baja, mayor o igual a .5 al alza."
      ],
      "metadata": {
        "id": "pRF325kDG0Y4"
      }
    },
    {
      "cell_type": "code",
      "source": [
        "print(round(7.5))\n",
        "print(round(7.4))"
      ],
      "metadata": {
        "colab": {
          "base_uri": "https://localhost:8080/"
        },
        "id": "99T6JYxqG7Mf",
        "outputId": "64dee117-600e-42b4-fe93-5b8a19d268d8"
      },
      "execution_count": null,
      "outputs": [
        {
          "output_type": "stream",
          "name": "stdout",
          "text": [
            "8\n",
            "7\n"
          ]
        }
      ]
    },
    {
      "cell_type": "markdown",
      "source": [
        "**eval()**: Evalúa una cadena como una expresión, acepta variables si se han definido anteriormente.\n"
      ],
      "metadata": {
        "id": "o_PKvESPG9sm"
      }
    },
    {
      "cell_type": "code",
      "source": [
        "#Ejemplo 1\n",
        "eval('8 + 5')\n",
        "\n",
        "#Ejemplo 2\n",
        "v = 10\n",
        "a = int(input())\n",
        "eval('2+v+a')"
      ],
      "metadata": {
        "colab": {
          "base_uri": "https://localhost:8080/"
        },
        "id": "Sqt21JI9HFch",
        "outputId": "871e1867-7722-42f9-eeed-50585a6d236d"
      },
      "execution_count": null,
      "outputs": [
        {
          "name": "stdout",
          "output_type": "stream",
          "text": [
            "15\n"
          ]
        },
        {
          "output_type": "execute_result",
          "data": {
            "text/plain": [
              "27"
            ]
          },
          "metadata": {},
          "execution_count": 26
        }
      ]
    },
    {
      "cell_type": "markdown",
      "source": [
        "**help()**: Invoca el menú de ayuda del intérprete de Python."
      ],
      "metadata": {
        "id": "OnGTAGGZHdKz"
      }
    },
    {
      "cell_type": "code",
      "source": [
        "help()"
      ],
      "metadata": {
        "id": "WgBFGyJFHiXL"
      },
      "execution_count": null,
      "outputs": []
    },
    {
      "cell_type": "markdown",
      "source": [
        "#Funciones Recursivas\n",
        "\n",
        "Se trata de funciones que se llaman a sí mismas durante su propia ejecución. Funcionan de forma similar a las **iteraciones**, pero debemos encargarnos de planificar el momento en que dejan de llamarse a sí mismas o tendremos una función rescursiva infinita.\n",
        "\n",
        "Suele utilizarse para **dividir una tarea en subtareas** más simples de forma que sea más fácil abordar el problema y solucionarlo."
      ],
      "metadata": {
        "id": "aGNJoSMqHzCa"
      }
    },
    {
      "cell_type": "markdown",
      "source": [
        "##Ejemplo de Función SIN retorno(RETURN)\n",
        "\n",
        "Cuenta regresiva hasta cero a partir de un número:\n"
      ],
      "metadata": {
        "id": "ntQ2jRm4Ixsg"
      }
    },
    {
      "cell_type": "code",
      "source": [
        "def cuenta_regresiva(num):\n",
        "    num -= 1\n",
        "    if num > 0:\n",
        "        print(num)\n",
        "        cuenta_regresiva(num) #Llamado de la función\n",
        "    else:\n",
        "        print(\"FIN DE LA CUENTA REGRESIVA!\")\n",
        "\n",
        "cuenta_regresiva(10)"
      ],
      "metadata": {
        "id": "FFTj4UL7IMsg",
        "colab": {
          "base_uri": "https://localhost:8080/"
        },
        "outputId": "cd503e63-c1ef-47da-e79a-eb04854afc21"
      },
      "execution_count": null,
      "outputs": [
        {
          "output_type": "stream",
          "name": "stdout",
          "text": [
            "9\n",
            "8\n",
            "7\n",
            "6\n",
            "5\n",
            "4\n",
            "3\n",
            "2\n",
            "1\n",
            "FIN DE LA CUENTA REGRESIVA!\n"
          ]
        }
      ]
    },
    {
      "cell_type": "markdown",
      "source": [
        "##Ejemplo de Función CON retorno(RETURN)"
      ],
      "metadata": {
        "id": "8LNvZY5kOWog"
      }
    },
    {
      "cell_type": "markdown",
      "source": [
        "##Factorial de un numero\n",
        "\n",
        "El factorial de un número corresponde al producto de todos los números desde 1 hasta el propio número. Es el ejemplo con retorno más utilizado para mostrar la utilidad de este tipo de funciones:\n",
        "\n",
        "Ejemplos:\n",
        "\n",
        "**Factorial de 3!** = 1 x 2 x 3 = 6\n",
        "\n",
        "**Factorial de 5!** = 1 x 2 x 3 x 4 x 5 = 120\n",
        "\n"
      ],
      "metadata": {
        "id": "wCtcKFumOrHC"
      }
    },
    {
      "cell_type": "code",
      "source": [
        "def factorial(n):\n",
        "    #Si n es 0, el factorial es 1\n",
        "    if n == 0:\n",
        "        return 1\n",
        "    else:\n",
        "        # el factorial de n es n multiplicado por el factorial de n-1\n",
        "        return n * factorial(n-1)\n",
        "\n",
        "fact = int(input(\"Que numero desea buscar el factorial -> \"))\n",
        "print(factorial(fact))"
      ],
      "metadata": {
        "id": "wYThHbJcOtlE",
        "colab": {
          "base_uri": "https://localhost:8080/"
        },
        "outputId": "da8e3680-12d3-44b8-ef95-d758c5d0d8b4"
      },
      "execution_count": null,
      "outputs": [
        {
          "output_type": "stream",
          "name": "stdout",
          "text": [
            "Que numero desea buscar el factorial -> 5\n",
            "120\n"
          ]
        }
      ]
    },
    {
      "cell_type": "markdown",
      "source": [
        "##Suma de los primeros \"n\" números naturales:"
      ],
      "metadata": {
        "id": "VXMRIX_weO2A"
      }
    },
    {
      "cell_type": "code",
      "source": [
        "def suma(n):\n",
        "    #Si n es igual 1, la suma de 1 es 1\n",
        "    if n == 1:\n",
        "        return 1\n",
        "    else:\n",
        "        #La suma de los primeros n números es n más la suma de los primeros n-1 números\n",
        "        return n + suma(n-1)\n",
        "\n",
        "sumatoria = int(input(\"Que numero desea buscar la sumatoria -> \"))\n",
        "print(suma(sumatoria))\n"
      ],
      "metadata": {
        "id": "VqHC7BBseWpK",
        "colab": {
          "base_uri": "https://localhost:8080/"
        },
        "outputId": "01790919-5230-42a4-bd69-afa4e80cabac"
      },
      "execution_count": null,
      "outputs": [
        {
          "output_type": "stream",
          "name": "stdout",
          "text": [
            "Que numero desea buscar la sumatoria -> 10\n",
            "55\n"
          ]
        }
      ]
    },
    {
      "cell_type": "markdown",
      "source": [
        "##Cálculo del máximo común divisor (MCD) de dos números usando el algoritmo de Euclides:\n",
        "\n",
        "\"Euclides explica que el máximo común divisor de dos números se puede encontrar dividiendo el número mayor por el número menor. Si la división es exacta, el m.c.d. es el número menor. Si la división no es exacta, entonces se toma el residuo, y se divide tantas veces como haga falta para llegar a una división sin residuo. El m.c.d. es el último número por cuál se puede dividir.\""
      ],
      "metadata": {
        "id": "pyaIOQfzfLr6"
      }
    },
    {
      "cell_type": "code",
      "source": [
        "def mcd(a, b):\n",
        "    #Si b es 0, el MCD es a\n",
        "    if b == 0:\n",
        "        return a\n",
        "    else:\n",
        "        #El MCD de a y b es igual al MCD de b y el resto de a dividido por b\n",
        "        return mcd(b, a % b)\n",
        "\n",
        "a = int(input(\"Cual es el menor valor -> \"))\n",
        "b = int(input(\"Cual es el mayor valor -> \"))\n",
        "print(mcd(a, b))\n"
      ],
      "metadata": {
        "id": "VmB2srZyfK7i"
      },
      "execution_count": null,
      "outputs": []
    }
  ]
}